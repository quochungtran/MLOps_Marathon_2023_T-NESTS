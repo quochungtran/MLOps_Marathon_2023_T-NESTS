{
 "cells": [
  {
   "cell_type": "markdown",
   "metadata": {},
   "source": [
    "# RandomForestRegressor Scikit-learn Model Example\n",
    "This example trains an RandomForestRegressor with the diabetes dataset and logs hyperparameters, metrics, and trained model.\n",
    "\n",
    "Like the other RandomForestRegressor example, we enable autologging for RandomForestRegressor scikit-learn models via mlflow.RandomForestRegressor.autolog(). Saving / loading models also supports RandomForestRegressor scikit-learn models.\n"
   ]
  },
  {
   "cell_type": "markdown",
   "metadata": {},
   "source": [
    "# Get Started \n",
    "\n",
    "# Reference at https://github.com/mlflow/mlflow/tree/master/examples\n",
    "# Quickstart : https://mlflow.org/docs/latest/quickstart.html\n"
   ]
  },
  {
   "cell_type": "code",
   "execution_count": 1,
   "metadata": {},
   "outputs": [
    {
     "name": "stdout",
     "output_type": "stream",
     "text": [
      "Requirement already satisfied: mlflow in /Users/minhthy1016/miniconda3/lib/python3.8/site-packages (2.3.2)\n",
      "Requirement already satisfied: protobuf<5,>=3.12.0 in /Users/minhthy1016/miniconda3/lib/python3.8/site-packages (from mlflow) (3.20.1)\n",
      "Requirement already satisfied: docker<7,>=4.0.0 in /Users/minhthy1016/miniconda3/lib/python3.8/site-packages (from mlflow) (6.1.3)\n",
      "Requirement already satisfied: scikit-learn<2 in /Users/minhthy1016/miniconda3/lib/python3.8/site-packages (from mlflow) (1.2.2)\n",
      "Requirement already satisfied: gitpython<4,>=2.1.0 in /Users/minhthy1016/miniconda3/lib/python3.8/site-packages (from mlflow) (3.1.31)\n",
      "Requirement already satisfied: markdown<4,>=3.3 in /Users/minhthy1016/miniconda3/lib/python3.8/site-packages (from mlflow) (3.4.3)\n",
      "Requirement already satisfied: pyarrow<12,>=4.0.0 in /Users/minhthy1016/miniconda3/lib/python3.8/site-packages (from mlflow) (11.0.0)\n",
      "Requirement already satisfied: Jinja2<4,>=2.11; platform_system != \"Windows\" in /Users/minhthy1016/miniconda3/lib/python3.8/site-packages (from mlflow) (3.1.2)\n",
      "Requirement already satisfied: matplotlib<4 in /Users/minhthy1016/miniconda3/lib/python3.8/site-packages (from mlflow) (3.7.1)\n",
      "Requirement already satisfied: pyyaml<7,>=5.1 in /Users/minhthy1016/miniconda3/lib/python3.8/site-packages (from mlflow) (6.0)\n",
      "Requirement already satisfied: pytz<2024 in /Users/minhthy1016/miniconda3/lib/python3.8/site-packages (from mlflow) (2022.7)\n",
      "Requirement already satisfied: entrypoints<1 in /Users/minhthy1016/miniconda3/lib/python3.8/site-packages (from mlflow) (0.4)\n",
      "Requirement already satisfied: cloudpickle<3 in /Users/minhthy1016/miniconda3/lib/python3.8/site-packages (from mlflow) (2.2.1)\n",
      "Requirement already satisfied: click<9,>=7.0 in /Users/minhthy1016/miniconda3/lib/python3.8/site-packages (from mlflow) (8.1.3)\n",
      "Requirement already satisfied: Flask<3 in /Users/minhthy1016/miniconda3/lib/python3.8/site-packages (from mlflow) (2.3.2)\n",
      "Requirement already satisfied: importlib-metadata!=4.7.0,<7,>=3.7.0 in /Users/minhthy1016/miniconda3/lib/python3.8/site-packages (from mlflow) (6.0.0)\n",
      "Requirement already satisfied: pandas<3 in /Users/minhthy1016/miniconda3/lib/python3.8/site-packages (from mlflow) (2.0.1)\n",
      "Requirement already satisfied: scipy<2 in /Users/minhthy1016/miniconda3/lib/python3.8/site-packages (from mlflow) (1.10.1)\n",
      "Requirement already satisfied: gunicorn<21; platform_system != \"Windows\" in /Users/minhthy1016/miniconda3/lib/python3.8/site-packages (from mlflow) (20.1.0)\n",
      "Requirement already satisfied: alembic!=1.10.0,<2 in /Users/minhthy1016/miniconda3/lib/python3.8/site-packages (from mlflow) (1.11.1)\n",
      "Requirement already satisfied: sqlparse<1,>=0.4.0 in /Users/minhthy1016/miniconda3/lib/python3.8/site-packages (from mlflow) (0.4.3)\n",
      "Requirement already satisfied: requests<3,>=2.17.3 in /Users/minhthy1016/miniconda3/lib/python3.8/site-packages (from mlflow) (2.24.0)\n",
      "Requirement already satisfied: querystring-parser<2 in /Users/minhthy1016/miniconda3/lib/python3.8/site-packages (from mlflow) (1.2.4)\n",
      "Requirement already satisfied: databricks-cli<1,>=0.8.7 in /Users/minhthy1016/miniconda3/lib/python3.8/site-packages (from mlflow) (0.17.7)\n",
      "Requirement already satisfied: sqlalchemy<3,>=1.4.0 in /Users/minhthy1016/miniconda3/lib/python3.8/site-packages (from mlflow) (1.4.45)\n",
      "Requirement already satisfied: numpy<2 in /Users/minhthy1016/miniconda3/lib/python3.8/site-packages (from mlflow) (1.24.3)\n",
      "Requirement already satisfied: packaging<24 in /Users/minhthy1016/miniconda3/lib/python3.8/site-packages (from mlflow) (23.0)\n",
      "Requirement already satisfied: websocket-client>=0.32.0 in /Users/minhthy1016/miniconda3/lib/python3.8/site-packages (from docker<7,>=4.0.0->mlflow) (1.3.3)\n",
      "Collecting urllib3>=1.26.0\n",
      "  Downloading urllib3-2.0.3-py3-none-any.whl (123 kB)\n",
      "\u001b[K     |████████████████████████████████| 123 kB 1.0 MB/s eta 0:00:01\n",
      "\u001b[?25hRequirement already satisfied: threadpoolctl>=2.0.0 in /Users/minhthy1016/miniconda3/lib/python3.8/site-packages (from scikit-learn<2->mlflow) (3.1.0)\n",
      "Requirement already satisfied: joblib>=1.1.1 in /Users/minhthy1016/miniconda3/lib/python3.8/site-packages (from scikit-learn<2->mlflow) (1.2.0)\n",
      "Requirement already satisfied: gitdb<5,>=4.0.1 in /Users/minhthy1016/miniconda3/lib/python3.8/site-packages (from gitpython<4,>=2.1.0->mlflow) (4.0.10)\n",
      "Requirement already satisfied: MarkupSafe>=2.0 in /Users/minhthy1016/miniconda3/lib/python3.8/site-packages (from Jinja2<4,>=2.11; platform_system != \"Windows\"->mlflow) (2.1.1)\n",
      "Requirement already satisfied: importlib-resources>=3.2.0; python_version < \"3.10\" in /Users/minhthy1016/miniconda3/lib/python3.8/site-packages (from matplotlib<4->mlflow) (5.9.0)\n",
      "Requirement already satisfied: pillow>=6.2.0 in /Users/minhthy1016/miniconda3/lib/python3.8/site-packages (from matplotlib<4->mlflow) (9.5.0)\n",
      "Requirement already satisfied: contourpy>=1.0.1 in /Users/minhthy1016/miniconda3/lib/python3.8/site-packages (from matplotlib<4->mlflow) (1.1.0)\n",
      "Requirement already satisfied: kiwisolver>=1.0.1 in /Users/minhthy1016/miniconda3/lib/python3.8/site-packages (from matplotlib<4->mlflow) (1.4.4)\n",
      "Requirement already satisfied: pyparsing>=2.3.1 in /Users/minhthy1016/miniconda3/lib/python3.8/site-packages (from matplotlib<4->mlflow) (3.0.9)\n",
      "Requirement already satisfied: python-dateutil>=2.7 in /Users/minhthy1016/miniconda3/lib/python3.8/site-packages (from matplotlib<4->mlflow) (2.8.2)\n",
      "Requirement already satisfied: cycler>=0.10 in /Users/minhthy1016/miniconda3/lib/python3.8/site-packages (from matplotlib<4->mlflow) (0.11.0)\n",
      "Requirement already satisfied: fonttools>=4.22.0 in /Users/minhthy1016/miniconda3/lib/python3.8/site-packages (from matplotlib<4->mlflow) (4.40.0)\n",
      "Requirement already satisfied: Werkzeug>=2.3.3 in /Users/minhthy1016/miniconda3/lib/python3.8/site-packages (from Flask<3->mlflow) (2.3.6)\n",
      "Requirement already satisfied: itsdangerous>=2.1.2 in /Users/minhthy1016/miniconda3/lib/python3.8/site-packages (from Flask<3->mlflow) (2.1.2)\n",
      "Requirement already satisfied: blinker>=1.6.2 in /Users/minhthy1016/miniconda3/lib/python3.8/site-packages (from Flask<3->mlflow) (1.6.2)\n",
      "Requirement already satisfied: zipp>=0.5 in /Users/minhthy1016/miniconda3/lib/python3.8/site-packages (from importlib-metadata!=4.7.0,<7,>=3.7.0->mlflow) (3.11.0)\n",
      "Requirement already satisfied: tzdata>=2022.1 in /Users/minhthy1016/miniconda3/lib/python3.8/site-packages (from pandas<3->mlflow) (2023.3)\n",
      "Requirement already satisfied: setuptools>=3.0 in /Users/minhthy1016/miniconda3/lib/python3.8/site-packages (from gunicorn<21; platform_system != \"Windows\"->mlflow) (50.3.1.post20201107)\n",
      "Requirement already satisfied: Mako in /Users/minhthy1016/miniconda3/lib/python3.8/site-packages (from alembic!=1.10.0,<2->mlflow) (1.2.4)\n",
      "Requirement already satisfied: typing-extensions>=4 in /Users/minhthy1016/miniconda3/lib/python3.8/site-packages (from alembic!=1.10.0,<2->mlflow) (4.4.0)\n",
      "Requirement already satisfied: idna<3,>=2.5 in /Users/minhthy1016/miniconda3/lib/python3.8/site-packages (from requests<3,>=2.17.3->mlflow) (2.10)\n",
      "Requirement already satisfied: chardet<4,>=3.0.2 in /Users/minhthy1016/miniconda3/lib/python3.8/site-packages (from requests<3,>=2.17.3->mlflow) (3.0.4)\n",
      "Requirement already satisfied: certifi>=2017.4.17 in /Users/minhthy1016/miniconda3/lib/python3.8/site-packages (from requests<3,>=2.17.3->mlflow) (2022.12.7)\n",
      "Requirement already satisfied: six in /Users/minhthy1016/miniconda3/lib/python3.8/site-packages (from querystring-parser<2->mlflow) (1.15.0)\n",
      "Requirement already satisfied: oauthlib>=3.1.0 in /Users/minhthy1016/miniconda3/lib/python3.8/site-packages (from databricks-cli<1,>=0.8.7->mlflow) (3.2.2)\n",
      "Requirement already satisfied: pyjwt>=1.7.0 in /Users/minhthy1016/miniconda3/lib/python3.8/site-packages (from databricks-cli<1,>=0.8.7->mlflow) (2.7.0)\n",
      "Requirement already satisfied: tabulate>=0.7.7 in /Users/minhthy1016/miniconda3/lib/python3.8/site-packages (from databricks-cli<1,>=0.8.7->mlflow) (0.9.0)\n",
      "Requirement already satisfied: greenlet!=0.4.17; python_version >= \"3\" and (platform_machine == \"aarch64\" or (platform_machine == \"ppc64le\" or (platform_machine == \"x86_64\" or (platform_machine == \"amd64\" or (platform_machine == \"AMD64\" or (platform_machine == \"win32\" or platform_machine == \"WIN32\")))))) in /Users/minhthy1016/miniconda3/lib/python3.8/site-packages (from sqlalchemy<3,>=1.4.0->mlflow) (2.0.1)\n",
      "Requirement already satisfied: smmap<6,>=3.0.1 in /Users/minhthy1016/miniconda3/lib/python3.8/site-packages (from gitdb<5,>=4.0.1->gitpython<4,>=2.1.0->mlflow) (5.0.0)\n",
      "Installing collected packages: urllib3\n",
      "  Attempting uninstall: urllib3\n",
      "    Found existing installation: urllib3 1.25.11\n",
      "    Uninstalling urllib3-1.25.11:\n",
      "      Successfully uninstalled urllib3-1.25.11\n",
      "\u001b[31mERROR: After October 2020 you may experience errors when installing or updating packages. This is because pip will change the way that it resolves dependency conflicts.\n",
      "\n",
      "We recommend you use --use-feature=2020-resolver to test your packages with the new resolver before it becomes the default.\n",
      "\n",
      "requests 2.24.0 requires urllib3!=1.25.0,!=1.25.1,<1.26,>=1.21.1, but you'll have urllib3 2.0.3 which is incompatible.\n",
      "docker 6.1.3 requires requests>=2.26.0, but you'll have requests 2.24.0 which is incompatible.\n",
      "databricks-cli 0.17.7 requires urllib3<2.0.0,>=1.26.7, but you'll have urllib3 2.0.3 which is incompatible.\n",
      "botocore 1.27.63 requires urllib3<1.27,>=1.25.4, but you'll have urllib3 2.0.3 which is incompatible.\u001b[0m\n",
      "Successfully installed urllib3-2.0.3\n",
      "Note: you may need to restart the kernel to use updated packages.\n"
     ]
    }
   ],
   "source": [
    "pip install mlflow"
   ]
  },
  {
   "cell_type": "code",
   "execution_count": 19,
   "metadata": {},
   "outputs": [
    {
     "name": "stderr",
     "output_type": "stream",
     "text": [
      "2023/07/02 00:35:54 INFO mlflow.tracking.fluent: Autologging successfully enabled for sklearn.\n",
      "2023/07/02 00:35:54 INFO mlflow.tracking.fluent: Autologging successfully enabled for pyspark.\n"
     ]
    },
    {
     "name": "stdout",
     "output_type": "stream",
     "text": [
      "Run ID: 12bd191f0a5c4b1cbe2aefc5b1401a8b\n",
      "  Accuracy Score: 0.7814019153641414\n",
      "  RMSE: 56.47667079630999\n",
      "  MAE: 45.18754060232396\n",
      "  R2: 0.44017027450939816\n"
     ]
    }
   ],
   "source": [
    "import mlflow\n",
    "from mlflow.models.signature import infer_signature\n",
    "\n",
    "from sklearn.model_selection import train_test_split\n",
    "from sklearn.datasets import load_diabetes\n",
    "from sklearn.ensemble import RandomForestRegressor\n",
    "from sklearn.metrics import (\n",
    "    f1_score,\n",
    "    accuracy_score,\n",
    "    recall_score,\n",
    "    precision_score,\n",
    "    ConfusionMatrixDisplay,\n",
    "    confusion_matrix,\n",
    "    roc_auc_score,\n",
    "    RocCurveDisplay,\n",
    "    classification_report,\n",
    ")\n",
    "import numpy as np\n",
    "from sklearn.metrics import mean_squared_error, mean_absolute_error, r2_score\n",
    "\n",
    "mlflow.autolog()\n",
    "\n",
    "\n",
    "def eval_metrics(actual, pred):\n",
    "        rmse = np.sqrt(mean_squared_error(actual, pred))\n",
    "        mae = mean_absolute_error(actual, pred)\n",
    "        r2 = r2_score(actual, pred)\n",
    "        return rmse, mae, r2\n",
    "\n",
    "def accuracy_score(model, X_train,y_train): \n",
    "    accuracy_score = model.score(X_train, y_train)\n",
    "    return accuracy_score\n",
    "\n",
    "\n",
    "with mlflow.start_run() as run:\n",
    "\n",
    "    db = load_diabetes()\n",
    "    X_train, X_test, y_train, y_test = train_test_split(db.data, db.target)\n",
    "\n",
    "    # Create and train models.\n",
    "    rf = RandomForestRegressor(n_estimators=100, max_depth=6, max_features=3)\n",
    "    rf.fit(X_train, y_train)\n",
    "\n",
    "    # Use the model to make predictions on the test dataset.\n",
    "    # Evaluate Metrics    \n",
    "    predictions = rf.predict(X_test)\n",
    "    (rmse, mae, r2) = eval_metrics(y_test, predictions)\n",
    "    accuracy_score = accuracy_score(rf, X_train, y_train)\n",
    "\n",
    "    \n",
    "    \n",
    "    # Infer model signature\n",
    "    signature = infer_signature(X_test, predictions)\n",
    "    mlflow.sklearn.log_model(rf, \"model\", signature=signature)\n",
    "\n",
    "    print(\"Run ID: {}\".format(run.info.run_id))\n",
    "\n",
    "    # Print out metrics\n",
    "    print(\"  Accuracy Score: %s\" % accuracy_score)\n",
    "    print(\"  RMSE: %s\" % rmse)\n",
    "    print(\"  MAE: %s\" % mae)\n",
    "    print(\"  R2: %s\" % r2)\n",
    "\n",
    "    # Log metrics, and model to MLflow\n",
    "    mlflow.log_metric(\"rmse\", rmse)\n",
    "    mlflow.log_metric(\"r2\", r2)\n",
    "    mlflow.log_metric(\"mae\", mae)\n",
    "    mlflow.log_metric(\"accuracy_score\", accuracy_score)\n",
    "\n",
    "    mlflow.sklearn.log_model(rf, \"model\", signature=signature)"
   ]
  },
  {
   "cell_type": "markdown",
   "metadata": {},
   "source": [
    "## Train.py"
   ]
  },
  {
   "cell_type": "code",
   "execution_count": 26,
   "metadata": {},
   "outputs": [
    {
     "name": "stdout",
     "output_type": "stream",
     "text": [
      "Score: 0.7814019153641414\n",
      "Model saved in run b1032f2a8e424903bb7df7f522962a26\n",
      "Logged data and model in run b1032f2a8e424903bb7df7f522962a26\n",
      "\n",
      "---------- logged params ----------\n",
      "{}\n",
      "\n",
      "---------- logged metrics ----------\n",
      "{'score': 0.7814019153641414}\n",
      "\n",
      "---------- logged tags ----------\n",
      "{}\n",
      "\n",
      "---------- logged artifacts ----------\n",
      "['model/MLmodel', 'model/conda.yaml', 'model/model.pkl', 'model/python_env.yaml', 'model/requirements.txt']\n"
     ]
    }
   ],
   "source": [
    "import mlflow.sklearn\n",
    "# from utils import fetch_logged_data\n",
    "from sklearn.metrics import f1_score\n",
    "\n",
    "from mlflow.tracking import MlflowClient\n",
    "\n",
    "\n",
    "def yield_artifacts(run_id, path=None):\n",
    "    \"\"\"Yield all artifacts in the specified run\"\"\"\n",
    "    client = MlflowClient()\n",
    "    for item in client.list_artifacts(run_id, path):\n",
    "        if item.is_dir:\n",
    "            yield from yield_artifacts(run_id, item.path)\n",
    "        else:\n",
    "            yield item.path\n",
    "\n",
    "\n",
    "def fetch_logged_data(run_id):\n",
    "    \"\"\"Fetch params, metrics, tags, and artifacts in the specified run\"\"\"\n",
    "    client = MlflowClient()\n",
    "    data = client.get_run(run_id).data\n",
    "    # Exclude system tags: https://www.mlflow.org/docs/latest/tracking.html#system-tags\n",
    "    tags = {k: v for k, v in data.tags.items() if not k.startswith(\"mlflow.\")}\n",
    "    artifacts = list(yield_artifacts(run_id))\n",
    "    return {\n",
    "        \"params\": data.params,\n",
    "        \"metrics\": data.metrics,\n",
    "        \"tags\": tags,\n",
    "        \"artifacts\": artifacts,\n",
    "    }\n",
    "\n",
    "if __name__ == \"__main__\":\n",
    "    score = rf.score(X_train, y_train)\n",
    "    print(\"Score: %s\" % score)\n",
    "    mlflow.log_metric(\"score\", score)\n",
    "    predictions = rf.predict(X_test)\n",
    "    # # Infer model signature\n",
    "    signature = infer_signature(X_test, predictions)\n",
    "    mlflow.sklearn.log_model(rf, \"model\", signature=signature)\n",
    "    print(\"Model saved in run %s\" % mlflow.active_run().info.run_uuid)\n",
    "\n",
    "    run_id = mlflow.last_active_run().info.run_id\n",
    "    print(\"Logged data and model in run {}\".format(run_id))\n",
    "\n",
    "    # show logged data\n",
    "    for key, data in fetch_logged_data(run_id).items():\n",
    "        print(\"\\n---------- logged {} ----------\".format(key))\n",
    "        print(data)\n",
    "\n"
   ]
  },
  {
   "cell_type": "code",
   "execution_count": 27,
   "metadata": {},
   "outputs": [],
   "source": [
    "# end the current run\n",
    "mlflow.end_run()"
   ]
  },
  {
   "cell_type": "code",
   "execution_count": 28,
   "metadata": {},
   "outputs": [
    {
     "ename": "SyntaxError",
     "evalue": "invalid syntax (3574192917.py, line 1)",
     "output_type": "error",
     "traceback": [
      "\u001b[0;36m  Cell \u001b[0;32mIn[28], line 1\u001b[0;36m\u001b[0m\n\u001b[0;31m    mlflow ui\u001b[0m\n\u001b[0m           ^\u001b[0m\n\u001b[0;31mSyntaxError\u001b[0m\u001b[0;31m:\u001b[0m invalid syntax\n"
     ]
    }
   ],
   "source": [
    "mlflow ui"
   ]
  }
 ],
 "metadata": {
  "kernelspec": {
   "display_name": "Python 3.8.5 ('base')",
   "language": "python",
   "name": "python3"
  },
  "language_info": {
   "codemirror_mode": {
    "name": "ipython",
    "version": 3
   },
   "file_extension": ".py",
   "mimetype": "text/x-python",
   "name": "python",
   "nbconvert_exporter": "python",
   "pygments_lexer": "ipython3",
   "version": "3.8.5"
  },
  "orig_nbformat": 4,
  "vscode": {
   "interpreter": {
    "hash": "09d6a2e4246b10267f98c2e3dbb4bb57f549fa9fda2ef359ce9226670197d390"
   }
  }
 },
 "nbformat": 4,
 "nbformat_minor": 2
}
