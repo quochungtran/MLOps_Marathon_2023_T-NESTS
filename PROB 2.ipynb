{
 "cells": [
  {
   "cell_type": "code",
   "execution_count": 1,
   "metadata": {},
   "outputs": [],
   "source": [
    "import warnings\n",
    "warnings.filterwarnings(\"ignore\")\n",
    "\n",
    "import os\n",
    "import numpy as np\n",
    "import pandas as pd\n",
    "import seaborn as sns\n",
    "\n",
    "import matplotlib.pyplot as plt\n",
    "import pyarrow.parquet as pq\n",
    "%matplotlib inline"
   ]
  },
  {
   "cell_type": "code",
   "execution_count": 2,
   "metadata": {},
   "outputs": [],
   "source": [
    "import tensorflow as tf\n",
    "from tensorflow.keras.models import Sequential\n",
    "from tensorflow.keras.layers import Dense, Dropout"
   ]
  },
  {
   "cell_type": "markdown",
   "metadata": {},
   "source": [
    "## Load dataframe"
   ]
  },
  {
   "cell_type": "code",
   "execution_count": 3,
   "metadata": {},
   "outputs": [],
   "source": [
    "path = 'Data/Prob2/raw_train.parquet'\n",
    "df = pq.read_table(source=path).to_pandas()"
   ]
  },
  {
   "cell_type": "markdown",
   "metadata": {},
   "source": [
    "### Info"
   ]
  },
  {
   "cell_type": "code",
   "execution_count": 4,
   "metadata": {},
   "outputs": [
    {
     "data": {
      "text/html": [
       "<div>\n",
       "<style scoped>\n",
       "    .dataframe tbody tr th:only-of-type {\n",
       "        vertical-align: middle;\n",
       "    }\n",
       "\n",
       "    .dataframe tbody tr th {\n",
       "        vertical-align: top;\n",
       "    }\n",
       "\n",
       "    .dataframe thead th {\n",
       "        text-align: right;\n",
       "    }\n",
       "</style>\n",
       "<table border=\"1\" class=\"dataframe\">\n",
       "  <thead>\n",
       "    <tr style=\"text-align: right;\">\n",
       "      <th></th>\n",
       "      <th>feature1</th>\n",
       "      <th>feature2</th>\n",
       "      <th>feature3</th>\n",
       "      <th>feature4</th>\n",
       "      <th>feature5</th>\n",
       "      <th>feature6</th>\n",
       "      <th>feature7</th>\n",
       "      <th>feature8</th>\n",
       "      <th>feature9</th>\n",
       "      <th>feature10</th>\n",
       "      <th>...</th>\n",
       "      <th>feature12</th>\n",
       "      <th>feature13</th>\n",
       "      <th>feature14</th>\n",
       "      <th>feature15</th>\n",
       "      <th>feature16</th>\n",
       "      <th>feature17</th>\n",
       "      <th>feature18</th>\n",
       "      <th>feature19</th>\n",
       "      <th>feature20</th>\n",
       "      <th>label</th>\n",
       "    </tr>\n",
       "  </thead>\n",
       "  <tbody>\n",
       "    <tr>\n",
       "      <th>0</th>\n",
       "      <td>V1</td>\n",
       "      <td>4.781942</td>\n",
       "      <td>V2</td>\n",
       "      <td>V8</td>\n",
       "      <td>1337.025331</td>\n",
       "      <td>V4</td>\n",
       "      <td>V4</td>\n",
       "      <td>2.0</td>\n",
       "      <td>V2</td>\n",
       "      <td>V0</td>\n",
       "      <td>...</td>\n",
       "      <td>V2</td>\n",
       "      <td>35.689494</td>\n",
       "      <td>none</td>\n",
       "      <td>V1</td>\n",
       "      <td>1.0</td>\n",
       "      <td>V2</td>\n",
       "      <td>1.0</td>\n",
       "      <td>none</td>\n",
       "      <td>yes</td>\n",
       "      <td>0</td>\n",
       "    </tr>\n",
       "    <tr>\n",
       "      <th>1</th>\n",
       "      <td>V3</td>\n",
       "      <td>22.764682</td>\n",
       "      <td>V4</td>\n",
       "      <td>V2</td>\n",
       "      <td>1664.415301</td>\n",
       "      <td>V0</td>\n",
       "      <td>V4</td>\n",
       "      <td>4.0</td>\n",
       "      <td>V1</td>\n",
       "      <td>V0</td>\n",
       "      <td>...</td>\n",
       "      <td>V0</td>\n",
       "      <td>23.265980</td>\n",
       "      <td>none</td>\n",
       "      <td>V1</td>\n",
       "      <td>2.0</td>\n",
       "      <td>V2</td>\n",
       "      <td>1.0</td>\n",
       "      <td>none</td>\n",
       "      <td>yes</td>\n",
       "      <td>0</td>\n",
       "    </tr>\n",
       "    <tr>\n",
       "      <th>2</th>\n",
       "      <td>V3</td>\n",
       "      <td>7.462099</td>\n",
       "      <td>V2</td>\n",
       "      <td>V3</td>\n",
       "      <td>750.653224</td>\n",
       "      <td>V3</td>\n",
       "      <td>V2</td>\n",
       "      <td>4.0</td>\n",
       "      <td>V2</td>\n",
       "      <td>V0</td>\n",
       "      <td>...</td>\n",
       "      <td>V2</td>\n",
       "      <td>34.060872</td>\n",
       "      <td>stores</td>\n",
       "      <td>V0</td>\n",
       "      <td>1.0</td>\n",
       "      <td>V2</td>\n",
       "      <td>1.0</td>\n",
       "      <td>yes</td>\n",
       "      <td>yes</td>\n",
       "      <td>0</td>\n",
       "    </tr>\n",
       "    <tr>\n",
       "      <th>3</th>\n",
       "      <td>V3</td>\n",
       "      <td>23.718364</td>\n",
       "      <td>V4</td>\n",
       "      <td>V7</td>\n",
       "      <td>4829.002078</td>\n",
       "      <td>V4</td>\n",
       "      <td>V2</td>\n",
       "      <td>4.0</td>\n",
       "      <td>V1</td>\n",
       "      <td>V0</td>\n",
       "      <td>...</td>\n",
       "      <td>V3</td>\n",
       "      <td>62.477448</td>\n",
       "      <td>none</td>\n",
       "      <td>V1</td>\n",
       "      <td>2.0</td>\n",
       "      <td>V1</td>\n",
       "      <td>1.0</td>\n",
       "      <td>none</td>\n",
       "      <td>yes</td>\n",
       "      <td>0</td>\n",
       "    </tr>\n",
       "    <tr>\n",
       "      <th>4</th>\n",
       "      <td>V3</td>\n",
       "      <td>13.768903</td>\n",
       "      <td>V3</td>\n",
       "      <td>V3</td>\n",
       "      <td>3559.956292</td>\n",
       "      <td>V3</td>\n",
       "      <td>V4</td>\n",
       "      <td>1.0</td>\n",
       "      <td>V1</td>\n",
       "      <td>V0</td>\n",
       "      <td>...</td>\n",
       "      <td>V2</td>\n",
       "      <td>41.999120</td>\n",
       "      <td>bank</td>\n",
       "      <td>V1</td>\n",
       "      <td>1.0</td>\n",
       "      <td>V2</td>\n",
       "      <td>1.0</td>\n",
       "      <td>yes</td>\n",
       "      <td>yes</td>\n",
       "      <td>0</td>\n",
       "    </tr>\n",
       "  </tbody>\n",
       "</table>\n",
       "<p>5 rows × 21 columns</p>\n",
       "</div>"
      ],
      "text/plain": [
       "  feature1   feature2 feature3 feature4     feature5 feature6 feature7  \\\n",
       "0       V1   4.781942       V2       V8  1337.025331       V4       V4   \n",
       "1       V3  22.764682       V4       V2  1664.415301       V0       V4   \n",
       "2       V3   7.462099       V2       V3   750.653224       V3       V2   \n",
       "3       V3  23.718364       V4       V7  4829.002078       V4       V2   \n",
       "4       V3  13.768903       V3       V3  3559.956292       V3       V4   \n",
       "\n",
       "   feature8 feature9 feature10  ...  feature12  feature13  feature14  \\\n",
       "0       2.0       V2        V0  ...         V2  35.689494       none   \n",
       "1       4.0       V1        V0  ...         V0  23.265980       none   \n",
       "2       4.0       V2        V0  ...         V2  34.060872     stores   \n",
       "3       4.0       V1        V0  ...         V3  62.477448       none   \n",
       "4       1.0       V1        V0  ...         V2  41.999120       bank   \n",
       "\n",
       "  feature15 feature16  feature17 feature18  feature19 feature20 label  \n",
       "0        V1       1.0         V2       1.0       none       yes     0  \n",
       "1        V1       2.0         V2       1.0       none       yes     0  \n",
       "2        V0       1.0         V2       1.0        yes       yes     0  \n",
       "3        V1       2.0         V1       1.0       none       yes     0  \n",
       "4        V1       1.0         V2       1.0        yes       yes     0  \n",
       "\n",
       "[5 rows x 21 columns]"
      ]
     },
     "execution_count": 4,
     "metadata": {},
     "output_type": "execute_result"
    }
   ],
   "source": [
    "df.head()"
   ]
  },
  {
   "cell_type": "code",
   "execution_count": 5,
   "metadata": {},
   "outputs": [
    {
     "name": "stdout",
     "output_type": "stream",
     "text": [
      "<class 'pandas.core.frame.DataFrame'>\n",
      "RangeIndex: 60000 entries, 0 to 59999\n",
      "Data columns (total 21 columns):\n",
      " #   Column     Non-Null Count  Dtype  \n",
      "---  ------     --------------  -----  \n",
      " 0   feature1   60000 non-null  object \n",
      " 1   feature2   60000 non-null  float64\n",
      " 2   feature3   60000 non-null  object \n",
      " 3   feature4   60000 non-null  object \n",
      " 4   feature5   60000 non-null  float64\n",
      " 5   feature6   60000 non-null  object \n",
      " 6   feature7   60000 non-null  object \n",
      " 7   feature8   60000 non-null  float64\n",
      " 8   feature9   60000 non-null  object \n",
      " 9   feature10  60000 non-null  object \n",
      " 10  feature11  60000 non-null  float64\n",
      " 11  feature12  60000 non-null  object \n",
      " 12  feature13  60000 non-null  float64\n",
      " 13  feature14  60000 non-null  object \n",
      " 14  feature15  60000 non-null  object \n",
      " 15  feature16  60000 non-null  float64\n",
      " 16  feature17  60000 non-null  object \n",
      " 17  feature18  60000 non-null  float64\n",
      " 18  feature19  60000 non-null  object \n",
      " 19  feature20  60000 non-null  object \n",
      " 20  label      60000 non-null  int64  \n",
      "dtypes: float64(7), int64(1), object(13)\n",
      "memory usage: 9.6+ MB\n"
     ]
    }
   ],
   "source": [
    "df.info()"
   ]
  },
  {
   "cell_type": "markdown",
   "metadata": {},
   "source": [
    "### Describe"
   ]
  },
  {
   "cell_type": "code",
   "execution_count": 6,
   "metadata": {},
   "outputs": [
    {
     "data": {
      "text/html": [
       "<div>\n",
       "<style scoped>\n",
       "    .dataframe tbody tr th:only-of-type {\n",
       "        vertical-align: middle;\n",
       "    }\n",
       "\n",
       "    .dataframe tbody tr th {\n",
       "        vertical-align: top;\n",
       "    }\n",
       "\n",
       "    .dataframe thead th {\n",
       "        text-align: right;\n",
       "    }\n",
       "</style>\n",
       "<table border=\"1\" class=\"dataframe\">\n",
       "  <thead>\n",
       "    <tr style=\"text-align: right;\">\n",
       "      <th></th>\n",
       "      <th>feature2</th>\n",
       "      <th>feature5</th>\n",
       "      <th>feature8</th>\n",
       "      <th>feature11</th>\n",
       "      <th>feature13</th>\n",
       "      <th>feature16</th>\n",
       "      <th>feature18</th>\n",
       "      <th>label</th>\n",
       "    </tr>\n",
       "  </thead>\n",
       "  <tbody>\n",
       "    <tr>\n",
       "      <th>count</th>\n",
       "      <td>60000.000000</td>\n",
       "      <td>60000.000000</td>\n",
       "      <td>60000.000000</td>\n",
       "      <td>60000.000000</td>\n",
       "      <td>60000.000000</td>\n",
       "      <td>60000.000000</td>\n",
       "      <td>60000.000000</td>\n",
       "      <td>60000.000000</td>\n",
       "    </tr>\n",
       "    <tr>\n",
       "      <th>mean</th>\n",
       "      <td>20.862730</td>\n",
       "      <td>3207.836096</td>\n",
       "      <td>2.953933</td>\n",
       "      <td>2.837467</td>\n",
       "      <td>35.641207</td>\n",
       "      <td>1.422100</td>\n",
       "      <td>1.159317</td>\n",
       "      <td>0.303583</td>\n",
       "    </tr>\n",
       "    <tr>\n",
       "      <th>std</th>\n",
       "      <td>12.083299</td>\n",
       "      <td>2792.931181</td>\n",
       "      <td>1.120535</td>\n",
       "      <td>1.105427</td>\n",
       "      <td>11.261281</td>\n",
       "      <td>0.606441</td>\n",
       "      <td>0.365974</td>\n",
       "      <td>0.459809</td>\n",
       "    </tr>\n",
       "    <tr>\n",
       "      <th>min</th>\n",
       "      <td>0.648717</td>\n",
       "      <td>-5997.669542</td>\n",
       "      <td>1.000000</td>\n",
       "      <td>1.000000</td>\n",
       "      <td>17.673884</td>\n",
       "      <td>1.000000</td>\n",
       "      <td>1.000000</td>\n",
       "      <td>0.000000</td>\n",
       "    </tr>\n",
       "    <tr>\n",
       "      <th>25%</th>\n",
       "      <td>11.959326</td>\n",
       "      <td>1388.207670</td>\n",
       "      <td>2.000000</td>\n",
       "      <td>2.000000</td>\n",
       "      <td>27.185829</td>\n",
       "      <td>1.000000</td>\n",
       "      <td>1.000000</td>\n",
       "      <td>0.000000</td>\n",
       "    </tr>\n",
       "    <tr>\n",
       "      <th>50%</th>\n",
       "      <td>18.087706</td>\n",
       "      <td>2273.676224</td>\n",
       "      <td>3.000000</td>\n",
       "      <td>3.000000</td>\n",
       "      <td>33.135070</td>\n",
       "      <td>1.000000</td>\n",
       "      <td>1.000000</td>\n",
       "      <td>0.000000</td>\n",
       "    </tr>\n",
       "    <tr>\n",
       "      <th>75%</th>\n",
       "      <td>24.903486</td>\n",
       "      <td>3813.300359</td>\n",
       "      <td>4.000000</td>\n",
       "      <td>4.000000</td>\n",
       "      <td>40.958943</td>\n",
       "      <td>2.000000</td>\n",
       "      <td>1.000000</td>\n",
       "      <td>1.000000</td>\n",
       "    </tr>\n",
       "    <tr>\n",
       "      <th>max</th>\n",
       "      <td>73.201640</td>\n",
       "      <td>19046.986011</td>\n",
       "      <td>4.000000</td>\n",
       "      <td>4.000000</td>\n",
       "      <td>82.179053</td>\n",
       "      <td>4.000000</td>\n",
       "      <td>2.000000</td>\n",
       "      <td>1.000000</td>\n",
       "    </tr>\n",
       "  </tbody>\n",
       "</table>\n",
       "</div>"
      ],
      "text/plain": [
       "           feature2      feature5      feature8     feature11     feature13  \\\n",
       "count  60000.000000  60000.000000  60000.000000  60000.000000  60000.000000   \n",
       "mean      20.862730   3207.836096      2.953933      2.837467     35.641207   \n",
       "std       12.083299   2792.931181      1.120535      1.105427     11.261281   \n",
       "min        0.648717  -5997.669542      1.000000      1.000000     17.673884   \n",
       "25%       11.959326   1388.207670      2.000000      2.000000     27.185829   \n",
       "50%       18.087706   2273.676224      3.000000      3.000000     33.135070   \n",
       "75%       24.903486   3813.300359      4.000000      4.000000     40.958943   \n",
       "max       73.201640  19046.986011      4.000000      4.000000     82.179053   \n",
       "\n",
       "          feature16     feature18         label  \n",
       "count  60000.000000  60000.000000  60000.000000  \n",
       "mean       1.422100      1.159317      0.303583  \n",
       "std        0.606441      0.365974      0.459809  \n",
       "min        1.000000      1.000000      0.000000  \n",
       "25%        1.000000      1.000000      0.000000  \n",
       "50%        1.000000      1.000000      0.000000  \n",
       "75%        2.000000      1.000000      1.000000  \n",
       "max        4.000000      2.000000      1.000000  "
      ]
     },
     "execution_count": 6,
     "metadata": {},
     "output_type": "execute_result"
    }
   ],
   "source": [
    "df.describe()"
   ]
  },
  {
   "cell_type": "code",
   "execution_count": 7,
   "metadata": {},
   "outputs": [
    {
     "data": {
      "text/html": [
       "<div>\n",
       "<style scoped>\n",
       "    .dataframe tbody tr th:only-of-type {\n",
       "        vertical-align: middle;\n",
       "    }\n",
       "\n",
       "    .dataframe tbody tr th {\n",
       "        vertical-align: top;\n",
       "    }\n",
       "\n",
       "    .dataframe thead th {\n",
       "        text-align: right;\n",
       "    }\n",
       "</style>\n",
       "<table border=\"1\" class=\"dataframe\">\n",
       "  <thead>\n",
       "    <tr style=\"text-align: right;\">\n",
       "      <th></th>\n",
       "      <th>count</th>\n",
       "      <th>unique</th>\n",
       "      <th>top</th>\n",
       "      <th>freq</th>\n",
       "    </tr>\n",
       "  </thead>\n",
       "  <tbody>\n",
       "    <tr>\n",
       "      <th>feature1</th>\n",
       "      <td>60000</td>\n",
       "      <td>4</td>\n",
       "      <td>V3</td>\n",
       "      <td>23659</td>\n",
       "    </tr>\n",
       "    <tr>\n",
       "      <th>feature3</th>\n",
       "      <td>60000</td>\n",
       "      <td>5</td>\n",
       "      <td>V2</td>\n",
       "      <td>31782</td>\n",
       "    </tr>\n",
       "    <tr>\n",
       "      <th>feature4</th>\n",
       "      <td>60000</td>\n",
       "      <td>11</td>\n",
       "      <td>V3</td>\n",
       "      <td>16634</td>\n",
       "    </tr>\n",
       "    <tr>\n",
       "      <th>feature6</th>\n",
       "      <td>60000</td>\n",
       "      <td>5</td>\n",
       "      <td>V0</td>\n",
       "      <td>35846</td>\n",
       "    </tr>\n",
       "    <tr>\n",
       "      <th>feature7</th>\n",
       "      <td>60000</td>\n",
       "      <td>5</td>\n",
       "      <td>V2</td>\n",
       "      <td>20178</td>\n",
       "    </tr>\n",
       "    <tr>\n",
       "      <th>feature9</th>\n",
       "      <td>60000</td>\n",
       "      <td>5</td>\n",
       "      <td>V2</td>\n",
       "      <td>32919</td>\n",
       "    </tr>\n",
       "    <tr>\n",
       "      <th>feature10</th>\n",
       "      <td>60000</td>\n",
       "      <td>3</td>\n",
       "      <td>V0</td>\n",
       "      <td>54407</td>\n",
       "    </tr>\n",
       "    <tr>\n",
       "      <th>feature12</th>\n",
       "      <td>60000</td>\n",
       "      <td>4</td>\n",
       "      <td>V2</td>\n",
       "      <td>19540</td>\n",
       "    </tr>\n",
       "    <tr>\n",
       "      <th>feature14</th>\n",
       "      <td>60000</td>\n",
       "      <td>3</td>\n",
       "      <td>none</td>\n",
       "      <td>48517</td>\n",
       "    </tr>\n",
       "    <tr>\n",
       "      <th>feature15</th>\n",
       "      <td>60000</td>\n",
       "      <td>3</td>\n",
       "      <td>V1</td>\n",
       "      <td>42275</td>\n",
       "    </tr>\n",
       "    <tr>\n",
       "      <th>feature17</th>\n",
       "      <td>60000</td>\n",
       "      <td>4</td>\n",
       "      <td>V2</td>\n",
       "      <td>37390</td>\n",
       "    </tr>\n",
       "    <tr>\n",
       "      <th>feature19</th>\n",
       "      <td>60000</td>\n",
       "      <td>2</td>\n",
       "      <td>none</td>\n",
       "      <td>35672</td>\n",
       "    </tr>\n",
       "    <tr>\n",
       "      <th>feature20</th>\n",
       "      <td>60000</td>\n",
       "      <td>2</td>\n",
       "      <td>yes</td>\n",
       "      <td>57645</td>\n",
       "    </tr>\n",
       "  </tbody>\n",
       "</table>\n",
       "</div>"
      ],
      "text/plain": [
       "           count unique   top   freq\n",
       "feature1   60000      4    V3  23659\n",
       "feature3   60000      5    V2  31782\n",
       "feature4   60000     11    V3  16634\n",
       "feature6   60000      5    V0  35846\n",
       "feature7   60000      5    V2  20178\n",
       "feature9   60000      5    V2  32919\n",
       "feature10  60000      3    V0  54407\n",
       "feature12  60000      4    V2  19540\n",
       "feature14  60000      3  none  48517\n",
       "feature15  60000      3    V1  42275\n",
       "feature17  60000      4    V2  37390\n",
       "feature19  60000      2  none  35672\n",
       "feature20  60000      2   yes  57645"
      ]
     },
     "execution_count": 7,
     "metadata": {},
     "output_type": "execute_result"
    }
   ],
   "source": [
    "df.describe(include=\"object\").T"
   ]
  },
  {
   "cell_type": "code",
   "execution_count": 8,
   "metadata": {},
   "outputs": [
    {
     "name": "stdout",
     "output_type": "stream",
     "text": [
      "Unique values and corresponding data counts for feature: feature1\n",
      "------------------------------------------------------------------------------------------\n",
      "    Count  Percentage\n",
      "V3  23659   39.431667\n",
      "V0  16355   27.258333\n",
      "V1  16130   26.883333\n",
      "V2   3856    6.426667\n",
      "------------------------------------------------------------------------------------------\n",
      "Unique values and corresponding data counts for feature: feature3\n",
      "------------------------------------------------------------------------------------------\n",
      "    Count  Percentage\n",
      "V2  31782   52.970000\n",
      "V4  17474   29.123333\n",
      "V3   5317    8.861667\n",
      "V1   2936    4.893333\n",
      "V0   2491    4.151667\n",
      "------------------------------------------------------------------------------------------\n",
      "Unique values and corresponding data counts for feature: feature4\n",
      "------------------------------------------------------------------------------------------\n",
      "     Count  Percentage\n",
      "V3   16634   27.723333\n",
      "V0   14005   23.341667\n",
      "V2   10761   17.935000\n",
      "V1    6183   10.305000\n",
      "V9    5822    9.703333\n",
      "V6    2962    4.936667\n",
      "V5    1450    2.416667\n",
      "V4     788    1.313333\n",
      "V10    765    1.275000\n",
      "V8     555    0.925000\n",
      "V7      75    0.125000\n",
      "------------------------------------------------------------------------------------------\n",
      "Unique values and corresponding data counts for feature: feature6\n",
      "------------------------------------------------------------------------------------------\n",
      "    Count  Percentage\n",
      "V0  35846   59.743333\n",
      "V4  11013   18.355000\n",
      "V1   6231   10.385000\n",
      "V2   3872    6.453333\n",
      "V3   3038    5.063333\n",
      "------------------------------------------------------------------------------------------\n",
      "Unique values and corresponding data counts for feature: feature7\n",
      "------------------------------------------------------------------------------------------\n",
      "    Count  Percentage\n",
      "V2  20178   33.630000\n",
      "V4  15405   25.675000\n",
      "V3  10360   17.266667\n",
      "V1  10319   17.198333\n",
      "V0   3738    6.230000\n",
      "------------------------------------------------------------------------------------------\n",
      "Unique values and corresponding data counts for feature: feature9\n",
      "------------------------------------------------------------------------------------------\n",
      "    Count  Percentage\n",
      "V2  32919   54.865000\n",
      "V1  18545   30.908333\n",
      "V3   5502    9.170000\n",
      "V0   2972    4.953333\n",
      "V4     62    0.103333\n",
      "------------------------------------------------------------------------------------------\n",
      "Unique values and corresponding data counts for feature: feature10\n",
      "------------------------------------------------------------------------------------------\n",
      "    Count  Percentage\n",
      "V0  54407   90.678333\n",
      "V2   3032    5.053333\n",
      "V1   2561    4.268333\n",
      "------------------------------------------------------------------------------------------\n",
      "Unique values and corresponding data counts for feature: feature12\n",
      "------------------------------------------------------------------------------------------\n",
      "    Count  Percentage\n",
      "V2  19540   32.566667\n",
      "V0  17068   28.446667\n",
      "V1  14068   23.446667\n",
      "V3   9324   15.540000\n",
      "------------------------------------------------------------------------------------------\n",
      "Unique values and corresponding data counts for feature: feature14\n",
      "------------------------------------------------------------------------------------------\n",
      "        Count  Percentage\n",
      "none    48517   80.861667\n",
      "bank     8435   14.058333\n",
      "stores   3048    5.080000\n",
      "------------------------------------------------------------------------------------------\n",
      "Unique values and corresponding data counts for feature: feature15\n",
      "------------------------------------------------------------------------------------------\n",
      "    Count  Percentage\n",
      "V1  42275   70.458333\n",
      "V0  10995   18.325000\n",
      "V2   6730   11.216667\n",
      "------------------------------------------------------------------------------------------\n",
      "Unique values and corresponding data counts for feature: feature17\n",
      "------------------------------------------------------------------------------------------\n",
      "    Count  Percentage\n",
      "V2  37390   62.316667\n",
      "V1  12099   20.165000\n",
      "V3   8908   14.846667\n",
      "V0   1603    2.671667\n",
      "------------------------------------------------------------------------------------------\n",
      "Unique values and corresponding data counts for feature: feature19\n",
      "------------------------------------------------------------------------------------------\n",
      "      Count  Percentage\n",
      "none  35672   59.453333\n",
      "yes   24328   40.546667\n",
      "------------------------------------------------------------------------------------------\n",
      "Unique values and corresponding data counts for feature: feature20\n",
      "------------------------------------------------------------------------------------------\n",
      "     Count  Percentage\n",
      "yes  57645      96.075\n",
      "no    2355       3.925\n",
      "------------------------------------------------------------------------------------------\n"
     ]
    }
   ],
   "source": [
    "# Below function prints unique value counts and percentages for the category/object type variables\n",
    "\n",
    "\n",
    "def category_unique_value():\n",
    "    for col in df.select_dtypes(exclude=[np.int64, np.float64]).columns.unique().to_list():\n",
    "        print(\"Unique values and corresponding data counts for feature: \" + col)\n",
    "        print(\"-\" * 90)\n",
    "        df_temp = pd.concat(\n",
    "            [\n",
    "                df[col].value_counts(),                          \n",
    "                df[col].value_counts(normalize=True) * 100,\n",
    "            ],\n",
    "            axis=1,\n",
    "        )\n",
    "        df_temp.columns = [\"Count\", \"Percentage\"]\n",
    "        print(df_temp)\n",
    "        print(\"-\" * 90)\n",
    "\n",
    "category_unique_value()"
   ]
  },
  {
   "cell_type": "code",
   "execution_count": 9,
   "metadata": {},
   "outputs": [
    {
     "name": "stdout",
     "output_type": "stream",
     "text": [
      "Index(['feature2', 'feature5', 'feature8', 'feature11', 'feature13',\n",
      "       'feature16', 'feature18'],\n",
      "      dtype='object')\n"
     ]
    }
   ],
   "source": [
    "# Select columns with dtype 'float'\n",
    "num_columns_names = df.select_dtypes(include=['float64']).columns\n",
    "\n",
    "# Print the selected columns\n",
    "print(num_columns_names)"
   ]
  },
  {
   "cell_type": "code",
   "execution_count": 10,
   "metadata": {},
   "outputs": [
    {
     "name": "stdout",
     "output_type": "stream",
     "text": [
      "Index(['feature1', 'feature3', 'feature4', 'feature6', 'feature7', 'feature9',\n",
      "       'feature10', 'feature12', 'feature14', 'feature15', 'feature17',\n",
      "       'feature19', 'feature20'],\n",
      "      dtype='object')\n"
     ]
    }
   ],
   "source": [
    "# Select columns with dtype 'object'\n",
    "object_columns_names = df.select_dtypes(include=['object']).columns\n",
    "\n",
    "# Print the selected columns\n",
    "print(object_columns_names)"
   ]
  },
  {
   "cell_type": "markdown",
   "metadata": {},
   "source": [
    "## Dummies Variable"
   ]
  },
  {
   "cell_type": "code",
   "execution_count": 11,
   "metadata": {},
   "outputs": [],
   "source": [
    "for i in [8, 11, 16]:\n",
    "    feature_num = pd.get_dummies(df[f'feature{i}'], drop_first=True)\n",
    "    feature_num.columns = feature_num.columns.astype(str)\n",
    "    feature_num = feature_num.rename(columns={'2.0': f'feature{i}_2.0', '3.0': f'feature{i}_3.0', '4.0': f'feature{i}_4.0'})\n",
    "    df = pd.concat([df, feature_num], axis=1)\n",
    "    df.drop(f'feature{i}', axis=1, inplace=True)\n",
    "#     print(feature_num)  "
   ]
  },
  {
   "cell_type": "code",
   "execution_count": 12,
   "metadata": {},
   "outputs": [],
   "source": [
    "feature18 = pd.get_dummies(df['feature18'], drop_first=True)\n",
    "feature18.columns = feature18.columns.astype(str)\n",
    "feature18 = feature18.rename(columns={'2.0': 'feature18_2.0'})\n",
    "df = pd.concat([df, feature18], axis=1)\n",
    "df.drop('feature18', axis=1, inplace=True)"
   ]
  },
  {
   "cell_type": "code",
   "execution_count": 13,
   "metadata": {},
   "outputs": [],
   "source": [
    "feature14 = pd.get_dummies(df['feature14'], drop_first=True)\n",
    "df = pd.concat([df, feature14], axis=1)"
   ]
  },
  {
   "cell_type": "code",
   "execution_count": 14,
   "metadata": {},
   "outputs": [],
   "source": [
    "feature19 = pd.get_dummies(df['feature19'], drop_first=True)\n",
    "df = pd.concat([df, feature19], axis=1)"
   ]
  },
  {
   "cell_type": "code",
   "execution_count": 15,
   "metadata": {},
   "outputs": [],
   "source": [
    "feature20 = pd.get_dummies(df['feature20'], drop_first=True)\n",
    "feature20 = feature20.rename(columns={'yes': 'feature20_yes'})\n",
    "df = pd.concat([df, feature20], axis=1)"
   ]
  },
  {
   "cell_type": "code",
   "execution_count": 16,
   "metadata": {},
   "outputs": [],
   "source": [
    "for column in object_columns_names:\n",
    "    if column in ['feature14', 'feature19', 'feature20']:\n",
    "        continue\n",
    "    feature_dummies = pd.get_dummies(df[column], drop_first=True)\n",
    "    new_column_names = {}\n",
    "    for i in range(1, df[column].nunique()):\n",
    "        new_column_names.update({f'V{i}': f'{column}_V{i}'})\n",
    "    feature_dummies = feature_dummies.rename(columns=new_column_names)\n",
    "    \n",
    "    df = pd.concat([df, feature_dummies], axis=1)\n",
    "#     print(feature_dummies.head())"
   ]
  },
  {
   "cell_type": "code",
   "execution_count": 17,
   "metadata": {},
   "outputs": [],
   "source": [
    "df.drop(object_columns_names, axis=1, inplace=True)"
   ]
  },
  {
   "cell_type": "code",
   "execution_count": 18,
   "metadata": {},
   "outputs": [
    {
     "data": {
      "text/plain": [
       "Index(['feature2', 'feature5', 'feature13', 'label', 'feature8_2.0',\n",
       "       'feature8_3.0', 'feature8_4.0', 'feature11_2.0', 'feature11_3.0',\n",
       "       'feature11_4.0', 'feature16_2.0', 'feature16_3.0', 'feature16_4.0',\n",
       "       'feature18_2.0', 'none', 'stores', 'yes', 'feature20_yes',\n",
       "       'feature1_V1', 'feature1_V2', 'feature1_V3', 'feature3_V1',\n",
       "       'feature3_V2', 'feature3_V3', 'feature3_V4', 'feature4_V1',\n",
       "       'feature4_V10', 'feature4_V2', 'feature4_V3', 'feature4_V4',\n",
       "       'feature4_V5', 'feature4_V6', 'feature4_V7', 'feature4_V8',\n",
       "       'feature4_V9', 'feature6_V1', 'feature6_V2', 'feature6_V3',\n",
       "       'feature6_V4', 'feature7_V1', 'feature7_V2', 'feature7_V3',\n",
       "       'feature7_V4', 'feature9_V1', 'feature9_V2', 'feature9_V3',\n",
       "       'feature9_V4', 'feature10_V1', 'feature10_V2', 'feature12_V1',\n",
       "       'feature12_V2', 'feature12_V3', 'feature15_V1', 'feature15_V2',\n",
       "       'feature17_V1', 'feature17_V2', 'feature17_V3'],\n",
       "      dtype='object')"
      ]
     },
     "execution_count": 18,
     "metadata": {},
     "output_type": "execute_result"
    }
   ],
   "source": [
    "df.columns"
   ]
  },
  {
   "cell_type": "markdown",
   "metadata": {},
   "source": [
    "## Label"
   ]
  },
  {
   "cell_type": "code",
   "execution_count": 19,
   "metadata": {},
   "outputs": [
    {
     "data": {
      "text/plain": [
       "([<matplotlib.patches.Wedge at 0x7f81fd6d3ba8>,\n",
       "  <matplotlib.patches.Wedge at 0x7f81fd6e5358>],\n",
       " [Text(-0.6365048996877849, 0.8971407429570027, '0'),\n",
       "  Text(0.6365048996877848, -0.8971407429570029, '1')],\n",
       " [Text(-0.34718449073879176, 0.4893494961583651, ' 69.64%\\n 41785'),\n",
       "  Text(0.3471844907387917, -0.48934949615836515, ' 30.36%\\n 18215')])"
      ]
     },
     "execution_count": 19,
     "metadata": {},
     "output_type": "execute_result"
    },
    {
     "data": {
      "image/png": "[encoded data removed]",
      "text/plain": [
       "<Figure size 432x288 with 1 Axes>"
      ]
     },
     "metadata": {},
     "output_type": "display_data"
    }
   ],
   "source": [
    "total = df['label'].value_counts().sum()\n",
    "def fmt(x):\n",
    "    return f'{x: .2f}%\\n{total * x / 100: .0f}'\n",
    "\n",
    "plt.pie(df['label'].value_counts().values, labels=df['label'].value_counts().index, autopct=fmt)"
   ]
  },
  {
   "cell_type": "markdown",
   "metadata": {},
   "source": [
    "## Split data in Train, Validation and Test sets"
   ]
  },
  {
   "cell_type": "code",
   "execution_count": 20,
   "metadata": {},
   "outputs": [],
   "source": [
    "X, y = df.drop('label', axis=1), df['label']"
   ]
  },
  {
   "cell_type": "code",
   "execution_count": 21,
   "metadata": {},
   "outputs": [],
   "source": [
    "from sklearn.model_selection import train_test_split"
   ]
  },
  {
   "cell_type": "code",
   "execution_count": 22,
   "metadata": {},
   "outputs": [
    {
     "name": "stdout",
     "output_type": "stream",
     "text": [
      "Training data shape: \n",
      "\n",
      " (48060, 56) \n",
      "\n",
      "Validation Data Shape: \n",
      "\n",
      " (5940, 56) \n",
      "\n",
      "Testing Data Shape: \n",
      "\n",
      " (6000, 56)\n"
     ]
    }
   ],
   "source": [
    "# Test and Validation sizes\n",
    "test_size = .1\n",
    "val_size = .11\n",
    "\n",
    "# Splitting data into training, validation and test set:\n",
    "# first we split data into 2 parts, say temporary and test\n",
    "\n",
    "X_temp, X_test, y_temp, y_test = train_test_split(X, y, test_size=test_size, stratify=y)\n",
    "\n",
    "# then we split the temporary set into train and validation\n",
    "\n",
    "X_train, X_val, y_train, y_val = train_test_split(X_temp, y_temp, test_size=val_size, stratify=y_temp)\n",
    "\n",
    "print(\n",
    "    \"Training data shape: \\n\\n\",\n",
    "    X_train.shape,\n",
    "    \"\\n\\nValidation Data Shape: \\n\\n\",\n",
    "    X_val.shape,\n",
    "    \"\\n\\nTesting Data Shape: \\n\\n\",\n",
    "    X_test.shape,\n",
    ")"
   ]
  },
  {
   "cell_type": "markdown",
   "metadata": {},
   "source": [
    "#### Checking the ratio of labels in the target column for each of the data segments"
   ]
  },
  {
   "cell_type": "code",
   "execution_count": 23,
   "metadata": {},
   "outputs": [
    {
     "name": "stdout",
     "output_type": "stream",
     "text": [
      "Training:\n",
      " 0    0.696421\n",
      "1    0.303579\n",
      "Name: label, dtype: float64\n",
      "\n",
      "Validation:\n",
      " 0    0.696465\n",
      "1    0.303535\n",
      "Name: label, dtype: float64\n",
      "\n",
      "Test:\n",
      " 0    0.696333\n",
      "1    0.303667\n",
      "Name: label, dtype: float64\n"
     ]
    }
   ],
   "source": [
    "print(\"Training:\\n\", y_train.value_counts(normalize=True))\n",
    "print(\"\\nValidation:\\n\", y_val.value_counts(normalize=True))\n",
    "print(\"\\nTest:\\n\", y_test.value_counts(normalize=True))"
   ]
  },
  {
   "cell_type": "markdown",
   "metadata": {},
   "source": [
    "### Scaling"
   ]
  },
  {
   "cell_type": "code",
   "execution_count": 24,
   "metadata": {},
   "outputs": [],
   "source": [
    "from sklearn.preprocessing import StandardScaler"
   ]
  },
  {
   "cell_type": "code",
   "execution_count": 25,
   "metadata": {},
   "outputs": [],
   "source": [
    "for i in [2, 5, 13]:\n",
    "    col = f'feature{i}'\n",
    "    sc = StandardScaler()\n",
    "    scale_train = sc.fit_transform(X_train[col].values.reshape(-1, 1))\n",
    "    scale_test = sc.transform(X_test[col].values.reshape(-1, 1))\n",
    "    scale_val = sc.transform(X_val[col].values.reshape(-1, 1))\n",
    "    \n",
    "    # Assign the scaled data back\n",
    "    X_train.loc[:, col] = scale_train.flatten()\n",
    "    X_test.loc[:, col] = scale_test.flatten()\n",
    "    X_val.loc[:, col] = scale_val.flatten()"
   ]
  },
  {
   "cell_type": "code",
   "execution_count": 26,
   "metadata": {},
   "outputs": [],
   "source": [
    "X_train, X_test, X_val = X_train.values, X_test.values, X_val.values"
   ]
  },
  {
   "cell_type": "markdown",
   "metadata": {},
   "source": [
    "## K-Fold Cross-Validation"
   ]
  },
  {
   "cell_type": "code",
   "execution_count": 27,
   "metadata": {},
   "outputs": [],
   "source": [
    "from sklearn.model_selection import cross_validate\n",
    "def cross_validation(model, _X, _y, _cv=5):\n",
    "      '''Function to perform 5 Folds Cross-Validation\n",
    "       Parameters\n",
    "       ----------\n",
    "      model: Python Class, default=None\n",
    "              This is the machine learning algorithm to be used for training.\n",
    "      _X: array\n",
    "           This is the matrix of features.\n",
    "      _y: array\n",
    "           This is the target variable.\n",
    "      _cv: int, default=5\n",
    "          Determines the number of folds for cross-validation.\n",
    "       Returns\n",
    "       -------\n",
    "       The function returns a dictionary containing the metrics 'accuracy', 'precision',\n",
    "       'recall', 'f1' for both training set and validation set.\n",
    "      '''\n",
    "        \n",
    "      _scoring = ['accuracy', 'precision', 'recall', 'f1', 'roc_auc']\n",
    "      results = cross_validate(estimator=model,\n",
    "                               X=_X,\n",
    "                               y=_y,\n",
    "                               cv=_cv,\n",
    "                               scoring=_scoring,\n",
    "                               return_train_score=True)\n",
    "      \n",
    "      return {\"Training Accuracy scores\": results['train_accuracy'],\n",
    "              \"Mean Training Accuracy\": results['train_accuracy'].mean()*100,\n",
    "              \"Training Precision scores\": results['train_precision'],\n",
    "              \"Mean Training Precision\": results['train_precision'].mean(),\n",
    "              \"Training Recall scores\": results['train_recall'],\n",
    "              \"Mean Training Recall\": results['train_recall'].mean(),\n",
    "              \"Training F1 scores\": results['train_f1'],\n",
    "              \"Mean Training F1 Score\": results['train_f1'].mean(),\n",
    "              \"Training ROC-AUC\": results['train_roc_auc'],\n",
    "              \"Mean Training ROC-AUC\": results['train_roc_auc'].mean(),\n",
    "              \"Validation Accuracy scores\": results['test_accuracy'],\n",
    "              \"Mean Validation Accuracy\": results['test_accuracy'].mean()*100,\n",
    "              \"Validation Precision scores\": results['test_precision'],\n",
    "              \"Mean Validation Precision\": results['test_precision'].mean(),\n",
    "              \"Validation Recall scores\": results['test_recall'],\n",
    "              \"Mean Validation Recall\": results['test_recall'].mean(),\n",
    "              \"Validation F1 scores\": results['test_f1'],\n",
    "              \"Mean Validation F1 Score\": results['test_f1'].mean(),\n",
    "              \"Validation ROC-AUC\": results['test_roc_auc'],\n",
    "              \"Mean Validation ROC-AUC\": results['test_roc_auc'].mean()\n",
    "              }"
   ]
  },
  {
   "cell_type": "code",
   "execution_count": 28,
   "metadata": {},
   "outputs": [],
   "source": [
    "# Grouped Bar Chart for both training and validation data\n",
    "def plot_result(x_label, y_label, plot_title, train_data, val_data):\n",
    "        '''Function to plot a grouped bar chart showing the training and validation\n",
    "          results of the ML model in each fold after applying K-fold cross-validation.\n",
    "         Parameters\n",
    "         ----------\n",
    "         x_label: str, \n",
    "            Name of the algorithm used for training e.g 'Decision Tree'\n",
    "          \n",
    "         y_label: str, \n",
    "            Name of metric being visualized e.g 'Accuracy'\n",
    "         plot_title: str, \n",
    "            This is the title of the plot e.g 'Accuracy Plot'\n",
    "         \n",
    "         train_result: list, array\n",
    "            This is the list containing either training precision, accuracy, or f1 score.\n",
    "        \n",
    "         val_result: list, array\n",
    "            This is the list containing either validation precision, accuracy, or f1 score.\n",
    "         Returns\n",
    "         -------\n",
    "         The function returns a Grouped Barchart showing the training and validation result\n",
    "         in each fold.\n",
    "        '''\n",
    "        \n",
    "        # Set size of plot\n",
    "        plt.figure(figsize=(8, 4))\n",
    "        labels = [\"1st Fold\", \"2nd Fold\", \"3rd Fold\", \"4th Fold\", \"5th Fold\"]\n",
    "        X_axis = np.arange(len(labels))\n",
    "        ax = plt.gca()\n",
    "        plt.ylim(0.40000, 1)\n",
    "        plt.bar(X_axis-0.2, train_data, 0.4, color='blue', label='Training')\n",
    "        plt.bar(X_axis+0.2, val_data, 0.4, color='red', label='Validation')\n",
    "        plt.title(plot_title, fontsize=20)\n",
    "        plt.xticks(X_axis, labels)\n",
    "        plt.xlabel(x_label, fontsize=14)\n",
    "        plt.ylabel(y_label, fontsize=14)\n",
    "        plt.legend()\n",
    "        plt.grid(True)\n",
    "        plt.show()"
   ]
  },
  {
   "cell_type": "markdown",
   "metadata": {},
   "source": [
    "# Models"
   ]
  },
  {
   "cell_type": "markdown",
   "metadata": {},
   "source": [
    "### Logistic Regression"
   ]
  },
  {
   "cell_type": "code",
   "execution_count": 29,
   "metadata": {},
   "outputs": [],
   "source": [
    "from sklearn.linear_model import LogisticRegression"
   ]
  },
  {
   "cell_type": "code",
   "execution_count": 30,
   "metadata": {},
   "outputs": [
    {
     "data": {
      "text/plain": [
       "{'Training Accuracy scores': array([0.78532043, 0.78506034, 0.78342176, 0.78526841, 0.78375988]),\n",
       " 'Mean Training Accuracy': 78.45661672908864,\n",
       " 'Training Precision scores': array([0.69039661, 0.68837055, 0.68764726, 0.68998888, 0.68722123]),\n",
       " 'Mean Training Precision': 0.6887249056198745,\n",
       " 'Training Recall scores': array([0.53092872, 0.53349897, 0.52510281, 0.53144277, 0.52801576]),\n",
       " 'Mean Training Recall': 0.5297978067169293,\n",
       " 'Training F1 scores': array([0.60025184, 0.6011198 , 0.59548215, 0.6004259 , 0.59718992]),\n",
       " 'Mean Training F1 Score': 0.5988939223757438,\n",
       " 'Training ROC-AUC': array([0.82926966, 0.82979625, 0.82590552, 0.82830132, 0.82687372]),\n",
       " 'Mean Training ROC-AUC': 0.8280292931861478,\n",
       " 'Validation Accuracy scores': array([0.77892218, 0.78173117, 0.78942988, 0.78037869, 0.78662089]),\n",
       " 'Mean Validation Accuracy': 78.34165626300458,\n",
       " 'Validation Precision scores': array([0.67788246, 0.68755718, 0.69135274, 0.68282737, 0.69038208]),\n",
       " 'Mean Validation Precision': 0.6860003658897762,\n",
       " 'Validation Recall scores': array([0.51782042, 0.51507882, 0.55346127, 0.51644962, 0.53872515]),\n",
       " 'Mean Validation Recall': 0.5283070596298834,\n",
       " 'Validation F1 scores': array([0.58713814, 0.58894984, 0.6147697 , 0.58809756, 0.60519731]),\n",
       " 'Mean Validation F1 Score': 0.5968305094670368,\n",
       " 'Validation ROC-AUC': array([0.82158677, 0.8197247 , 0.83521943, 0.82576558, 0.83139674]),\n",
       " 'Mean Validation ROC-AUC': 0.826738644347756}"
      ]
     },
     "execution_count": 30,
     "metadata": {},
     "output_type": "execute_result"
    }
   ],
   "source": [
    "logistic = LogisticRegression(max_iter=1000)\n",
    "logistic_result = cross_validation(logistic, X_train, y_train)\n",
    "logistic_result"
   ]
  },
  {
   "cell_type": "code",
   "execution_count": null,
   "metadata": {},
   "outputs": [],
   "source": [
    "# plot_result(logistic,\n",
    "#             \"Accuracy\",\n",
    "#             \"Accuracy scores in 5 Folds\",\n",
    "#             logistic_result[\"Training Accuracy scores\"],\n",
    "#             logistic_result[\"Validation Accuracy scores\"])"
   ]
  },
  {
   "cell_type": "markdown",
   "metadata": {},
   "source": [
    "## Decision Tree"
   ]
  },
  {
   "cell_type": "code",
   "execution_count": 32,
   "metadata": {},
   "outputs": [],
   "source": [
    "from sklearn.tree import DecisionTreeClassifier\n",
    "decision_tree = DecisionTreeClassifier(max_depth=4)"
   ]
  },
  {
   "cell_type": "code",
   "execution_count": 33,
   "metadata": {},
   "outputs": [
    {
     "data": {
      "text/plain": [
       "{'Training Accuracy scores': array([0.73931024, 0.73187162, 0.73145547, 0.72971286, 0.72815231]),\n",
       " 'Mean Training Accuracy': 73.21004993757803,\n",
       " 'Training Precision scores': array([0.5953069 , 0.5503212 , 0.5503702 , 0.65571776, 0.63192042]),\n",
       " 'Mean Training Precision': 0.5967272962070157,\n",
       " 'Training Recall scores': array([0.44122687, 0.63853667, 0.63048321, 0.23089445, 0.2503427 ]),\n",
       " 'Mean Training Recall': 0.43829677861549,\n",
       " 'Training F1 scores': array([0.50681494, 0.59115606, 0.58770914, 0.34152832, 0.35861561]),\n",
       " 'Mean Training F1 Score': 0.4771648143038932,\n",
       " 'Training ROC-AUC': array([0.76203028, 0.76137165, 0.75939103, 0.76181586, 0.76007181]),\n",
       " 'Mean Training ROC-AUC': 0.7609361257296079,\n",
       " 'Validation Accuracy scores': array([0.73429047, 0.72315855, 0.72253433, 0.72648772, 0.72950479]),\n",
       " 'Mean Validation Accuracy': 72.71951727007907,\n",
       " 'Validation Precision scores': array([0.58683206, 0.53839259, 0.53638736, 0.64581231, 0.6320598 ]),\n",
       " 'Mean Validation Precision': 0.5878968243128911,\n",
       " 'Validation Recall scores': array([0.42152159, 0.61754626, 0.63399589, 0.21932831, 0.26079507]),\n",
       " 'Mean Validation Recall': 0.43063742289239204,\n",
       " 'Validation F1 scores': array([0.49062625, 0.57525938, 0.58112141, 0.32744948, 0.36923823]),\n",
       " 'Mean Validation F1 Score': 0.46873894813924116,\n",
       " 'Validation ROC-AUC': array([0.76097873, 0.74527658, 0.7519019 , 0.75965779, 0.766635  ]),\n",
       " 'Mean Validation ROC-AUC': 0.7568899998013627}"
      ]
     },
     "execution_count": 33,
     "metadata": {},
     "output_type": "execute_result"
    }
   ],
   "source": [
    "decision_tree_result = cross_validation(decision_tree, X_train, y_train)\n",
    "decision_tree_result"
   ]
  },
  {
   "cell_type": "code",
   "execution_count": 34,
   "metadata": {},
   "outputs": [],
   "source": [
    "# plot_result(decision_tree_result,\n",
    "#             \"Accuracy\",\n",
    "#             \"Accuracy scores in 5 Folds\",\n",
    "#             decision_tree_result[\"Training Accuracy scores\"],\n",
    "#             decision_tree_result[\"Validation Accuracy scores\"])"
   ]
  },
  {
   "cell_type": "markdown",
   "metadata": {},
   "source": [
    "### Naive Bayes"
   ]
  },
  {
   "cell_type": "code",
   "execution_count": 35,
   "metadata": {},
   "outputs": [
    {
     "data": {
      "text/plain": [
       "{'Training Accuracy scores': array([0.71787869, 0.71767062, 0.72037557, 0.71985539, 0.71943924]),\n",
       " 'Mean Training Accuracy': 71.90439034540158,\n",
       " 'Training Precision scores': array([0.53343601, 0.53357442, 0.54060488, 0.53753228, 0.53737647]),\n",
       " 'Mean Training Precision': 0.5365048128528089,\n",
       " 'Training Recall scores': array([0.56382796, 0.55620288, 0.52527416, 0.55277587, 0.54506511]),\n",
       " 'Mean Training Recall': 0.5486291980808773,\n",
       " 'Training F1 scores': array([0.54821109, 0.54465372, 0.53282927, 0.54504752, 0.54119348]),\n",
       " 'Mean Training F1 Score': 0.5423870157996084,\n",
       " 'Training ROC-AUC': array([0.74600735, 0.7455274 , 0.74343465, 0.74601028, 0.74373372]),\n",
       " 'Mean Training ROC-AUC': 0.7449426811177668,\n",
       " 'Validation Accuracy scores': array([0.7142114 , 0.71806076, 0.72003745, 0.72086975, 0.71670828]),\n",
       " 'Mean Validation Accuracy': 71.79775280898876,\n",
       " 'Validation Precision scores': array([0.52785924, 0.5348292 , 0.5383835 , 0.54078445, 0.5327291 ]),\n",
       " 'Mean Validation Precision': 0.5349170981681829,\n",
       " 'Validation Recall scores': array([0.55517478, 0.54729267, 0.54557916, 0.53392735, 0.54386566]),\n",
       " 'Mean Validation Recall': 0.5451679232350926,\n",
       " 'Validation F1 scores': array([0.54117254, 0.54098916, 0.54195745, 0.53733402, 0.53823978]),\n",
       " 'Mean Validation F1 Score': 0.5399385906504892,\n",
       " 'Validation ROC-AUC': array([0.74162101, 0.73986374, 0.75020412, 0.74442764, 0.7438926 ]),\n",
       " 'Mean Validation ROC-AUC': 0.7440018200907464}"
      ]
     },
     "execution_count": 35,
     "metadata": {},
     "output_type": "execute_result"
    }
   ],
   "source": [
    "from sklearn.naive_bayes import GaussianNB\n",
    "gnb = GaussianNB()\n",
    "gnb_result = cross_validation(gnb, X_train, y_train)\n",
    "gnb_result"
   ]
  },
  {
   "cell_type": "code",
   "execution_count": 36,
   "metadata": {},
   "outputs": [],
   "source": [
    "# plot_result(lgbm,\n",
    "#             \"Accuracy\",\n",
    "#             \"Accuracy scores in 5 Folds\",\n",
    "#             gnb_result[\"Training Accuracy scores\"],\n",
    "#             gnb_result[\"Validation Accuracy scores\"])"
   ]
  },
  {
   "cell_type": "markdown",
   "metadata": {},
   "source": [
    "### Light GBM"
   ]
  },
  {
   "cell_type": "code",
   "execution_count": 37,
   "metadata": {},
   "outputs": [],
   "source": [
    "import lightgbm as lgb\n",
    "from lightgbm import LGBMClassifier"
   ]
  },
  {
   "cell_type": "code",
   "execution_count": 38,
   "metadata": {},
   "outputs": [
    {
     "data": {
      "text/plain": [
       "{'Training Accuracy scores': array([0.83143467, 0.83255306, 0.8306804 , 0.83130462, 0.83120058]),\n",
       " 'Mean Training Accuracy': 83.14346650020808,\n",
       " 'Training Precision scores': array([0.77451084, 0.77553169, 0.77515991, 0.7766752 , 0.7746449 ]),\n",
       " 'Mean Training Precision': 0.775304510114268,\n",
       " 'Training Recall scores': array([0.6273989 , 0.63108293, 0.6229438 , 0.6236292 , 0.62611378]),\n",
       " 'Mean Training Recall': 0.6262337217272104,\n",
       " 'Training F1 scores': array([0.69323614, 0.69589041, 0.69076572, 0.69178863, 0.6925045 ]),\n",
       " 'Mean Training F1 Score': 0.6928370823367419,\n",
       " 'Training ROC-AUC': array([0.8929498 , 0.89199903, 0.89049132, 0.89157673, 0.8905127 ]),\n",
       " 'Mean Training ROC-AUC': 0.891505915000554,\n",
       " 'Validation Accuracy scores': array([0.80950895, 0.80617978, 0.81887224, 0.80722014, 0.81075739]),\n",
       " 'Mean Validation Accuracy': 81.05076987099459,\n",
       " 'Validation Precision scores': array([0.73579176, 0.72924815, 0.74148543, 0.73345024, 0.72810295]),\n",
       " 'Mean Validation Precision': 0.7336157062679034,\n",
       " 'Validation Recall scores': array([0.58122001, 0.57505141, 0.61925977, 0.5733379 , 0.60109664]),\n",
       " 'Mean Validation Recall': 0.5899931459904044,\n",
       " 'Validation F1 scores': array([0.64943519, 0.64303506, 0.67488329, 0.6435853 , 0.65853201]),\n",
       " 'Mean Validation F1 Score': 0.6538941705928843,\n",
       " 'Validation ROC-AUC': array([0.86277769, 0.8597304 , 0.87133522, 0.86573652, 0.8670981 ]),\n",
       " 'Mean Validation ROC-AUC': 0.865335585374809}"
      ]
     },
     "execution_count": 38,
     "metadata": {},
     "output_type": "execute_result"
    }
   ],
   "source": [
    "lgbm = LGBMClassifier()\n",
    "LGBM_result = cross_validation(lgbm, X_train, y_train)\n",
    "LGBM_result"
   ]
  },
  {
   "cell_type": "code",
   "execution_count": 39,
   "metadata": {},
   "outputs": [
    {
     "data": {
      "image/png": "[encoded data removed]",
      "text/plain": [
       "<Figure size 576x288 with 1 Axes>"
      ]
     },
     "metadata": {
      "needs_background": "light"
     },
     "output_type": "display_data"
    }
   ],
   "source": [
    "plot_result(lgbm,\n",
    "            \"Accuracy\",\n",
    "            \"Accuracy scores in 5 Folds\",\n",
    "            LGBM_result[\"Training Accuracy scores\"],\n",
    "            LGBM_result[\"Validation Accuracy scores\"])"
   ]
  },
  {
   "cell_type": "markdown",
   "metadata": {},
   "source": [
    "### ANN"
   ]
  },
  {
   "cell_type": "code",
   "execution_count": 40,
   "metadata": {},
   "outputs": [],
   "source": [
    "opt = tf.keras.optimizers.SGD(learning_rate=.01, momentum=.9)"
   ]
  },
  {
   "cell_type": "code",
   "execution_count": 41,
   "metadata": {},
   "outputs": [],
   "source": [
    "def create_model():\n",
    "    model = Sequential()\n",
    "    model.add(Dense(60, activation='relu'))\n",
    "    model.add(Dropout(.2))\n",
    "\n",
    "    model.add(Dense(120, activation='relu'))\n",
    "    model.add(Dropout(.5))\n",
    "\n",
    "    model.add(Dense(78, activation='relu'))\n",
    "    model.add(Dropout(.3))\n",
    "\n",
    "    model.add(Dense(39, activation='relu'))\n",
    "    model.add(Dropout(.3))\n",
    "\n",
    "    model.add(Dense(19, activation='relu'))\n",
    "    model.add(Dropout(.3))\n",
    "\n",
    "    model.add(Dense(1, activation='sigmoid'))\n",
    "    model.compile(optimizer=opt, loss='binary_crossentropy', metrics=['binary_accuracy'])\n",
    "    \n",
    "    return model"
   ]
  },
  {
   "cell_type": "code",
   "execution_count": 42,
   "metadata": {},
   "outputs": [],
   "source": [
    "# Create a basic model instance\n",
    "model = create_model()"
   ]
  },
  {
   "cell_type": "markdown",
   "metadata": {},
   "source": [
    "### Checkpoint callback usage"
   ]
  },
  {
   "cell_type": "code",
   "execution_count": 43,
   "metadata": {},
   "outputs": [],
   "source": [
    "checkpoint_path = \"training_prob2/cp.ckpt\"\n",
    "checkpoint_dir = os.path.dirname(checkpoint_path)\n",
    "\n",
    "# Create a callback that saves the model's weights\n",
    "cp_callback = tf.keras.callbacks.ModelCheckpoint(filepath=checkpoint_path, save_weights_only=True, verbose=1, save_best_only=True)"
   ]
  },
  {
   "cell_type": "code",
   "execution_count": 44,
   "metadata": {},
   "outputs": [],
   "source": [
    "from tensorflow.keras.callbacks import EarlyStopping\n",
    "early_stop = EarlyStopping(monitor='val_loss', patience=25, mode='min')"
   ]
  },
  {
   "cell_type": "code",
   "execution_count": 45,
   "metadata": {},
   "outputs": [
    {
     "name": "stdout",
     "output_type": "stream",
     "text": [
      "Epoch 1/200\n",
      "WARNING:tensorflow:AutoGraph could not transform <function Model.make_train_function.<locals>.train_function at 0x7f81f40ead90> and will run it as-is.\n",
      "Please report this to the TensorFlow team. When filing the bug, set the verbosity to 10 (on Linux, `export AUTOGRAPH_VERBOSITY=10`) and attach the full output.\n",
      "Cause: 'arguments' object has no attribute 'posonlyargs'\n",
      "To silence this warning, decorate the function with @tf.autograph.experimental.do_not_convert\n",
      "WARNING: AutoGraph could not transform <function Model.make_train_function.<locals>.train_function at 0x7f81f40ead90> and will run it as-is.\n",
      "Please report this to the TensorFlow team. When filing the bug, set the verbosity to 10 (on Linux, `export AUTOGRAPH_VERBOSITY=10`) and attach the full output.\n",
      "Cause: 'arguments' object has no attribute 'posonlyargs'\n",
      "To silence this warning, decorate the function with @tf.autograph.experimental.do_not_convert\n",
      "371/376 [============================>.] - ETA: 0s - loss: 0.6176 - binary_accuracy: 0.6835WARNING:tensorflow:AutoGraph could not transform <function Model.make_test_function.<locals>.test_function at 0x7f81cc5b6950> and will run it as-is.\n",
      "Please report this to the TensorFlow team. When filing the bug, set the verbosity to 10 (on Linux, `export AUTOGRAPH_VERBOSITY=10`) and attach the full output.\n",
      "Cause: 'arguments' object has no attribute 'posonlyargs'\n",
      "To silence this warning, decorate the function with @tf.autograph.experimental.do_not_convert\n",
      "WARNING: AutoGraph could not transform <function Model.make_test_function.<locals>.test_function at 0x7f81cc5b6950> and will run it as-is.\n",
      "Please report this to the TensorFlow team. When filing the bug, set the verbosity to 10 (on Linux, `export AUTOGRAPH_VERBOSITY=10`) and attach the full output.\n",
      "Cause: 'arguments' object has no attribute 'posonlyargs'\n",
      "To silence this warning, decorate the function with @tf.autograph.experimental.do_not_convert\n",
      "376/376 [==============================] - 2s 4ms/step - loss: 0.6170 - binary_accuracy: 0.6842 - val_loss: 0.5915 - val_binary_accuracy: 0.6965\n",
      "\n",
      "Epoch 00001: val_loss improved from inf to 0.59147, saving model to training_prob2/cp.ckpt\n",
      "Epoch 2/200\n",
      "376/376 [==============================] - 1s 3ms/step - loss: 0.5707 - binary_accuracy: 0.7088 - val_loss: 0.5087 - val_binary_accuracy: 0.7276\n",
      "\n",
      "Epoch 00002: val_loss improved from 0.59147 to 0.50865, saving model to training_prob2/cp.ckpt\n",
      "Epoch 3/200\n",
      "376/376 [==============================] - 1s 3ms/step - loss: 0.5217 - binary_accuracy: 0.7376 - val_loss: 0.4835 - val_binary_accuracy: 0.7510\n",
      "\n",
      "Epoch 00003: val_loss improved from 0.50865 to 0.48350, saving model to training_prob2/cp.ckpt\n",
      "Epoch 4/200\n",
      "376/376 [==============================] - 1s 3ms/step - loss: 0.5032 - binary_accuracy: 0.7523 - val_loss: 0.4799 - val_binary_accuracy: 0.7493\n",
      "\n",
      "Epoch 00004: val_loss improved from 0.48350 to 0.47987, saving model to training_prob2/cp.ckpt\n",
      "Epoch 5/200\n",
      "376/376 [==============================] - 1s 3ms/step - loss: 0.4898 - binary_accuracy: 0.7601 - val_loss: 0.4647 - val_binary_accuracy: 0.7776\n",
      "\n",
      "Epoch 00005: val_loss improved from 0.47987 to 0.46465, saving model to training_prob2/cp.ckpt\n",
      "Epoch 6/200\n",
      "376/376 [==============================] - 1s 3ms/step - loss: 0.4860 - binary_accuracy: 0.7634 - val_loss: 0.4656 - val_binary_accuracy: 0.7684\n",
      "\n",
      "Epoch 00006: val_loss did not improve from 0.46465\n",
      "Epoch 7/200\n",
      "376/376 [==============================] - 1s 3ms/step - loss: 0.4825 - binary_accuracy: 0.7678 - val_loss: 0.4596 - val_binary_accuracy: 0.7801\n",
      "\n",
      "Epoch 00007: val_loss improved from 0.46465 to 0.45964, saving model to training_prob2/cp.ckpt\n",
      "Epoch 8/200\n",
      "376/376 [==============================] - 1s 3ms/step - loss: 0.4801 - binary_accuracy: 0.7689 - val_loss: 0.4590 - val_binary_accuracy: 0.7771\n",
      "\n",
      "Epoch 00008: val_loss improved from 0.45964 to 0.45898, saving model to training_prob2/cp.ckpt\n",
      "Epoch 9/200\n",
      "376/376 [==============================] - 1s 3ms/step - loss: 0.4760 - binary_accuracy: 0.7712 - val_loss: 0.4566 - val_binary_accuracy: 0.7766\n",
      "\n",
      "Epoch 00009: val_loss improved from 0.45898 to 0.45663, saving model to training_prob2/cp.ckpt\n",
      "Epoch 10/200\n",
      "376/376 [==============================] - 1s 3ms/step - loss: 0.4724 - binary_accuracy: 0.7746 - val_loss: 0.4546 - val_binary_accuracy: 0.7783\n",
      "\n",
      "Epoch 00010: val_loss improved from 0.45663 to 0.45457, saving model to training_prob2/cp.ckpt\n",
      "Epoch 11/200\n",
      "376/376 [==============================] - 1s 3ms/step - loss: 0.4703 - binary_accuracy: 0.7756 - val_loss: 0.4571 - val_binary_accuracy: 0.7749\n",
      "\n",
      "Epoch 00011: val_loss did not improve from 0.45457\n",
      "Epoch 12/200\n",
      "376/376 [==============================] - 1s 3ms/step - loss: 0.4663 - binary_accuracy: 0.7802 - val_loss: 0.4510 - val_binary_accuracy: 0.7796\n",
      "\n",
      "Epoch 00012: val_loss improved from 0.45457 to 0.45102, saving model to training_prob2/cp.ckpt\n",
      "Epoch 13/200\n",
      "376/376 [==============================] - 1s 3ms/step - loss: 0.4659 - binary_accuracy: 0.7783 - val_loss: 0.4504 - val_binary_accuracy: 0.7822\n",
      "\n",
      "Epoch 00013: val_loss improved from 0.45102 to 0.45040, saving model to training_prob2/cp.ckpt\n",
      "Epoch 14/200\n",
      "376/376 [==============================] - 1s 3ms/step - loss: 0.4645 - binary_accuracy: 0.7797 - val_loss: 0.4529 - val_binary_accuracy: 0.7813\n",
      "\n",
      "Epoch 00014: val_loss did not improve from 0.45040\n",
      "Epoch 15/200\n",
      "376/376 [==============================] - 1s 3ms/step - loss: 0.4612 - binary_accuracy: 0.7819 - val_loss: 0.4462 - val_binary_accuracy: 0.7854\n",
      "\n",
      "Epoch 00015: val_loss improved from 0.45040 to 0.44622, saving model to training_prob2/cp.ckpt\n",
      "Epoch 16/200\n",
      "376/376 [==============================] - 1s 3ms/step - loss: 0.4599 - binary_accuracy: 0.7827 - val_loss: 0.4466 - val_binary_accuracy: 0.7825\n",
      "\n",
      "Epoch 00016: val_loss did not improve from 0.44622\n",
      "Epoch 17/200\n",
      "376/376 [==============================] - 1s 3ms/step - loss: 0.4597 - binary_accuracy: 0.7837 - val_loss: 0.4458 - val_binary_accuracy: 0.7842\n",
      "\n",
      "Epoch 00017: val_loss improved from 0.44622 to 0.44585, saving model to training_prob2/cp.ckpt\n",
      "Epoch 18/200\n",
      "376/376 [==============================] - 1s 3ms/step - loss: 0.4576 - binary_accuracy: 0.7845 - val_loss: 0.4428 - val_binary_accuracy: 0.7882\n",
      "\n",
      "Epoch 00018: val_loss improved from 0.44585 to 0.44277, saving model to training_prob2/cp.ckpt\n",
      "Epoch 19/200\n",
      "376/376 [==============================] - 1s 3ms/step - loss: 0.4561 - binary_accuracy: 0.7854 - val_loss: 0.4447 - val_binary_accuracy: 0.7825\n",
      "\n",
      "Epoch 00019: val_loss did not improve from 0.44277\n",
      "Epoch 20/200\n",
      "376/376 [==============================] - 1s 3ms/step - loss: 0.4547 - binary_accuracy: 0.7859 - val_loss: 0.4399 - val_binary_accuracy: 0.7889\n",
      "\n",
      "Epoch 00020: val_loss improved from 0.44277 to 0.43992, saving model to training_prob2/cp.ckpt\n",
      "Epoch 21/200\n",
      "376/376 [==============================] - 1s 3ms/step - loss: 0.4531 - binary_accuracy: 0.7876 - val_loss: 0.4372 - val_binary_accuracy: 0.7896\n",
      "\n",
      "Epoch 00021: val_loss improved from 0.43992 to 0.43721, saving model to training_prob2/cp.ckpt\n",
      "Epoch 22/200\n",
      "376/376 [==============================] - 1s 3ms/step - loss: 0.4555 - binary_accuracy: 0.7853 - val_loss: 0.4412 - val_binary_accuracy: 0.7864\n",
      "\n",
      "Epoch 00022: val_loss did not improve from 0.43721\n",
      "Epoch 23/200\n",
      "376/376 [==============================] - 1s 3ms/step - loss: 0.4517 - binary_accuracy: 0.7880 - val_loss: 0.4348 - val_binary_accuracy: 0.7948\n",
      "\n",
      "Epoch 00023: val_loss improved from 0.43721 to 0.43482, saving model to training_prob2/cp.ckpt\n",
      "Epoch 24/200\n",
      "376/376 [==============================] - 1s 3ms/step - loss: 0.4522 - binary_accuracy: 0.7869 - val_loss: 0.4490 - val_binary_accuracy: 0.7756\n",
      "\n",
      "Epoch 00024: val_loss did not improve from 0.43482\n",
      "Epoch 25/200\n",
      "376/376 [==============================] - 1s 3ms/step - loss: 0.4525 - binary_accuracy: 0.7855 - val_loss: 0.4484 - val_binary_accuracy: 0.7774\n",
      "\n",
      "Epoch 00025: val_loss did not improve from 0.43482\n",
      "Epoch 26/200\n",
      "376/376 [==============================] - 1s 3ms/step - loss: 0.4526 - binary_accuracy: 0.7881 - val_loss: 0.4447 - val_binary_accuracy: 0.7783\n",
      "\n",
      "Epoch 00026: val_loss did not improve from 0.43482\n",
      "Epoch 27/200\n",
      "376/376 [==============================] - 1s 3ms/step - loss: 0.4476 - binary_accuracy: 0.7899 - val_loss: 0.4331 - val_binary_accuracy: 0.7953\n",
      "\n",
      "Epoch 00027: val_loss improved from 0.43482 to 0.43311, saving model to training_prob2/cp.ckpt\n",
      "Epoch 28/200\n",
      "376/376 [==============================] - 1s 3ms/step - loss: 0.4479 - binary_accuracy: 0.7895 - val_loss: 0.4344 - val_binary_accuracy: 0.7936\n",
      "\n",
      "Epoch 00028: val_loss did not improve from 0.43311\n",
      "Epoch 29/200\n",
      "376/376 [==============================] - 1s 3ms/step - loss: 0.4489 - binary_accuracy: 0.7880 - val_loss: 0.4442 - val_binary_accuracy: 0.7805\n",
      "\n",
      "Epoch 00029: val_loss did not improve from 0.43311\n",
      "Epoch 30/200\n",
      "376/376 [==============================] - 1s 3ms/step - loss: 0.4485 - binary_accuracy: 0.7904 - val_loss: 0.4367 - val_binary_accuracy: 0.7924\n",
      "\n",
      "Epoch 00030: val_loss did not improve from 0.43311\n",
      "Epoch 31/200\n",
      "376/376 [==============================] - 1s 3ms/step - loss: 0.4463 - binary_accuracy: 0.7917 - val_loss: 0.4382 - val_binary_accuracy: 0.7862\n",
      "\n",
      "Epoch 00031: val_loss did not improve from 0.43311\n",
      "Epoch 32/200\n",
      "376/376 [==============================] - 1s 3ms/step - loss: 0.4473 - binary_accuracy: 0.7905 - val_loss: 0.4434 - val_binary_accuracy: 0.7801\n",
      "\n",
      "Epoch 00032: val_loss did not improve from 0.43311\n",
      "Epoch 33/200\n",
      "376/376 [==============================] - 1s 3ms/step - loss: 0.4444 - binary_accuracy: 0.7924 - val_loss: 0.4323 - val_binary_accuracy: 0.7961\n",
      "\n",
      "Epoch 00033: val_loss improved from 0.43311 to 0.43226, saving model to training_prob2/cp.ckpt\n",
      "Epoch 34/200\n",
      "376/376 [==============================] - 1s 3ms/step - loss: 0.4477 - binary_accuracy: 0.7890 - val_loss: 0.4343 - val_binary_accuracy: 0.7911\n",
      "\n",
      "Epoch 00034: val_loss did not improve from 0.43226\n",
      "Epoch 35/200\n",
      "376/376 [==============================] - 1s 3ms/step - loss: 0.4456 - binary_accuracy: 0.7906 - val_loss: 0.4363 - val_binary_accuracy: 0.7899\n",
      "\n",
      "Epoch 00035: val_loss did not improve from 0.43226\n",
      "Epoch 36/200\n",
      "376/376 [==============================] - 1s 3ms/step - loss: 0.4440 - binary_accuracy: 0.7917 - val_loss: 0.4413 - val_binary_accuracy: 0.7864\n",
      "\n",
      "Epoch 00036: val_loss did not improve from 0.43226\n",
      "Epoch 37/200\n",
      "376/376 [==============================] - 1s 3ms/step - loss: 0.4437 - binary_accuracy: 0.7914 - val_loss: 0.4300 - val_binary_accuracy: 0.8002\n",
      "\n",
      "Epoch 00037: val_loss improved from 0.43226 to 0.43003, saving model to training_prob2/cp.ckpt\n",
      "Epoch 38/200\n",
      "376/376 [==============================] - 1s 3ms/step - loss: 0.4449 - binary_accuracy: 0.7918 - val_loss: 0.4320 - val_binary_accuracy: 0.7963\n",
      "\n",
      "Epoch 00038: val_loss did not improve from 0.43003\n",
      "Epoch 39/200\n",
      "376/376 [==============================] - 1s 3ms/step - loss: 0.4415 - binary_accuracy: 0.7926 - val_loss: 0.4337 - val_binary_accuracy: 0.7926\n",
      "\n",
      "Epoch 00039: val_loss did not improve from 0.43003\n",
      "Epoch 40/200\n",
      "376/376 [==============================] - 1s 3ms/step - loss: 0.4443 - binary_accuracy: 0.7922 - val_loss: 0.4368 - val_binary_accuracy: 0.7877\n",
      "\n",
      "Epoch 00040: val_loss did not improve from 0.43003\n",
      "Epoch 41/200\n",
      "376/376 [==============================] - 1s 3ms/step - loss: 0.4415 - binary_accuracy: 0.7944 - val_loss: 0.4353 - val_binary_accuracy: 0.7906\n",
      "\n",
      "Epoch 00041: val_loss did not improve from 0.43003\n",
      "Epoch 42/200\n",
      "376/376 [==============================] - 1s 3ms/step - loss: 0.4411 - binary_accuracy: 0.7946 - val_loss: 0.4351 - val_binary_accuracy: 0.7924\n",
      "\n",
      "Epoch 00042: val_loss did not improve from 0.43003\n",
      "Epoch 43/200\n",
      "376/376 [==============================] - 1s 3ms/step - loss: 0.4426 - binary_accuracy: 0.7927 - val_loss: 0.4366 - val_binary_accuracy: 0.7882\n",
      "\n",
      "Epoch 00043: val_loss did not improve from 0.43003\n",
      "Epoch 44/200\n",
      "376/376 [==============================] - 1s 3ms/step - loss: 0.4390 - binary_accuracy: 0.7945 - val_loss: 0.4364 - val_binary_accuracy: 0.7889\n",
      "\n",
      "Epoch 00044: val_loss did not improve from 0.43003\n",
      "Epoch 45/200\n",
      "376/376 [==============================] - 1s 3ms/step - loss: 0.4401 - binary_accuracy: 0.7942 - val_loss: 0.4317 - val_binary_accuracy: 0.7985\n",
      "\n",
      "Epoch 00045: val_loss did not improve from 0.43003\n",
      "Epoch 46/200\n",
      "376/376 [==============================] - 1s 3ms/step - loss: 0.4392 - binary_accuracy: 0.7928 - val_loss: 0.4348 - val_binary_accuracy: 0.7916\n",
      "\n",
      "Epoch 00046: val_loss did not improve from 0.43003\n",
      "Epoch 47/200\n",
      "376/376 [==============================] - 1s 3ms/step - loss: 0.4392 - binary_accuracy: 0.7955 - val_loss: 0.4391 - val_binary_accuracy: 0.7857\n",
      "\n",
      "Epoch 00047: val_loss did not improve from 0.43003\n",
      "Epoch 48/200\n",
      "376/376 [==============================] - 1s 3ms/step - loss: 0.4370 - binary_accuracy: 0.7962 - val_loss: 0.4401 - val_binary_accuracy: 0.7837\n",
      "\n",
      "Epoch 00048: val_loss did not improve from 0.43003\n",
      "Epoch 49/200\n",
      "376/376 [==============================] - 1s 3ms/step - loss: 0.4389 - binary_accuracy: 0.7940 - val_loss: 0.4332 - val_binary_accuracy: 0.7951\n",
      "\n",
      "Epoch 00049: val_loss did not improve from 0.43003\n",
      "Epoch 50/200\n",
      "376/376 [==============================] - 1s 3ms/step - loss: 0.4363 - binary_accuracy: 0.7961 - val_loss: 0.4308 - val_binary_accuracy: 0.8032\n",
      "\n",
      "Epoch 00050: val_loss did not improve from 0.43003\n",
      "Epoch 51/200\n",
      "376/376 [==============================] - 1s 3ms/step - loss: 0.4370 - binary_accuracy: 0.7938 - val_loss: 0.4387 - val_binary_accuracy: 0.7854\n",
      "\n",
      "Epoch 00051: val_loss did not improve from 0.43003\n",
      "Epoch 52/200\n",
      "376/376 [==============================] - 1s 3ms/step - loss: 0.4359 - binary_accuracy: 0.7964 - val_loss: 0.4346 - val_binary_accuracy: 0.7924\n",
      "\n",
      "Epoch 00052: val_loss did not improve from 0.43003\n",
      "Epoch 53/200\n",
      "376/376 [==============================] - 1s 3ms/step - loss: 0.4361 - binary_accuracy: 0.7954 - val_loss: 0.4321 - val_binary_accuracy: 0.7921\n",
      "\n",
      "Epoch 00053: val_loss did not improve from 0.43003\n",
      "Epoch 54/200\n",
      "376/376 [==============================] - 1s 3ms/step - loss: 0.4346 - binary_accuracy: 0.7974 - val_loss: 0.4417 - val_binary_accuracy: 0.7832\n",
      "\n",
      "Epoch 00054: val_loss did not improve from 0.43003\n",
      "Epoch 55/200\n",
      "376/376 [==============================] - 1s 3ms/step - loss: 0.4363 - binary_accuracy: 0.7974 - val_loss: 0.4379 - val_binary_accuracy: 0.7859\n",
      "\n",
      "Epoch 00055: val_loss did not improve from 0.43003\n",
      "Epoch 56/200\n",
      "376/376 [==============================] - 1s 3ms/step - loss: 0.4362 - binary_accuracy: 0.7959 - val_loss: 0.4326 - val_binary_accuracy: 0.7934\n",
      "\n",
      "Epoch 00056: val_loss did not improve from 0.43003\n",
      "Epoch 57/200\n",
      "376/376 [==============================] - 1s 3ms/step - loss: 0.4336 - binary_accuracy: 0.7962 - val_loss: 0.4316 - val_binary_accuracy: 0.7914\n",
      "\n",
      "Epoch 00057: val_loss did not improve from 0.43003\n",
      "Epoch 58/200\n",
      "376/376 [==============================] - 1s 3ms/step - loss: 0.4352 - binary_accuracy: 0.7961 - val_loss: 0.4336 - val_binary_accuracy: 0.7931\n",
      "\n",
      "Epoch 00058: val_loss did not improve from 0.43003\n",
      "Epoch 59/200\n",
      "376/376 [==============================] - 1s 3ms/step - loss: 0.4360 - binary_accuracy: 0.7962 - val_loss: 0.4326 - val_binary_accuracy: 0.7941\n",
      "\n",
      "Epoch 00059: val_loss did not improve from 0.43003\n",
      "Epoch 60/200\n",
      "376/376 [==============================] - 1s 3ms/step - loss: 0.4314 - binary_accuracy: 0.7974 - val_loss: 0.4334 - val_binary_accuracy: 0.7941\n",
      "\n",
      "Epoch 00060: val_loss did not improve from 0.43003\n",
      "Epoch 61/200\n",
      "376/376 [==============================] - 1s 3ms/step - loss: 0.4340 - binary_accuracy: 0.7977 - val_loss: 0.4374 - val_binary_accuracy: 0.7877\n",
      "\n",
      "Epoch 00061: val_loss did not improve from 0.43003\n",
      "Epoch 62/200\n",
      "376/376 [==============================] - 1s 3ms/step - loss: 0.4344 - binary_accuracy: 0.7988 - val_loss: 0.4315 - val_binary_accuracy: 0.7946\n",
      "\n",
      "Epoch 00062: val_loss did not improve from 0.43003\n"
     ]
    },
    {
     "data": {
      "text/plain": [
       "<keras.callbacks.History at 0x7f81f40b9b00>"
      ]
     },
     "execution_count": 45,
     "metadata": {},
     "output_type": "execute_result"
    }
   ],
   "source": [
    "model.fit(X_train, y_train, batch_size=128, epochs=200, callbacks=[early_stop, cp_callback], validation_data=(X_val, y_val))"
   ]
  },
  {
   "cell_type": "markdown",
   "metadata": {},
   "source": [
    "#### History"
   ]
  },
  {
   "cell_type": "code",
   "execution_count": 46,
   "metadata": {},
   "outputs": [
    {
     "data": {
      "text/plain": [
       "<matplotlib.axes._subplots.AxesSubplot at 0x7f81b0782518>"
      ]
     },
     "execution_count": 46,
     "metadata": {},
     "output_type": "execute_result"
    },
    {
     "data": {
      "image/png": "[encoded data removed]",
      "text/plain": [
       "<Figure size 432x288 with 1 Axes>"
      ]
     },
     "metadata": {},
     "output_type": "display_data"
    }
   ],
   "source": [
    "sns.set()\n",
    "losses = pd.DataFrame(model.history.history)\n",
    "sns.lineplot(data=losses[['loss', 'val_loss']])"
   ]
  },
  {
   "cell_type": "code",
   "execution_count": 47,
   "metadata": {},
   "outputs": [],
   "source": [
    "# os.listdir(checkpoint_dir)"
   ]
  },
  {
   "cell_type": "code",
   "execution_count": 48,
   "metadata": {},
   "outputs": [],
   "source": [
    "# latest = tf.train.latest_checkpoint(checkpoint_dir)\n",
    "# latest"
   ]
  },
  {
   "cell_type": "code",
   "execution_count": 49,
   "metadata": {},
   "outputs": [],
   "source": [
    "# # Create a new model instance\n",
    "# model = create_model()\n",
    "\n",
    "# # Load the previously saved weights\n",
    "# model.load_weights(latest)\n",
    "\n",
    "# # Re-evaluate the model\n",
    "# loss, acc = model.evaluate(X_test, y_test, verbose=2)\n",
    "\n",
    "# print(\"Restored model, accuracy: {:5.2f}%\".format(100 * acc))"
   ]
  },
  {
   "cell_type": "code",
   "execution_count": 50,
   "metadata": {},
   "outputs": [],
   "source": [
    "# # Save the weights\n",
    "# model.save_weights('./checkpoints/my_checkpoint')\n",
    "\n",
    "# # Create a new model instance\n",
    "# model = create_model()\n",
    "\n",
    "# # Restore the weights\n",
    "# model.load_weights('./checkpoints/my_checkpoint')\n",
    "\n",
    "# # Evaluate the model\n",
    "# loss, acc = model.evaluate(X_test, y_test, verbose=2)\n",
    "# print(\"Restored model, accuracy: {:5.2f}%\".format(100 * acc))"
   ]
  },
  {
   "cell_type": "markdown",
   "metadata": {},
   "source": [
    "#### Save the entire model"
   ]
  },
  {
   "cell_type": "code",
   "execution_count": 51,
   "metadata": {},
   "outputs": [],
   "source": [
    "model.save('my_model.h5')"
   ]
  },
  {
   "cell_type": "code",
   "execution_count": 52,
   "metadata": {},
   "outputs": [],
   "source": [
    "# # Recreate the exact same model, including its weights and the optimizer\n",
    "# new_model = tf.keras.models.load_model('my_model.h5')\n",
    "\n",
    "# # Show the model architecture\n",
    "# new_model.summary()"
   ]
  },
  {
   "cell_type": "code",
   "execution_count": 53,
   "metadata": {},
   "outputs": [],
   "source": [
    "# loss, acc = new_model.evaluate(X_test, y_test, verbose=2)\n",
    "# print('Restored model, accuracy: {:5.2f}%'.format(100 * acc))"
   ]
  },
  {
   "cell_type": "markdown",
   "metadata": {},
   "source": [
    "#### Evaluating Model Performance"
   ]
  },
  {
   "cell_type": "code",
   "execution_count": 54,
   "metadata": {},
   "outputs": [
    {
     "name": "stdout",
     "output_type": "stream",
     "text": [
      "WARNING:tensorflow:AutoGraph could not transform <function Model.make_predict_function.<locals>.predict_function at 0x7f8254edcea0> and will run it as-is.\n",
      "Please report this to the TensorFlow team. When filing the bug, set the verbosity to 10 (on Linux, `export AUTOGRAPH_VERBOSITY=10`) and attach the full output.\n",
      "Cause: 'arguments' object has no attribute 'posonlyargs'\n",
      "To silence this warning, decorate the function with @tf.autograph.experimental.do_not_convert\n",
      "WARNING: AutoGraph could not transform <function Model.make_predict_function.<locals>.predict_function at 0x7f8254edcea0> and will run it as-is.\n",
      "Please report this to the TensorFlow team. When filing the bug, set the verbosity to 10 (on Linux, `export AUTOGRAPH_VERBOSITY=10`) and attach the full output.\n",
      "Cause: 'arguments' object has no attribute 'posonlyargs'\n",
      "To silence this warning, decorate the function with @tf.autograph.experimental.do_not_convert\n"
     ]
    }
   ],
   "source": [
    "y_pred = (model.predict(X_test) > .5).astype(\"int32\")"
   ]
  },
  {
   "cell_type": "code",
   "execution_count": 55,
   "metadata": {},
   "outputs": [],
   "source": [
    "from sklearn.metrics import accuracy_score, confusion_matrix, classification_report"
   ]
  },
  {
   "cell_type": "code",
   "execution_count": 56,
   "metadata": {},
   "outputs": [
    {
     "name": "stdout",
     "output_type": "stream",
     "text": [
      "0.8001666666666667\n",
      "[[3924  254]\n",
      " [ 945  877]]\n"
     ]
    }
   ],
   "source": [
    "print(accuracy_score(y_test, y_pred))\n",
    "print(confusion_matrix(y_test, y_pred))"
   ]
  },
  {
   "cell_type": "code",
   "execution_count": 57,
   "metadata": {},
   "outputs": [
    {
     "name": "stdout",
     "output_type": "stream",
     "text": [
      "              precision    recall  f1-score   support\n",
      "\n",
      "           0       0.81      0.94      0.87      4178\n",
      "           1       0.78      0.48      0.59      1822\n",
      "\n",
      "    accuracy                           0.80      6000\n",
      "   macro avg       0.79      0.71      0.73      6000\n",
      "weighted avg       0.80      0.80      0.78      6000\n",
      "\n"
     ]
    }
   ],
   "source": [
    "print(classification_report(y_test, y_pred))"
   ]
  }
 ],
 "metadata": {
  "kernelspec": {
   "display_name": "Python 3",
   "language": "python",
   "name": "python3"
  },
  "language_info": {
   "codemirror_mode": {
    "name": "ipython",
    "version": 3
   },
   "file_extension": ".py",
   "mimetype": "text/x-python",
   "name": "python",
   "nbconvert_exporter": "python",
   "pygments_lexer": "ipython3",
   "version": "3.6.9"
  }
 },
 "nbformat": 4,
 "nbformat_minor": 4
}
