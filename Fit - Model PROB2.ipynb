{
 "cells": [
  {
   "cell_type": "code",
   "execution_count": 1,
   "metadata": {},
   "outputs": [],
   "source": [
    "import pandas as pd \n",
    "import numpy as np\n",
    "#IMPORT THE LIBRARIES....\n",
    "import numpy as np # linear algebra....\n",
    "import pandas as pd # data processing, CSV file I/O (e.g. pd.read_csv)....\n",
    "from matplotlib import pyplot as plt #Visualization of the data....\n",
    "import warnings\n",
    "warnings.filterwarnings(\"ignore\")\n",
    "pd.set_option(\"display.max_columns\",None)\n",
    "pd.set_option(\"display.max_rows\",None)\n",
    "import plotly.graph_objs as go\n",
    "import matplotlib as mpl\n",
    "import matplotlib.patches as mpatches\n",
    "import seaborn as sns\n",
    "import plotly.express as px\n",
    "from plotly import tools\n",
    "from plotly.subplots import make_subplots\n",
    "from plotly.offline import iplot\n",
    "\n",
    "# To be used for missing value imputation\n",
    "from sklearn.impute import SimpleImputer\n",
    "\n",
    "# To help with model building\n",
    "from sklearn.linear_model import LogisticRegression\n",
    "from sklearn.tree import DecisionTreeClassifier\n",
    "from sklearn.ensemble import (\n",
    "    AdaBoostClassifier,\n",
    "    GradientBoostingClassifier,\n",
    "    RandomForestClassifier,\n",
    "    BaggingClassifier,\n",
    ")\n",
    "from xgboost import XGBClassifier\n",
    "import lightgbm as lgb\n",
    "\n",
    "from sklearn.dummy import DummyClassifier\n",
    "\n",
    "# To use in feature selection\n",
    "from sklearn.feature_selection import SelectKBest, f_classif, SelectFromModel\n",
    "\n",
    "# To get different metric scores, and split data\n",
    "from sklearn import metrics\n",
    "from sklearn.model_selection import train_test_split, StratifiedKFold, cross_val_score\n",
    "from sklearn.metrics import (\n",
    "    f1_score,\n",
    "    accuracy_score,\n",
    "    recall_score,\n",
    "    precision_score,\n",
    "    ConfusionMatrixDisplay,\n",
    "    confusion_matrix,\n",
    "    classification_report,\n",
    "    roc_auc_score,\n",
    "    RocCurveDisplay,\n",
    "    # plot_roc_curve,\n",
    ")\n",
    "\n",
    "# To be used for data scaling and encoding\n",
    "from sklearn.preprocessing import StandardScaler, PowerTransformer, RobustScaler, OneHotEncoder\n",
    "from sklearn.impute import SimpleImputer\n",
    "\n",
    "# To be used for tuning the model\n",
    "from sklearn.model_selection import GridSearchCV, RandomizedSearchCV\n",
    "\n",
    "# To be used for creating pipelines and personalizing them\n",
    "from sklearn.pipeline import Pipeline\n",
    "from sklearn.compose import ColumnTransformer\n",
    "from sklearn.base import TransformerMixin\n",
    "\n",
    "\n",
    "# To oversample and undersample data\n",
    "from imblearn.over_sampling import SMOTE\n",
    "from imblearn.under_sampling import RandomUnderSampler\n",
    "\n",
    "# To define maximum number of columns to be displayed in a dataframe\n",
    "pd.set_option(\"display.max_columns\", None)\n",
    "\n",
    "# To supress scientific notations for a dataframe\n",
    "pd.set_option(\"display.float_format\", lambda x: \"%.3f\" % x)\n",
    "\n",
    "# set the background for the graphs\n",
    "plt.style.use(\"ggplot\")\n",
    "\n",
    "\n",
    "# To supress warnings\n",
    "import warnings\n",
    "\n",
    "# date time\n",
    "import time\n",
    "from datetime import datetime"
   ]
  },
  {
   "cell_type": "code",
   "execution_count": 2,
   "metadata": {},
   "outputs": [],
   "source": [
    "import pyarrow.parquet as pq\n",
    "path = 'Data/Prob2/raw_train.parquet'\n",
    "df = pq.read_table(source=path).to_pandas()"
   ]
  },
  {
   "cell_type": "code",
   "execution_count": 3,
   "metadata": {},
   "outputs": [
    {
     "data": {
      "text/html": [
       "<div>\n",
       "<style scoped>\n",
       "    .dataframe tbody tr th:only-of-type {\n",
       "        vertical-align: middle;\n",
       "    }\n",
       "\n",
       "    .dataframe tbody tr th {\n",
       "        vertical-align: top;\n",
       "    }\n",
       "\n",
       "    .dataframe thead th {\n",
       "        text-align: right;\n",
       "    }\n",
       "</style>\n",
       "<table border=\"1\" class=\"dataframe\">\n",
       "  <thead>\n",
       "    <tr style=\"text-align: right;\">\n",
       "      <th></th>\n",
       "      <th>feature1</th>\n",
       "      <th>feature2</th>\n",
       "      <th>feature3</th>\n",
       "      <th>feature4</th>\n",
       "      <th>feature5</th>\n",
       "      <th>feature6</th>\n",
       "      <th>feature7</th>\n",
       "      <th>feature8</th>\n",
       "      <th>feature9</th>\n",
       "      <th>feature10</th>\n",
       "      <th>feature11</th>\n",
       "      <th>feature12</th>\n",
       "      <th>feature13</th>\n",
       "      <th>feature14</th>\n",
       "      <th>feature15</th>\n",
       "      <th>feature16</th>\n",
       "      <th>feature17</th>\n",
       "      <th>feature18</th>\n",
       "      <th>feature19</th>\n",
       "      <th>feature20</th>\n",
       "      <th>label</th>\n",
       "    </tr>\n",
       "  </thead>\n",
       "  <tbody>\n",
       "    <tr>\n",
       "      <th>0</th>\n",
       "      <td>V1</td>\n",
       "      <td>4.782</td>\n",
       "      <td>V2</td>\n",
       "      <td>V8</td>\n",
       "      <td>1337.025</td>\n",
       "      <td>V4</td>\n",
       "      <td>V4</td>\n",
       "      <td>2.000</td>\n",
       "      <td>V2</td>\n",
       "      <td>V0</td>\n",
       "      <td>4.000</td>\n",
       "      <td>V2</td>\n",
       "      <td>35.689</td>\n",
       "      <td>none</td>\n",
       "      <td>V1</td>\n",
       "      <td>1.000</td>\n",
       "      <td>V2</td>\n",
       "      <td>1.000</td>\n",
       "      <td>none</td>\n",
       "      <td>yes</td>\n",
       "      <td>0</td>\n",
       "    </tr>\n",
       "    <tr>\n",
       "      <th>1</th>\n",
       "      <td>V3</td>\n",
       "      <td>22.765</td>\n",
       "      <td>V4</td>\n",
       "      <td>V2</td>\n",
       "      <td>1664.415</td>\n",
       "      <td>V0</td>\n",
       "      <td>V4</td>\n",
       "      <td>4.000</td>\n",
       "      <td>V1</td>\n",
       "      <td>V0</td>\n",
       "      <td>2.000</td>\n",
       "      <td>V0</td>\n",
       "      <td>23.266</td>\n",
       "      <td>none</td>\n",
       "      <td>V1</td>\n",
       "      <td>2.000</td>\n",
       "      <td>V2</td>\n",
       "      <td>1.000</td>\n",
       "      <td>none</td>\n",
       "      <td>yes</td>\n",
       "      <td>0</td>\n",
       "    </tr>\n",
       "    <tr>\n",
       "      <th>2</th>\n",
       "      <td>V3</td>\n",
       "      <td>7.462</td>\n",
       "      <td>V2</td>\n",
       "      <td>V3</td>\n",
       "      <td>750.653</td>\n",
       "      <td>V3</td>\n",
       "      <td>V2</td>\n",
       "      <td>4.000</td>\n",
       "      <td>V2</td>\n",
       "      <td>V0</td>\n",
       "      <td>4.000</td>\n",
       "      <td>V2</td>\n",
       "      <td>34.061</td>\n",
       "      <td>stores</td>\n",
       "      <td>V0</td>\n",
       "      <td>1.000</td>\n",
       "      <td>V2</td>\n",
       "      <td>1.000</td>\n",
       "      <td>yes</td>\n",
       "      <td>yes</td>\n",
       "      <td>0</td>\n",
       "    </tr>\n",
       "    <tr>\n",
       "      <th>3</th>\n",
       "      <td>V3</td>\n",
       "      <td>23.718</td>\n",
       "      <td>V4</td>\n",
       "      <td>V7</td>\n",
       "      <td>4829.002</td>\n",
       "      <td>V4</td>\n",
       "      <td>V2</td>\n",
       "      <td>4.000</td>\n",
       "      <td>V1</td>\n",
       "      <td>V0</td>\n",
       "      <td>4.000</td>\n",
       "      <td>V3</td>\n",
       "      <td>62.477</td>\n",
       "      <td>none</td>\n",
       "      <td>V1</td>\n",
       "      <td>2.000</td>\n",
       "      <td>V1</td>\n",
       "      <td>1.000</td>\n",
       "      <td>none</td>\n",
       "      <td>yes</td>\n",
       "      <td>0</td>\n",
       "    </tr>\n",
       "    <tr>\n",
       "      <th>4</th>\n",
       "      <td>V3</td>\n",
       "      <td>13.769</td>\n",
       "      <td>V3</td>\n",
       "      <td>V3</td>\n",
       "      <td>3559.956</td>\n",
       "      <td>V3</td>\n",
       "      <td>V4</td>\n",
       "      <td>1.000</td>\n",
       "      <td>V1</td>\n",
       "      <td>V0</td>\n",
       "      <td>4.000</td>\n",
       "      <td>V2</td>\n",
       "      <td>41.999</td>\n",
       "      <td>bank</td>\n",
       "      <td>V1</td>\n",
       "      <td>1.000</td>\n",
       "      <td>V2</td>\n",
       "      <td>1.000</td>\n",
       "      <td>yes</td>\n",
       "      <td>yes</td>\n",
       "      <td>0</td>\n",
       "    </tr>\n",
       "    <tr>\n",
       "      <th>5</th>\n",
       "      <td>V3</td>\n",
       "      <td>12.012</td>\n",
       "      <td>V2</td>\n",
       "      <td>V0</td>\n",
       "      <td>1700.481</td>\n",
       "      <td>V1</td>\n",
       "      <td>V0</td>\n",
       "      <td>4.000</td>\n",
       "      <td>V2</td>\n",
       "      <td>V0</td>\n",
       "      <td>4.000</td>\n",
       "      <td>V0</td>\n",
       "      <td>45.268</td>\n",
       "      <td>none</td>\n",
       "      <td>V0</td>\n",
       "      <td>1.000</td>\n",
       "      <td>V3</td>\n",
       "      <td>1.000</td>\n",
       "      <td>yes</td>\n",
       "      <td>yes</td>\n",
       "      <td>0</td>\n",
       "    </tr>\n",
       "    <tr>\n",
       "      <th>6</th>\n",
       "      <td>V3</td>\n",
       "      <td>11.685</td>\n",
       "      <td>V2</td>\n",
       "      <td>V2</td>\n",
       "      <td>2434.941</td>\n",
       "      <td>V0</td>\n",
       "      <td>V4</td>\n",
       "      <td>1.000</td>\n",
       "      <td>V1</td>\n",
       "      <td>V0</td>\n",
       "      <td>4.000</td>\n",
       "      <td>V1</td>\n",
       "      <td>26.764</td>\n",
       "      <td>none</td>\n",
       "      <td>V1</td>\n",
       "      <td>1.000</td>\n",
       "      <td>V3</td>\n",
       "      <td>1.000</td>\n",
       "      <td>yes</td>\n",
       "      <td>yes</td>\n",
       "      <td>0</td>\n",
       "    </tr>\n",
       "    <tr>\n",
       "      <th>7</th>\n",
       "      <td>V0</td>\n",
       "      <td>12.309</td>\n",
       "      <td>V3</td>\n",
       "      <td>V0</td>\n",
       "      <td>491.338</td>\n",
       "      <td>V4</td>\n",
       "      <td>V4</td>\n",
       "      <td>4.000</td>\n",
       "      <td>V0</td>\n",
       "      <td>V0</td>\n",
       "      <td>2.000</td>\n",
       "      <td>V2</td>\n",
       "      <td>39.608</td>\n",
       "      <td>none</td>\n",
       "      <td>V0</td>\n",
       "      <td>1.000</td>\n",
       "      <td>V2</td>\n",
       "      <td>1.000</td>\n",
       "      <td>yes</td>\n",
       "      <td>yes</td>\n",
       "      <td>1</td>\n",
       "    </tr>\n",
       "  </tbody>\n",
       "</table>\n",
       "</div>"
      ],
      "text/plain": [
       "  feature1  feature2 feature3 feature4  feature5 feature6 feature7  feature8  \\\n",
       "0       V1     4.782       V2       V8  1337.025       V4       V4     2.000   \n",
       "1       V3    22.765       V4       V2  1664.415       V0       V4     4.000   \n",
       "2       V3     7.462       V2       V3   750.653       V3       V2     4.000   \n",
       "3       V3    23.718       V4       V7  4829.002       V4       V2     4.000   \n",
       "4       V3    13.769       V3       V3  3559.956       V3       V4     1.000   \n",
       "5       V3    12.012       V2       V0  1700.481       V1       V0     4.000   \n",
       "6       V3    11.685       V2       V2  2434.941       V0       V4     1.000   \n",
       "7       V0    12.309       V3       V0   491.338       V4       V4     4.000   \n",
       "\n",
       "  feature9 feature10  feature11 feature12  feature13 feature14 feature15  \\\n",
       "0       V2        V0      4.000        V2     35.689      none        V1   \n",
       "1       V1        V0      2.000        V0     23.266      none        V1   \n",
       "2       V2        V0      4.000        V2     34.061    stores        V0   \n",
       "3       V1        V0      4.000        V3     62.477      none        V1   \n",
       "4       V1        V0      4.000        V2     41.999      bank        V1   \n",
       "5       V2        V0      4.000        V0     45.268      none        V0   \n",
       "6       V1        V0      4.000        V1     26.764      none        V1   \n",
       "7       V0        V0      2.000        V2     39.608      none        V0   \n",
       "\n",
       "   feature16 feature17  feature18 feature19 feature20  label  \n",
       "0      1.000        V2      1.000      none       yes      0  \n",
       "1      2.000        V2      1.000      none       yes      0  \n",
       "2      1.000        V2      1.000       yes       yes      0  \n",
       "3      2.000        V1      1.000      none       yes      0  \n",
       "4      1.000        V2      1.000       yes       yes      0  \n",
       "5      1.000        V3      1.000       yes       yes      0  \n",
       "6      1.000        V3      1.000       yes       yes      0  \n",
       "7      1.000        V2      1.000       yes       yes      1  "
      ]
     },
     "execution_count": 3,
     "metadata": {},
     "output_type": "execute_result"
    }
   ],
   "source": [
    "df.head(8)"
   ]
  },
  {
   "cell_type": "markdown",
   "metadata": {},
   "source": [
    "## Info"
   ]
  },
  {
   "cell_type": "code",
   "execution_count": 4,
   "metadata": {},
   "outputs": [
    {
     "name": "stdout",
     "output_type": "stream",
     "text": [
      "<class 'pandas.core.frame.DataFrame'>\n",
      "RangeIndex: 60000 entries, 0 to 59999\n",
      "Data columns (total 21 columns):\n",
      " #   Column     Non-Null Count  Dtype  \n",
      "---  ------     --------------  -----  \n",
      " 0   feature1   60000 non-null  object \n",
      " 1   feature2   60000 non-null  float64\n",
      " 2   feature3   60000 non-null  object \n",
      " 3   feature4   60000 non-null  object \n",
      " 4   feature5   60000 non-null  float64\n",
      " 5   feature6   60000 non-null  object \n",
      " 6   feature7   60000 non-null  object \n",
      " 7   feature8   60000 non-null  float64\n",
      " 8   feature9   60000 non-null  object \n",
      " 9   feature10  60000 non-null  object \n",
      " 10  feature11  60000 non-null  float64\n",
      " 11  feature12  60000 non-null  object \n",
      " 12  feature13  60000 non-null  float64\n",
      " 13  feature14  60000 non-null  object \n",
      " 14  feature15  60000 non-null  object \n",
      " 15  feature16  60000 non-null  float64\n",
      " 16  feature17  60000 non-null  object \n",
      " 17  feature18  60000 non-null  float64\n",
      " 18  feature19  60000 non-null  object \n",
      " 19  feature20  60000 non-null  object \n",
      " 20  label      60000 non-null  int64  \n",
      "dtypes: float64(7), int64(1), object(13)\n",
      "memory usage: 9.6+ MB\n"
     ]
    }
   ],
   "source": [
    "df.info()"
   ]
  },
  {
   "cell_type": "code",
   "execution_count": 5,
   "metadata": {},
   "outputs": [
    {
     "data": {
      "text/html": [
       "<div>\n",
       "<style scoped>\n",
       "    .dataframe tbody tr th:only-of-type {\n",
       "        vertical-align: middle;\n",
       "    }\n",
       "\n",
       "    .dataframe tbody tr th {\n",
       "        vertical-align: top;\n",
       "    }\n",
       "\n",
       "    .dataframe thead th {\n",
       "        text-align: right;\n",
       "    }\n",
       "</style>\n",
       "<table border=\"1\" class=\"dataframe\">\n",
       "  <thead>\n",
       "    <tr style=\"text-align: right;\">\n",
       "      <th></th>\n",
       "      <th>count</th>\n",
       "      <th>unique</th>\n",
       "      <th>top</th>\n",
       "      <th>freq</th>\n",
       "    </tr>\n",
       "  </thead>\n",
       "  <tbody>\n",
       "    <tr>\n",
       "      <th>feature1</th>\n",
       "      <td>60000</td>\n",
       "      <td>4</td>\n",
       "      <td>V3</td>\n",
       "      <td>23659</td>\n",
       "    </tr>\n",
       "    <tr>\n",
       "      <th>feature3</th>\n",
       "      <td>60000</td>\n",
       "      <td>5</td>\n",
       "      <td>V2</td>\n",
       "      <td>31782</td>\n",
       "    </tr>\n",
       "    <tr>\n",
       "      <th>feature4</th>\n",
       "      <td>60000</td>\n",
       "      <td>11</td>\n",
       "      <td>V3</td>\n",
       "      <td>16634</td>\n",
       "    </tr>\n",
       "    <tr>\n",
       "      <th>feature6</th>\n",
       "      <td>60000</td>\n",
       "      <td>5</td>\n",
       "      <td>V0</td>\n",
       "      <td>35846</td>\n",
       "    </tr>\n",
       "    <tr>\n",
       "      <th>feature7</th>\n",
       "      <td>60000</td>\n",
       "      <td>5</td>\n",
       "      <td>V2</td>\n",
       "      <td>20178</td>\n",
       "    </tr>\n",
       "    <tr>\n",
       "      <th>feature9</th>\n",
       "      <td>60000</td>\n",
       "      <td>5</td>\n",
       "      <td>V2</td>\n",
       "      <td>32919</td>\n",
       "    </tr>\n",
       "    <tr>\n",
       "      <th>feature10</th>\n",
       "      <td>60000</td>\n",
       "      <td>3</td>\n",
       "      <td>V0</td>\n",
       "      <td>54407</td>\n",
       "    </tr>\n",
       "    <tr>\n",
       "      <th>feature12</th>\n",
       "      <td>60000</td>\n",
       "      <td>4</td>\n",
       "      <td>V2</td>\n",
       "      <td>19540</td>\n",
       "    </tr>\n",
       "    <tr>\n",
       "      <th>feature14</th>\n",
       "      <td>60000</td>\n",
       "      <td>3</td>\n",
       "      <td>none</td>\n",
       "      <td>48517</td>\n",
       "    </tr>\n",
       "    <tr>\n",
       "      <th>feature15</th>\n",
       "      <td>60000</td>\n",
       "      <td>3</td>\n",
       "      <td>V1</td>\n",
       "      <td>42275</td>\n",
       "    </tr>\n",
       "    <tr>\n",
       "      <th>feature17</th>\n",
       "      <td>60000</td>\n",
       "      <td>4</td>\n",
       "      <td>V2</td>\n",
       "      <td>37390</td>\n",
       "    </tr>\n",
       "    <tr>\n",
       "      <th>feature19</th>\n",
       "      <td>60000</td>\n",
       "      <td>2</td>\n",
       "      <td>none</td>\n",
       "      <td>35672</td>\n",
       "    </tr>\n",
       "    <tr>\n",
       "      <th>feature20</th>\n",
       "      <td>60000</td>\n",
       "      <td>2</td>\n",
       "      <td>yes</td>\n",
       "      <td>57645</td>\n",
       "    </tr>\n",
       "  </tbody>\n",
       "</table>\n",
       "</div>"
      ],
      "text/plain": [
       "           count unique   top   freq\n",
       "feature1   60000      4    V3  23659\n",
       "feature3   60000      5    V2  31782\n",
       "feature4   60000     11    V3  16634\n",
       "feature6   60000      5    V0  35846\n",
       "feature7   60000      5    V2  20178\n",
       "feature9   60000      5    V2  32919\n",
       "feature10  60000      3    V0  54407\n",
       "feature12  60000      4    V2  19540\n",
       "feature14  60000      3  none  48517\n",
       "feature15  60000      3    V1  42275\n",
       "feature17  60000      4    V2  37390\n",
       "feature19  60000      2  none  35672\n",
       "feature20  60000      2   yes  57645"
      ]
     },
     "execution_count": 5,
     "metadata": {},
     "output_type": "execute_result"
    }
   ],
   "source": [
    "df.describe(include=\"object\").T"
   ]
  },
  {
   "cell_type": "code",
   "execution_count": 6,
   "metadata": {},
   "outputs": [
    {
     "data": {
      "text/html": [
       "<div>\n",
       "<style scoped>\n",
       "    .dataframe tbody tr th:only-of-type {\n",
       "        vertical-align: middle;\n",
       "    }\n",
       "\n",
       "    .dataframe tbody tr th {\n",
       "        vertical-align: top;\n",
       "    }\n",
       "\n",
       "    .dataframe thead th {\n",
       "        text-align: right;\n",
       "    }\n",
       "</style>\n",
       "<table border=\"1\" class=\"dataframe\">\n",
       "  <thead>\n",
       "    <tr style=\"text-align: right;\">\n",
       "      <th></th>\n",
       "      <th>count</th>\n",
       "      <th>mean</th>\n",
       "      <th>std</th>\n",
       "      <th>min</th>\n",
       "      <th>25%</th>\n",
       "      <th>50%</th>\n",
       "      <th>75%</th>\n",
       "      <th>max</th>\n",
       "    </tr>\n",
       "  </thead>\n",
       "  <tbody>\n",
       "    <tr>\n",
       "      <th>feature2</th>\n",
       "      <td>60000.000</td>\n",
       "      <td>20.863</td>\n",
       "      <td>12.083</td>\n",
       "      <td>0.649</td>\n",
       "      <td>11.959</td>\n",
       "      <td>18.088</td>\n",
       "      <td>24.903</td>\n",
       "      <td>73.202</td>\n",
       "    </tr>\n",
       "    <tr>\n",
       "      <th>feature5</th>\n",
       "      <td>60000.000</td>\n",
       "      <td>3207.836</td>\n",
       "      <td>2792.931</td>\n",
       "      <td>-5997.670</td>\n",
       "      <td>1388.208</td>\n",
       "      <td>2273.676</td>\n",
       "      <td>3813.300</td>\n",
       "      <td>19046.986</td>\n",
       "    </tr>\n",
       "    <tr>\n",
       "      <th>feature8</th>\n",
       "      <td>60000.000</td>\n",
       "      <td>2.954</td>\n",
       "      <td>1.121</td>\n",
       "      <td>1.000</td>\n",
       "      <td>2.000</td>\n",
       "      <td>3.000</td>\n",
       "      <td>4.000</td>\n",
       "      <td>4.000</td>\n",
       "    </tr>\n",
       "    <tr>\n",
       "      <th>feature11</th>\n",
       "      <td>60000.000</td>\n",
       "      <td>2.837</td>\n",
       "      <td>1.105</td>\n",
       "      <td>1.000</td>\n",
       "      <td>2.000</td>\n",
       "      <td>3.000</td>\n",
       "      <td>4.000</td>\n",
       "      <td>4.000</td>\n",
       "    </tr>\n",
       "    <tr>\n",
       "      <th>feature13</th>\n",
       "      <td>60000.000</td>\n",
       "      <td>35.641</td>\n",
       "      <td>11.261</td>\n",
       "      <td>17.674</td>\n",
       "      <td>27.186</td>\n",
       "      <td>33.135</td>\n",
       "      <td>40.959</td>\n",
       "      <td>82.179</td>\n",
       "    </tr>\n",
       "    <tr>\n",
       "      <th>feature16</th>\n",
       "      <td>60000.000</td>\n",
       "      <td>1.422</td>\n",
       "      <td>0.606</td>\n",
       "      <td>1.000</td>\n",
       "      <td>1.000</td>\n",
       "      <td>1.000</td>\n",
       "      <td>2.000</td>\n",
       "      <td>4.000</td>\n",
       "    </tr>\n",
       "    <tr>\n",
       "      <th>feature18</th>\n",
       "      <td>60000.000</td>\n",
       "      <td>1.159</td>\n",
       "      <td>0.366</td>\n",
       "      <td>1.000</td>\n",
       "      <td>1.000</td>\n",
       "      <td>1.000</td>\n",
       "      <td>1.000</td>\n",
       "      <td>2.000</td>\n",
       "    </tr>\n",
       "  </tbody>\n",
       "</table>\n",
       "</div>"
      ],
      "text/plain": [
       "              count     mean      std       min      25%      50%      75%  \\\n",
       "feature2  60000.000   20.863   12.083     0.649   11.959   18.088   24.903   \n",
       "feature5  60000.000 3207.836 2792.931 -5997.670 1388.208 2273.676 3813.300   \n",
       "feature8  60000.000    2.954    1.121     1.000    2.000    3.000    4.000   \n",
       "feature11 60000.000    2.837    1.105     1.000    2.000    3.000    4.000   \n",
       "feature13 60000.000   35.641   11.261    17.674   27.186   33.135   40.959   \n",
       "feature16 60000.000    1.422    0.606     1.000    1.000    1.000    2.000   \n",
       "feature18 60000.000    1.159    0.366     1.000    1.000    1.000    1.000   \n",
       "\n",
       "                max  \n",
       "feature2     73.202  \n",
       "feature5  19046.986  \n",
       "feature8      4.000  \n",
       "feature11     4.000  \n",
       "feature13    82.179  \n",
       "feature16     4.000  \n",
       "feature18     2.000  "
      ]
     },
     "execution_count": 6,
     "metadata": {},
     "output_type": "execute_result"
    }
   ],
   "source": [
    "df.describe(include=\"float64\").T"
   ]
  },
  {
   "cell_type": "code",
   "execution_count": 7,
   "metadata": {},
   "outputs": [
    {
     "name": "stdout",
     "output_type": "stream",
     "text": [
      "Unique values and corresponding data counts for feature: feature2\n",
      "Nunique value: 59889\n",
      "------------------------------------------------------------------------------------------\n",
      "Unique values and corresponding data counts for feature: feature5\n",
      "Nunique value: 60000\n",
      "------------------------------------------------------------------------------------------\n",
      "Unique values and corresponding data counts for feature: feature8\n",
      "Nunique value: 4\n",
      "------------------------------------------------------------------------------------------\n",
      "Unique values and corresponding data counts for feature: feature11\n",
      "Nunique value: 4\n",
      "------------------------------------------------------------------------------------------\n",
      "Unique values and corresponding data counts for feature: feature13\n",
      "Nunique value: 59952\n",
      "------------------------------------------------------------------------------------------\n",
      "Unique values and corresponding data counts for feature: feature16\n",
      "Nunique value: 4\n",
      "------------------------------------------------------------------------------------------\n",
      "Unique values and corresponding data counts for feature: feature18\n",
      "Nunique value: 2\n",
      "------------------------------------------------------------------------------------------\n",
      "Unique values and corresponding data counts for feature: label\n",
      "Nunique value: 2\n",
      "------------------------------------------------------------------------------------------\n"
     ]
    }
   ],
   "source": [
    "# Below function prints unique value counts and percentages for the category/object type variables\n",
    "\n",
    "\n",
    "def category_unique_value():\n",
    "    for col in df.select_dtypes(include=[np.int64, np.float64]).columns.unique().to_list():\n",
    "        print(\"Unique values and corresponding data counts for feature: \" + col)\n",
    "        print(\"Nunique value:\", df[col].nunique())\n",
    "        print(\"-\" * 90)\n",
    "#         df_temp = pd.concat(\n",
    "#             [\n",
    "#                 df[col].value_counts(),                          \n",
    "#                 df[col].value_counts(normalize=True) * 100,\n",
    "#             ],\n",
    "#             axis=1,\n",
    "#         )\n",
    "#         df_temp.columns = [\"Count\", \"Percentage\"]\n",
    "#         print(df_temp)\n",
    "#         print(\"-\" * 90, '\\n'*3)\n",
    "\n",
    "category_unique_value()"
   ]
  },
  {
   "cell_type": "code",
   "execution_count": 8,
   "metadata": {},
   "outputs": [
    {
     "name": "stdout",
     "output_type": "stream",
     "text": [
      "Training data shape:\n",
      " (48000, 20) \n",
      "Validation Data Shape:\n",
      " (6000, 20) \n",
      "Testing Data Shape:\n",
      " (6000, 20)\n"
     ]
    }
   ],
   "source": [
    "# Random state and loss\n",
    "seed = 2023\n",
    "loss_func = \"logloss\"\n",
    "\n",
    "# Test and Validation sizes\n",
    "test_size = 0.1\n",
    "val_size = 1/9\n",
    "\n",
    "\n",
    "# Splitting the dataset into dependent and independent variable sets\n",
    "# X,y = data.drop(columns=[\"label\"]),  data[\"label\"].map(target_mapper)\n",
    "X, y = df.drop('label', axis=1),  df[\"label\"]\n",
    "\n",
    "# Splitting data into training, validation and test set\n",
    "\n",
    "X_temp, X_test, y_temp, y_test = train_test_split(\n",
    "    X, y, test_size=test_size, random_state=seed, stratify=y\n",
    ")\n",
    "\n",
    "# then we split the temporary set into train and validation\n",
    "X_train, X_val, y_train, y_val = train_test_split(\n",
    "    X_temp, y_temp, test_size=val_size, random_state=seed, stratify=y_temp\n",
    ")\n",
    "print(\n",
    "    \"Training data shape:\\n\",\n",
    "    X_train.shape,\n",
    "    \"\\nValidation Data Shape:\\n\",\n",
    "    X_val.shape,\n",
    "    \"\\nTesting Data Shape:\\n\",\n",
    "    X_test.shape,\n",
    ")"
   ]
  },
  {
   "cell_type": "markdown",
   "metadata": {},
   "source": [
    "## Data preprocessing"
   ]
  },
  {
   "cell_type": "code",
   "execution_count": 9,
   "metadata": {},
   "outputs": [],
   "source": [
    "# To be used for creating pipelines and personalizing them\n",
    "from sklearn.pipeline import Pipeline\n",
    "from sklearn.compose import ColumnTransformer\n",
    "from sklearn.base import TransformerMixin\n",
    "\n",
    "# Building a function to standardize columns\n",
    "\n",
    "def feature_name_standardize(df: pd.DataFrame):\n",
    "    df_ = df.copy()\n",
    "    df_.columns = [i.replace(\" \", \"_\").lower() for i in df_.columns]\n",
    "    return df_\n",
    "\n",
    "# Building a function to drop features\n",
    "\n",
    "def drop_feature(df: pd.DataFrame, features: list = []):\n",
    "    df_ = df.copy()\n",
    "    if len(features) != 0:\n",
    "        df_ = df_.drop(columns=features)\n",
    "        \n",
    "    return df_\n",
    "\n",
    "# Building a function to treat incorrect value\n",
    "\n",
    "def mask_value(df: pd.DataFrame, feature: str = None, value_to_mask: str = None, masked_value: str = None):\n",
    "    df_ = df.copy()\n",
    "    if feature != None and value_to_mask != None:\n",
    "        if feature in df_.columns:\n",
    "            df_[feature] = df_[feature].astype('object')\n",
    "            df_.loc[df_[df_[feature] == value_to_mask].index, feature] = masked_value\n",
    "            df_[feature] = df_[feature].astype('category')\n",
    "            \n",
    "    return df_\n",
    "\n",
    "# Building a custom imputer\n",
    "\n",
    "def impute_category_unknown(df: pd.DataFrame, fill_value: str):\n",
    "    df_ = df.copy()\n",
    "    for col in df_.select_dtypes(include='category').columns.tolist():\n",
    "        df_[col] = df_[col].astype('object')\n",
    "        df_[col] = df_[col].fillna('Unknown')\n",
    "        df_[col] = df_[col].astype('category')\n",
    "    return df_\n",
    "\n",
    "# Building a custom data preprocessing class with fit and transform methods for standardizing column names\n",
    "\n",
    "class FeatureNamesStandardizer(TransformerMixin):\n",
    "    def __init__(self):\n",
    "        pass\n",
    "\n",
    "    def fit(self, X, y=None):\n",
    "        \"\"\"All SciKit-Learn compatible transformers and classifiers have the\n",
    "        same interface. `fit` always returns the same object.\"\"\"\n",
    "        return self\n",
    "\n",
    "    def transform(self, X):\n",
    "        \"\"\"Returns dataframe with column names in lower case with underscores in place of spaces.\"\"\"\n",
    "        X_ = feature_name_standardize(X)\n",
    "        return X_\n",
    "    \n",
    "    \n",
    "# Building a custom data preprocessing class with fit and transform methods for dropping columns\n",
    "\n",
    "class ColumnDropper(TransformerMixin):\n",
    "    def __init__(self, features: list):\n",
    "        self.features = features\n",
    "\n",
    "    def fit(self, X, y=None):\n",
    "        \"\"\"All SciKit-Learn compatible transformers and classifiers have the\n",
    "        same interface. `fit` always returns the same object.\"\"\"\n",
    "        return self\n",
    "\n",
    "    def transform(self, X):\n",
    "        \"\"\"Given a list of columns, returns a dataframe without those columns.\"\"\"\n",
    "        X_ = drop_feature(X, features=self.features)\n",
    "        return X_\n",
    "        \n",
    "    \n",
    "\n",
    "# Building a custom data preprocessing class with fit and transform methods for custom value masking\n",
    "\n",
    "class CustomValueMasker(TransformerMixin):\n",
    "    def __init__(self, feature: str, value_to_mask: str, masked_value: str):\n",
    "        self.feature = feature\n",
    "        self.value_to_mask = value_to_mask\n",
    "        self.masked_value = masked_value\n",
    "\n",
    "    def fit(self, X, y=None):\n",
    "        \"\"\"All SciKit-Learn compatible transformers and classifiers have the\n",
    "        same interface. `fit` always returns the same object.\"\"\"\n",
    "        return self\n",
    "\n",
    "    def transform(self, X):\n",
    "        \"\"\"Return a dataframe with the required feature value masked as required.\"\"\"\n",
    "        X_ = mask_value(X, self.feature, self.value_to_mask, self.masked_value)\n",
    "        return X_\n",
    "    \n",
    "    \n",
    "# Building a custom class to one-hot encode using pandas\n",
    "class PandasOneHot(TransformerMixin):\n",
    "    def __init__(self, columns: list = None):\n",
    "        self.columns = columns\n",
    "\n",
    "    def fit(self, X, y=None):\n",
    "        \"\"\"All SciKit-Learn compatible transformers and classifiers have the\n",
    "        same interface. `fit` always returns the same object.\"\"\"\n",
    "        return self\n",
    "\n",
    "    def transform(self, X):\n",
    "        \"\"\"Return a dataframe with the required feature value masked as required.\"\"\"\n",
    "        X_ = pd.get_dummies(X, columns = self.columns, drop_first=True)\n",
    "        return X_\n",
    "    \n",
    "# Building a custom class to fill nulls with Unknown\n",
    "class FillUnknown(TransformerMixin):\n",
    "    def __init__(self):\n",
    "        pass\n",
    "\n",
    "    def fit(self, X, y=None):\n",
    "        \"\"\"All SciKit-Learn compatible transformers and classifiers have the\n",
    "        same interface. `fit` always returns the same object.\"\"\"\n",
    "        return self\n",
    "\n",
    "    def transform(self, X):\n",
    "        \"\"\"Return a dataframe with the required feature value masked as required.\"\"\"\n",
    "        X_ = impute_category_unknown(X, fill_value='Unknown')\n",
    "        return X_"
   ]
  },
  {
   "cell_type": "code",
   "execution_count": 10,
   "metadata": {},
   "outputs": [
    {
     "name": "stdout",
     "output_type": "stream",
     "text": [
      "['feature2', 'feature5', 'feature8', 'feature11', 'feature13', 'feature16', 'feature18']\n"
     ]
    }
   ],
   "source": [
    "# Select columns with dtype 'float'\n",
    "num_columns_names = df.select_dtypes(include=['float64']).columns.to_list()\n",
    "\n",
    "# Print the selected columns\n",
    "print(num_columns_names)"
   ]
  },
  {
   "cell_type": "code",
   "execution_count": 11,
   "metadata": {},
   "outputs": [
    {
     "name": "stdout",
     "output_type": "stream",
     "text": [
      "['feature1', 'feature3', 'feature4', 'feature6', 'feature7', 'feature9', 'feature10', 'feature12', 'feature14', 'feature15', 'feature17', 'feature19', 'feature20']\n"
     ]
    }
   ],
   "source": [
    "# Select columns with dtype 'object'\n",
    "obj_columns_names = df.select_dtypes(include=['object']).columns.to_list()\n",
    "\n",
    "# Print the selected columns\n",
    "print(obj_columns_names)"
   ]
  },
  {
   "cell_type": "markdown",
   "metadata": {},
   "source": [
    "### Standardize feature names"
   ]
  },
  {
   "cell_type": "code",
   "execution_count": 12,
   "metadata": {},
   "outputs": [],
   "source": [
    "feature_name_standardizer = FeatureNamesStandardizer()\n",
    "\n",
    "X_train = feature_name_standardizer.fit_transform(X_train)\n",
    "X_val = feature_name_standardizer.transform(X_val)\n",
    "X_test = feature_name_standardizer.transform(X_test)"
   ]
  },
  {
   "cell_type": "code",
   "execution_count": 13,
   "metadata": {},
   "outputs": [
    {
     "data": {
      "text/html": [
       "<div>\n",
       "<style scoped>\n",
       "    .dataframe tbody tr th:only-of-type {\n",
       "        vertical-align: middle;\n",
       "    }\n",
       "\n",
       "    .dataframe tbody tr th {\n",
       "        vertical-align: top;\n",
       "    }\n",
       "\n",
       "    .dataframe thead th {\n",
       "        text-align: right;\n",
       "    }\n",
       "</style>\n",
       "<table border=\"1\" class=\"dataframe\">\n",
       "  <thead>\n",
       "    <tr style=\"text-align: right;\">\n",
       "      <th></th>\n",
       "      <th>feature1</th>\n",
       "      <th>feature2</th>\n",
       "      <th>feature3</th>\n",
       "      <th>feature4</th>\n",
       "      <th>feature5</th>\n",
       "      <th>feature6</th>\n",
       "      <th>feature7</th>\n",
       "      <th>feature8</th>\n",
       "      <th>feature9</th>\n",
       "      <th>feature10</th>\n",
       "      <th>feature11</th>\n",
       "      <th>feature12</th>\n",
       "      <th>feature13</th>\n",
       "      <th>feature14</th>\n",
       "      <th>feature15</th>\n",
       "      <th>feature16</th>\n",
       "      <th>feature17</th>\n",
       "      <th>feature18</th>\n",
       "      <th>feature19</th>\n",
       "      <th>feature20</th>\n",
       "    </tr>\n",
       "  </thead>\n",
       "  <tbody>\n",
       "    <tr>\n",
       "      <th>15809</th>\n",
       "      <td>V3</td>\n",
       "      <td>24.861</td>\n",
       "      <td>V2</td>\n",
       "      <td>V3</td>\n",
       "      <td>2557.035</td>\n",
       "      <td>V4</td>\n",
       "      <td>V4</td>\n",
       "      <td>4.000</td>\n",
       "      <td>V2</td>\n",
       "      <td>V0</td>\n",
       "      <td>4.000</td>\n",
       "      <td>V1</td>\n",
       "      <td>39.751</td>\n",
       "      <td>none</td>\n",
       "      <td>V1</td>\n",
       "      <td>1.000</td>\n",
       "      <td>V2</td>\n",
       "      <td>1.000</td>\n",
       "      <td>none</td>\n",
       "      <td>yes</td>\n",
       "    </tr>\n",
       "    <tr>\n",
       "      <th>18669</th>\n",
       "      <td>V1</td>\n",
       "      <td>24.838</td>\n",
       "      <td>V2</td>\n",
       "      <td>V0</td>\n",
       "      <td>4253.122</td>\n",
       "      <td>V0</td>\n",
       "      <td>V3</td>\n",
       "      <td>4.000</td>\n",
       "      <td>V1</td>\n",
       "      <td>V0</td>\n",
       "      <td>2.000</td>\n",
       "      <td>V1</td>\n",
       "      <td>33.179</td>\n",
       "      <td>none</td>\n",
       "      <td>V1</td>\n",
       "      <td>1.000</td>\n",
       "      <td>V1</td>\n",
       "      <td>1.000</td>\n",
       "      <td>none</td>\n",
       "      <td>yes</td>\n",
       "    </tr>\n",
       "    <tr>\n",
       "      <th>10131</th>\n",
       "      <td>V1</td>\n",
       "      <td>12.404</td>\n",
       "      <td>V4</td>\n",
       "      <td>V3</td>\n",
       "      <td>1560.573</td>\n",
       "      <td>V4</td>\n",
       "      <td>V3</td>\n",
       "      <td>3.000</td>\n",
       "      <td>V1</td>\n",
       "      <td>V0</td>\n",
       "      <td>3.000</td>\n",
       "      <td>V2</td>\n",
       "      <td>23.016</td>\n",
       "      <td>none</td>\n",
       "      <td>V1</td>\n",
       "      <td>2.000</td>\n",
       "      <td>V2</td>\n",
       "      <td>2.000</td>\n",
       "      <td>yes</td>\n",
       "      <td>yes</td>\n",
       "    </tr>\n",
       "    <tr>\n",
       "      <th>25303</th>\n",
       "      <td>V0</td>\n",
       "      <td>11.893</td>\n",
       "      <td>V4</td>\n",
       "      <td>V3</td>\n",
       "      <td>876.914</td>\n",
       "      <td>V0</td>\n",
       "      <td>V1</td>\n",
       "      <td>4.000</td>\n",
       "      <td>V3</td>\n",
       "      <td>V0</td>\n",
       "      <td>3.000</td>\n",
       "      <td>V1</td>\n",
       "      <td>22.581</td>\n",
       "      <td>stores</td>\n",
       "      <td>V0</td>\n",
       "      <td>2.000</td>\n",
       "      <td>V2</td>\n",
       "      <td>1.000</td>\n",
       "      <td>yes</td>\n",
       "      <td>yes</td>\n",
       "    </tr>\n",
       "    <tr>\n",
       "      <th>5651</th>\n",
       "      <td>V0</td>\n",
       "      <td>14.334</td>\n",
       "      <td>V2</td>\n",
       "      <td>V9</td>\n",
       "      <td>4807.648</td>\n",
       "      <td>V1</td>\n",
       "      <td>V1</td>\n",
       "      <td>1.000</td>\n",
       "      <td>V3</td>\n",
       "      <td>V0</td>\n",
       "      <td>1.000</td>\n",
       "      <td>V3</td>\n",
       "      <td>54.769</td>\n",
       "      <td>none</td>\n",
       "      <td>V2</td>\n",
       "      <td>1.000</td>\n",
       "      <td>V2</td>\n",
       "      <td>1.000</td>\n",
       "      <td>none</td>\n",
       "      <td>yes</td>\n",
       "    </tr>\n",
       "  </tbody>\n",
       "</table>\n",
       "</div>"
      ],
      "text/plain": [
       "      feature1  feature2 feature3 feature4  feature5 feature6 feature7  \\\n",
       "15809       V3    24.861       V2       V3  2557.035       V4       V4   \n",
       "18669       V1    24.838       V2       V0  4253.122       V0       V3   \n",
       "10131       V1    12.404       V4       V3  1560.573       V4       V3   \n",
       "25303       V0    11.893       V4       V3   876.914       V0       V1   \n",
       "5651        V0    14.334       V2       V9  4807.648       V1       V1   \n",
       "\n",
       "       feature8 feature9 feature10  feature11 feature12  feature13 feature14  \\\n",
       "15809     4.000       V2        V0      4.000        V1     39.751      none   \n",
       "18669     4.000       V1        V0      2.000        V1     33.179      none   \n",
       "10131     3.000       V1        V0      3.000        V2     23.016      none   \n",
       "25303     4.000       V3        V0      3.000        V1     22.581    stores   \n",
       "5651      1.000       V3        V0      1.000        V3     54.769      none   \n",
       "\n",
       "      feature15  feature16 feature17  feature18 feature19 feature20  \n",
       "15809        V1      1.000        V2      1.000      none       yes  \n",
       "18669        V1      1.000        V1      1.000      none       yes  \n",
       "10131        V1      2.000        V2      2.000       yes       yes  \n",
       "25303        V0      2.000        V2      1.000       yes       yes  \n",
       "5651         V2      1.000        V2      1.000      none       yes  "
      ]
     },
     "execution_count": 13,
     "metadata": {},
     "output_type": "execute_result"
    }
   ],
   "source": [
    "X_train.head()"
   ]
  },
  {
   "cell_type": "markdown",
   "metadata": {},
   "source": [
    "### Impute categorical Nulls to Unknown"
   ]
  },
  {
   "cell_type": "code",
   "execution_count": 14,
   "metadata": {},
   "outputs": [],
   "source": [
    "cat_columns = X_train.select_dtypes(include=\"category\").columns.tolist()\n",
    "imputer = FillUnknown()\n",
    "\n",
    "X_train[cat_columns] = imputer.fit_transform(X_train[cat_columns])\n",
    "X_val[cat_columns] = imputer.transform(X_val[cat_columns])\n",
    "X_test[cat_columns] = imputer.transform(X_test[cat_columns])"
   ]
  },
  {
   "cell_type": "code",
   "execution_count": 15,
   "metadata": {},
   "outputs": [
    {
     "data": {
      "text/html": [
       "<div>\n",
       "<style scoped>\n",
       "    .dataframe tbody tr th:only-of-type {\n",
       "        vertical-align: middle;\n",
       "    }\n",
       "\n",
       "    .dataframe tbody tr th {\n",
       "        vertical-align: top;\n",
       "    }\n",
       "\n",
       "    .dataframe thead th {\n",
       "        text-align: right;\n",
       "    }\n",
       "</style>\n",
       "<table border=\"1\" class=\"dataframe\">\n",
       "  <thead>\n",
       "    <tr style=\"text-align: right;\">\n",
       "      <th></th>\n",
       "      <th>feature1</th>\n",
       "      <th>feature2</th>\n",
       "      <th>feature3</th>\n",
       "      <th>feature4</th>\n",
       "      <th>feature5</th>\n",
       "      <th>feature6</th>\n",
       "      <th>feature7</th>\n",
       "      <th>feature8</th>\n",
       "      <th>feature9</th>\n",
       "      <th>feature10</th>\n",
       "      <th>feature11</th>\n",
       "      <th>feature12</th>\n",
       "      <th>feature13</th>\n",
       "      <th>feature14</th>\n",
       "      <th>feature15</th>\n",
       "      <th>feature16</th>\n",
       "      <th>feature17</th>\n",
       "      <th>feature18</th>\n",
       "      <th>feature19</th>\n",
       "      <th>feature20</th>\n",
       "    </tr>\n",
       "  </thead>\n",
       "  <tbody>\n",
       "    <tr>\n",
       "      <th>15809</th>\n",
       "      <td>V3</td>\n",
       "      <td>24.861</td>\n",
       "      <td>V2</td>\n",
       "      <td>V3</td>\n",
       "      <td>2557.035</td>\n",
       "      <td>V4</td>\n",
       "      <td>V4</td>\n",
       "      <td>4.000</td>\n",
       "      <td>V2</td>\n",
       "      <td>V0</td>\n",
       "      <td>4.000</td>\n",
       "      <td>V1</td>\n",
       "      <td>39.751</td>\n",
       "      <td>none</td>\n",
       "      <td>V1</td>\n",
       "      <td>1.000</td>\n",
       "      <td>V2</td>\n",
       "      <td>1.000</td>\n",
       "      <td>none</td>\n",
       "      <td>yes</td>\n",
       "    </tr>\n",
       "    <tr>\n",
       "      <th>18669</th>\n",
       "      <td>V1</td>\n",
       "      <td>24.838</td>\n",
       "      <td>V2</td>\n",
       "      <td>V0</td>\n",
       "      <td>4253.122</td>\n",
       "      <td>V0</td>\n",
       "      <td>V3</td>\n",
       "      <td>4.000</td>\n",
       "      <td>V1</td>\n",
       "      <td>V0</td>\n",
       "      <td>2.000</td>\n",
       "      <td>V1</td>\n",
       "      <td>33.179</td>\n",
       "      <td>none</td>\n",
       "      <td>V1</td>\n",
       "      <td>1.000</td>\n",
       "      <td>V1</td>\n",
       "      <td>1.000</td>\n",
       "      <td>none</td>\n",
       "      <td>yes</td>\n",
       "    </tr>\n",
       "    <tr>\n",
       "      <th>10131</th>\n",
       "      <td>V1</td>\n",
       "      <td>12.404</td>\n",
       "      <td>V4</td>\n",
       "      <td>V3</td>\n",
       "      <td>1560.573</td>\n",
       "      <td>V4</td>\n",
       "      <td>V3</td>\n",
       "      <td>3.000</td>\n",
       "      <td>V1</td>\n",
       "      <td>V0</td>\n",
       "      <td>3.000</td>\n",
       "      <td>V2</td>\n",
       "      <td>23.016</td>\n",
       "      <td>none</td>\n",
       "      <td>V1</td>\n",
       "      <td>2.000</td>\n",
       "      <td>V2</td>\n",
       "      <td>2.000</td>\n",
       "      <td>yes</td>\n",
       "      <td>yes</td>\n",
       "    </tr>\n",
       "    <tr>\n",
       "      <th>25303</th>\n",
       "      <td>V0</td>\n",
       "      <td>11.893</td>\n",
       "      <td>V4</td>\n",
       "      <td>V3</td>\n",
       "      <td>876.914</td>\n",
       "      <td>V0</td>\n",
       "      <td>V1</td>\n",
       "      <td>4.000</td>\n",
       "      <td>V3</td>\n",
       "      <td>V0</td>\n",
       "      <td>3.000</td>\n",
       "      <td>V1</td>\n",
       "      <td>22.581</td>\n",
       "      <td>stores</td>\n",
       "      <td>V0</td>\n",
       "      <td>2.000</td>\n",
       "      <td>V2</td>\n",
       "      <td>1.000</td>\n",
       "      <td>yes</td>\n",
       "      <td>yes</td>\n",
       "    </tr>\n",
       "    <tr>\n",
       "      <th>5651</th>\n",
       "      <td>V0</td>\n",
       "      <td>14.334</td>\n",
       "      <td>V2</td>\n",
       "      <td>V9</td>\n",
       "      <td>4807.648</td>\n",
       "      <td>V1</td>\n",
       "      <td>V1</td>\n",
       "      <td>1.000</td>\n",
       "      <td>V3</td>\n",
       "      <td>V0</td>\n",
       "      <td>1.000</td>\n",
       "      <td>V3</td>\n",
       "      <td>54.769</td>\n",
       "      <td>none</td>\n",
       "      <td>V2</td>\n",
       "      <td>1.000</td>\n",
       "      <td>V2</td>\n",
       "      <td>1.000</td>\n",
       "      <td>none</td>\n",
       "      <td>yes</td>\n",
       "    </tr>\n",
       "  </tbody>\n",
       "</table>\n",
       "</div>"
      ],
      "text/plain": [
       "      feature1  feature2 feature3 feature4  feature5 feature6 feature7  \\\n",
       "15809       V3    24.861       V2       V3  2557.035       V4       V4   \n",
       "18669       V1    24.838       V2       V0  4253.122       V0       V3   \n",
       "10131       V1    12.404       V4       V3  1560.573       V4       V3   \n",
       "25303       V0    11.893       V4       V3   876.914       V0       V1   \n",
       "5651        V0    14.334       V2       V9  4807.648       V1       V1   \n",
       "\n",
       "       feature8 feature9 feature10  feature11 feature12  feature13 feature14  \\\n",
       "15809     4.000       V2        V0      4.000        V1     39.751      none   \n",
       "18669     4.000       V1        V0      2.000        V1     33.179      none   \n",
       "10131     3.000       V1        V0      3.000        V2     23.016      none   \n",
       "25303     4.000       V3        V0      3.000        V1     22.581    stores   \n",
       "5651      1.000       V3        V0      1.000        V3     54.769      none   \n",
       "\n",
       "      feature15  feature16 feature17  feature18 feature19 feature20  \n",
       "15809        V1      1.000        V2      1.000      none       yes  \n",
       "18669        V1      1.000        V1      1.000      none       yes  \n",
       "10131        V1      2.000        V2      2.000       yes       yes  \n",
       "25303        V0      2.000        V2      1.000       yes       yes  \n",
       "5651         V2      1.000        V2      1.000      none       yes  "
      ]
     },
     "execution_count": 15,
     "metadata": {},
     "output_type": "execute_result"
    }
   ],
   "source": [
    "X_train.head()"
   ]
  },
  {
   "cell_type": "markdown",
   "metadata": {},
   "source": [
    "### Category Encoder"
   ]
  },
  {
   "cell_type": "code",
   "execution_count": 16,
   "metadata": {},
   "outputs": [],
   "source": [
    "import category_encoders as ce"
   ]
  },
  {
   "cell_type": "code",
   "execution_count": 17,
   "metadata": {},
   "outputs": [],
   "source": [
    "cols = ['feature8', 'feature11', 'feature16', 'feature18'] + obj_columns_names\n",
    "\n",
    "# Create an instance of the TargetEncoder\n",
    "encoder = ce.TargetEncoder(cols=cols)\n",
    "\n",
    "# Fit and transform the data\n",
    "X_train = encoder.fit_transform(X_train, y_train)\n",
    "X_val = encoder.transform(X_val)\n",
    "X_test = encoder.transform(X_test)"
   ]
  },
  {
   "cell_type": "markdown",
   "metadata": {},
   "source": [
    "### Scaling"
   ]
  },
  {
   "cell_type": "code",
   "execution_count": 18,
   "metadata": {},
   "outputs": [],
   "source": [
    "for col in ['feature2', 'feature5', 'feature13']: \n",
    "#     sc = RobustScaler(with_centering=True, with_scaling=True)\n",
    "    sc = StandardScaler()\n",
    "    scale_train = sc.fit_transform(X_train[col].values.reshape(-1, 1))\n",
    "    scale_test = sc.transform(X_test[col].values.reshape(-1, 1))\n",
    "    scale_val = sc.transform(X_val[col].values.reshape(-1, 1))\n",
    "    \n",
    "    # Assign the scaled data back\n",
    "    X_train.loc[:, col] = scale_train.flatten()\n",
    "    X_test.loc[:, col] = scale_test.flatten()\n",
    "    X_val.loc[:, col] = scale_val.flatten()\n"
   ]
  },
  {
   "cell_type": "markdown",
   "metadata": {},
   "source": [
    "## Correlation"
   ]
  },
  {
   "cell_type": "code",
   "execution_count": 19,
   "metadata": {},
   "outputs": [
    {
     "data": {
      "image/png": "[encoded data removed]",
      "text/plain": [
       "<Figure size 576x576 with 1 Axes>"
      ]
     },
     "metadata": {
      "needs_background": "light"
     },
     "output_type": "display_data"
    }
   ],
   "source": [
    "df_train = pd.concat([X_train, y_train], axis=1)\n",
    "correlation_label = df_train.corr()['label']\n",
    "correlation_label = correlation_label.drop('label').sort_values(ascending=False)\n",
    "\n",
    "plt.figure(figsize=(8, 8))\n",
    "sns.barplot(x=correlation_label.index, y=correlation_label.values)\n",
    "plt.xlabel('Features')\n",
    "plt.ylabel('Correlation with Label')\n",
    "plt.title('Correlation of Features with Label')\n",
    "plt.xticks(rotation=90)\n",
    "plt.show()"
   ]
  },
  {
   "cell_type": "markdown",
   "metadata": {},
   "source": [
    "## Label"
   ]
  },
  {
   "cell_type": "code",
   "execution_count": 20,
   "metadata": {},
   "outputs": [
    {
     "data": {
      "text/plain": [
       "([<matplotlib.patches.Wedge at 0x7f7002fbe630>,\n",
       "  <matplotlib.patches.Wedge at 0x7f7002fbeda0>],\n",
       " [Text(-0.6365048996877849, 0.8971407429570027, '0'),\n",
       "  Text(0.6365048996877848, -0.8971407429570029, '1')],\n",
       " [Text(-0.34718449073879176, 0.4893494961583651, ' 69.64%\\n 41785'),\n",
       "  Text(0.3471844907387917, -0.48934949615836515, ' 30.36%\\n 18215')])"
      ]
     },
     "execution_count": 20,
     "metadata": {},
     "output_type": "execute_result"
    },
    {
     "data": {
      "image/png": "[encoded data removed]",
      "text/plain": [
       "<Figure size 432x432 with 1 Axes>"
      ]
     },
     "metadata": {},
     "output_type": "display_data"
    }
   ],
   "source": [
    "total = df['label'].value_counts().sum()\n",
    "def fmt(x):\n",
    "    return f'{x: .2f}%\\n{total * x / 100: .0f}'\n",
    "\n",
    "plt.figure(figsize=(6, 6))\n",
    "plt.pie(df['label'].value_counts().values, labels=df['label'].value_counts().index, autopct=fmt)"
   ]
  },
  {
   "cell_type": "code",
   "execution_count": 21,
   "metadata": {},
   "outputs": [
    {
     "name": "stdout",
     "output_type": "stream",
     "text": [
      "Training data shape:\n",
      " (48000, 20) \n",
      "Validation Data Shape:\n",
      " (6000, 20) \n",
      "Testing Data Shape:\n",
      " (6000, 20)\n"
     ]
    }
   ],
   "source": [
    "print(\n",
    "    \"Training data shape:\\n\",\n",
    "    X_train.shape,\n",
    "    \"\\nValidation Data Shape:\\n\",\n",
    "    X_val.shape,\n",
    "    \"\\nTesting Data Shape:\\n\",\n",
    "    X_test.shape,\n",
    ")"
   ]
  },
  {
   "cell_type": "markdown",
   "metadata": {},
   "source": [
    "## Oversampling and Undersampling train data using SMOTE, RandomUnderSampler to deal with imbalance dataset."
   ]
  },
  {
   "cell_type": "code",
   "execution_count": 22,
   "metadata": {},
   "outputs": [
    {
     "name": "stdout",
     "output_type": "stream",
     "text": [
      "Before UpSampling, counts of label '1 - Good': 14572\n",
      "Before UpSampling, counts of label '0 - Bad': 33428 \n",
      "\n",
      "After UpSampling, counts of label '1 - Good': 33428\n",
      "After UpSampling, counts of label '0 - Bad': 33428 \n",
      "\n",
      "After UpSampling, the shape of train_X: (66856, 20)\n",
      "After UpSampling, the shape of train_y: (66856,) \n",
      "\n"
     ]
    }
   ],
   "source": [
    "def oversampling_data():\n",
    "    sm = SMOTE(\n",
    "      sampling_strategy=\"minority\", k_neighbors=10, random_state=seed\n",
    "    )  # Synthetic Minority Over Sampling Technique\n",
    "    return sm\n",
    "\n",
    "X_train_over, y_train_over = oversampling_data().fit_resample(X_train, y_train)\n",
    "print(\"Before UpSampling, counts of label '1 - Good': {}\".format(sum(y_train == 1)))\n",
    "print(\"Before UpSampling, counts of label '0 - Bad': {} \\n\".format(sum(y_train == 0)))\n",
    "\n",
    "print(\"After UpSampling, counts of label '1 - Good': {}\".format(sum(y_train_over == 1)))\n",
    "print(\"After UpSampling, counts of label '0 - Bad': {} \\n\".format(sum(y_train_over == 0)))\n",
    "\n",
    "\n",
    "print(\"After UpSampling, the shape of train_X: {}\".format(X_train_over.shape))\n",
    "print(\"After UpSampling, the shape of train_y: {} \\n\".format(y_train_over.shape))"
   ]
  },
  {
   "cell_type": "code",
   "execution_count": 23,
   "metadata": {},
   "outputs": [
    {
     "name": "stdout",
     "output_type": "stream",
     "text": [
      "Before Under Sampling, counts of label 'Yes': 14572\n",
      "Before Under Sampling, counts of label 'No': 33428 \n",
      "\n",
      "After Under Sampling, counts of label 'Yes': 14572\n",
      "After Under Sampling, counts of label 'No': 14572 \n",
      "\n",
      "After Under Sampling, the shape of train_X: (29144, 20)\n",
      "After Under Sampling, the shape of train_y: (29144,) \n",
      "\n"
     ]
    }
   ],
   "source": [
    "def undersampling_data():\n",
    "    rus = RandomUnderSampler(random_state=1)\n",
    "    return rus\n",
    "\n",
    "\n",
    "X_train_un, y_train_un = undersampling_data().fit_resample(X_train, y_train)\n",
    "\n",
    "print(\"Before Under Sampling, counts of label 'Yes': {}\".format(sum(y_train == 1)))\n",
    "print(\"Before Under Sampling, counts of label 'No': {} \\n\".format(sum(y_train == 0)))\n",
    "\n",
    "print(\"After Under Sampling, counts of label 'Yes': {}\".format(sum(y_train_un == 1)))\n",
    "print(\"After Under Sampling, counts of label 'No': {} \\n\".format(sum(y_train_un == 0)))\n",
    "\n",
    "print(\"After Under Sampling, the shape of train_X: {}\".format(X_train_un.shape))\n",
    "print(\"After Under Sampling, the shape of train_y: {} \\n\".format(y_train_un.shape))\n"
   ]
  },
  {
   "cell_type": "markdown",
   "metadata": {},
   "source": [
    "## Feature Selection with Undersample data"
   ]
  },
  {
   "cell_type": "code",
   "execution_count": 24,
   "metadata": {},
   "outputs": [
    {
     "name": "stdout",
     "output_type": "stream",
     "text": [
      "(66856, 7)\n",
      "[108 417 162 152 393 107 254 140 145  70 108 157 341  94  88  41  75  32\n",
      "  66  50]\n"
     ]
    }
   ],
   "source": [
    "# Feature Selection\n",
    "lgbm = lgb.LGBMClassifier(random_state=seed)\n",
    "lgbm = lgbm.fit(X_train, y_train)\n",
    "model = SelectFromModel(lgbm, prefit=True)\n",
    "X_lgbm = model.transform(X_train_over)\n",
    "print(X_lgbm.shape)\n",
    "print(lgbm.feature_importances_)"
   ]
  },
  {
   "cell_type": "code",
   "execution_count": 25,
   "metadata": {},
   "outputs": [
    {
     "data": {
      "image/png": "[encoded data removed]",
      "text/plain": [
       "<Figure size 504x504 with 1 Axes>"
      ]
     },
     "metadata": {
      "needs_background": "light"
     },
     "output_type": "display_data"
    }
   ],
   "source": [
    "def plotImp(model, X , num = 20, fig_size = (7, 7)):\n",
    "    feature_imp = pd.DataFrame({'Value':lgbm.feature_importances_,'Feature': X.columns})\n",
    "    plt.figure(figsize=fig_size)\n",
    "    sns.set(font_scale = 1)\n",
    "    sns.barplot(x=\"Value\", y=\"Feature\", data=feature_imp.sort_values(by=\"Value\",\n",
    "                                                        ascending=False)[0:num])\n",
    "    plt.title('LightGBM Features (avg over folds)')\n",
    "    plt.tight_layout()\n",
    "    plt.savefig('lgbm_importances-01.png')\n",
    "    plt.show()\n",
    "\n",
    "plotImp(lgbm, X_train_un)"
   ]
  },
  {
   "cell_type": "code",
   "execution_count": 26,
   "metadata": {},
   "outputs": [
    {
     "name": "stdout",
     "output_type": "stream",
     "text": [
      "(29144, 7)\n",
      "[ 92 441 162 168 385 121 220 139 126  71  99 157 389  91  87  42  80  27\n",
      "  59  44]\n"
     ]
    },
    {
     "data": {
      "image/png": "[encoded data removed]",
      "text/plain": [
       "<Figure size 504x504 with 1 Axes>"
      ]
     },
     "metadata": {},
     "output_type": "display_data"
    }
   ],
   "source": [
    "lgbm = lgb.LGBMClassifier(random_state=seed)\n",
    "lgbm_un = lgbm.fit(X_train_un, y_train_un)\n",
    "model = SelectFromModel(lgbm, prefit=True)\n",
    "X_lgbm = model.transform(X_train_un)\n",
    "print(X_lgbm.shape)\n",
    "print(lgbm.feature_importances_)\n",
    "\n",
    "def plotImp(model, X , num = 20, fig_size = (7, 7)):\n",
    "    feature_imp = pd.DataFrame({'Value':lgbm_un.feature_importances_,'Feature':X.columns})\n",
    "    plt.figure(figsize=fig_size)\n",
    "    sns.set(font_scale = 1)\n",
    "    sns.barplot(x=\"Value\", y=\"Feature\", data=feature_imp.sort_values(by=\"Value\",\n",
    "                                                        ascending=False)[0:num])\n",
    "    plt.title('LightGBM Features one Undersample data (avg over folds)')\n",
    "    plt.tight_layout()\n",
    "    plt.savefig('lgbm_importances_undersample-02.png')\n",
    "    plt.show()\n",
    "\n",
    "plotImp(lgbm_un, X_train_un)"
   ]
  },
  {
   "cell_type": "code",
   "execution_count": 27,
   "metadata": {},
   "outputs": [
    {
     "name": "stdout",
     "output_type": "stream",
     "text": [
      "(29144, 8)\n",
      "(29144, 5)\n"
     ]
    }
   ],
   "source": [
    "# AdaBoostClassifier\n",
    "adb = AdaBoostClassifier(random_state=seed)\n",
    "adb_un = adb.fit(X_train_un,y_train_un)\n",
    "model = SelectFromModel(adb_un, prefit=True)\n",
    "X_adb = model.transform(X_train_un)\n",
    "print(X_adb.shape)\n",
    "\n",
    "\n",
    "# XGBClassifier\n",
    "xgb = XGBClassifier(random_state=seed, eval_metric=loss_func)\n",
    "xgb_un = xgb.fit(X_train_un,y_train_un)\n",
    "model = SelectFromModel(xgb_un, prefit=True)\n",
    "X_xgb = model.transform(X_train_un)\n",
    "print(X_xgb.shape)"
   ]
  },
  {
   "cell_type": "code",
   "execution_count": 28,
   "metadata": {},
   "outputs": [
    {
     "data": {
      "image/png": "[encoded data removed]",
      "text/plain": [
       "<Figure size 504x504 with 1 Axes>"
      ]
     },
     "metadata": {},
     "output_type": "display_data"
    }
   ],
   "source": [
    "def plotImp(model, X , num = 20, fig_size = (7, 7)):\n",
    "    feature_imp = pd.DataFrame({'Value':adb_un.feature_importances_,'Feature':X.columns})\n",
    "    plt.figure(figsize=fig_size)\n",
    "    sns.set(font_scale = 1)\n",
    "    sns.barplot(x=\"Value\", y=\"Feature\", data=feature_imp.sort_values(by=\"Value\",\n",
    "                                                        ascending=False)[0:num])\n",
    "    plt.title('AdaBoostClassifier on Undersample data (avg over folds)')\n",
    "    plt.tight_layout()\n",
    "    plt.savefig('adb_importances_undersample-03.png')\n",
    "    plt.show()\n",
    "\n",
    "plotImp(adb_un, X_train_un)"
   ]
  },
  {
   "cell_type": "code",
   "execution_count": 29,
   "metadata": {},
   "outputs": [
    {
     "data": {
      "image/png": "[encoded data removed]",
      "text/plain": [
       "<Figure size 504x504 with 1 Axes>"
      ]
     },
     "metadata": {},
     "output_type": "display_data"
    }
   ],
   "source": [
    "def plotImp(model, X , num = 20, fig_size = (7, 7)):\n",
    "    feature_imp = pd.DataFrame({'Value': xgb_un.feature_importances_,'Feature': X.columns})\n",
    "    plt.figure(figsize=fig_size)\n",
    "    sns.set(font_scale = 1)\n",
    "    sns.barplot(x=\"Value\", y=\"Feature\", data=feature_imp.sort_values(by=\"Value\",\n",
    "                                                        ascending=False)[0:num])\n",
    "    plt.title('XGBClassifier on Undersample data (avg over folds)')\n",
    "    plt.tight_layout()\n",
    "    plt.savefig('xgb_importances_undersample-04.png')\n",
    "    plt.show()\n",
    "\n",
    "plotImp(xgb_un, X_train_un)\n",
    "     "
   ]
  },
  {
   "cell_type": "code",
   "execution_count": 30,
   "metadata": {},
   "outputs": [
    {
     "data": {
      "image/png": "[encoded data removed]",
      "text/plain": [
       "<Figure size 504x504 with 1 Axes>"
      ]
     },
     "metadata": {},
     "output_type": "display_data"
    }
   ],
   "source": [
    "#GradientBoostingClassifier\n",
    "gbm = GradientBoostingClassifier(random_state=seed)\n",
    "gbm_un = gbm.fit(X_train_un, y_train_un)\n",
    "model = SelectFromModel(gbm_un, prefit=True)\n",
    "X_gbm = model.transform(X_train_un)\n",
    "X_gbm.shape\n",
    "def plotImp(model, X , num = 20, fig_size = (7, 7)):\n",
    "    feature_imp = pd.DataFrame({'Value': gbm_un.feature_importances_,'Feature': X.columns})\n",
    "    plt.figure(figsize=fig_size)\n",
    "    sns.set(font_scale = 1)\n",
    "    sns.barplot(x=\"Value\", y=\"Feature\", data=feature_imp.sort_values(by=\"Value\",\n",
    "                                                        ascending=False)[0:num])\n",
    "    plt.title('GradientBoostingClassifier on Undersample data (avg over folds)')\n",
    "    plt.tight_layout()\n",
    "    plt.savefig('gbm_importances_undersample-05.png')\n",
    "    plt.show()\n",
    "\n",
    "plotImp(gbm_un, X_train_un)"
   ]
  },
  {
   "cell_type": "code",
   "execution_count": 31,
   "metadata": {},
   "outputs": [],
   "source": [
    "from sklearn.model_selection import cross_validate\n",
    "def cross_validation(model, _X, _y, _cv=5):\n",
    "    '''Function to perform 5 Folds Cross-Validation\n",
    "    Parameters\n",
    "    ----------\n",
    "    model: Python Class, default=None\n",
    "      This is the machine learning algorithm to be used for training.\n",
    "    _X: array\n",
    "    This is the matrix of features.\n",
    "    _y: array\n",
    "    This is the target variable.\n",
    "    _cv: int, default=5\n",
    "    Determines the number of folds for cross-validation.\n",
    "    Returns\n",
    "    -------\n",
    "    The function returns a dictionary containing the metrics 'accuracy', 'precision',\n",
    "    'recall', 'f1' for both training set and validation set.\n",
    "    '''\n",
    "\n",
    "    _scoring = ['accuracy', 'precision', 'recall', 'f1', 'roc_auc']\n",
    "    results = cross_validate(estimator=model,\n",
    "                       X=_X,\n",
    "                       y=_y,\n",
    "                       cv=_cv,\n",
    "                       scoring=_scoring,\n",
    "                       return_train_score=True)\n",
    "\n",
    "    return {\"Training Accuracy scores\": results['train_accuracy'],\n",
    "      \"Mean Training Accuracy\": results['train_accuracy'].mean()*100,\n",
    "      \"Training Precision scores\": results['train_precision'],\n",
    "      \"Mean Training Precision\": results['train_precision'].mean(),\n",
    "      \"Training Recall scores\": results['train_recall'],\n",
    "      \"Mean Training Recall\": results['train_recall'].mean(),\n",
    "      \"Training F1 scores\": results['train_f1'],\n",
    "      \"Mean Training F1 Score\": results['train_f1'].mean(),\n",
    "      \"Training ROC-AUC\": results['train_roc_auc'],\n",
    "      \"Mean Training ROC-AUC\": results['train_roc_auc'].mean(),\n",
    "      \"Validation Accuracy scores\": results['test_accuracy'],\n",
    "      \"Mean Validation Accuracy\": results['test_accuracy'].mean()*100,\n",
    "      \"Validation Precision scores\": results['test_precision'],\n",
    "      \"Mean Validation Precision\": results['test_precision'].mean(),\n",
    "      \"Validation Recall scores\": results['test_recall'],\n",
    "      \"Mean Validation Recall\": results['test_recall'].mean(),\n",
    "      \"Validation F1 scores\": results['test_f1'],\n",
    "      \"Mean Validation F1 Score\": results['test_f1'].mean(),\n",
    "      \"Validation ROC-AUC\": results['test_roc_auc'],\n",
    "      \"Mean Validation ROC-AUC\": results['test_roc_auc'].mean()\n",
    "      }"
   ]
  },
  {
   "cell_type": "code",
   "execution_count": 32,
   "metadata": {},
   "outputs": [],
   "source": [
    "X_train, X_test, X_val = X_train.values, X_test.values, X_val.values\n",
    "X_train_over = X_train_over.values\n",
    "X_train_un = X_train_un.values"
   ]
  },
  {
   "cell_type": "code",
   "execution_count": 33,
   "metadata": {},
   "outputs": [
    {
     "data": {
      "text/plain": [
       "{'Training Accuracy scores': array([0.83403646, 0.83200521, 0.83289062, 0.83270833, 0.83388021]),\n",
       " 'Mean Training Accuracy': 83.31041666666667,\n",
       " 'Training Precision scores': array([0.77673055, 0.77184922, 0.77488723, 0.77562414, 0.77778947]),\n",
       " 'Mean Training Precision': 0.775376124281138,\n",
       " 'Training Recall scores': array([0.63621547, 0.63407102, 0.63364213, 0.63163764, 0.63386806]),\n",
       " 'Mean Training Recall': 0.63388686748507,\n",
       " 'Training F1 scores': array([0.69948602, 0.69620909, 0.69718277, 0.69626478, 0.69849222]),\n",
       " 'Mean Training F1 Score': 0.6975269748027835,\n",
       " 'Training ROC-AUC': array([0.89491313, 0.89364474, 0.89435799, 0.89382148, 0.89446339]),\n",
       " 'Mean Training ROC-AUC': 0.8942401472128083,\n",
       " 'Validation Accuracy scores': array([0.81114583, 0.81625   , 0.813125  , 0.81385417, 0.80666667]),\n",
       " 'Mean Validation Accuracy': 81.22083333333332,\n",
       " 'Validation Precision scores': array([0.72985386, 0.74179983, 0.74518389, 0.73039216, 0.7275462 ]),\n",
       " 'Mean Validation Precision': 0.7349551871205974,\n",
       " 'Validation Recall scores': array([0.59986273, 0.60535347, 0.58407687, 0.61337907, 0.58078902]),\n",
       " 'Mean Validation Recall': 0.5966922328005453,\n",
       " 'Validation F1 scores': array([0.65850443, 0.66666667, 0.65486726, 0.66679098, 0.64593667]),\n",
       " 'Mean Validation F1 Score': 0.6585531980689656,\n",
       " 'Validation ROC-AUC': array([0.86811982, 0.86998601, 0.86735901, 0.86674537, 0.86538881]),\n",
       " 'Mean Validation ROC-AUC': 0.8675198046668171}"
      ]
     },
     "execution_count": 33,
     "metadata": {},
     "output_type": "execute_result"
    }
   ],
   "source": [
    "LGBM_result = cross_validation(lgbm, X_train, y_train)\n",
    "LGBM_result"
   ]
  },
  {
   "cell_type": "code",
   "execution_count": 34,
   "metadata": {},
   "outputs": [
    {
     "name": "stdout",
     "output_type": "stream",
     "text": [
      "0.778\n",
      "              precision    recall  f1-score   support\n",
      "\n",
      "           0       0.89      0.78      0.83      4178\n",
      "           1       0.60      0.78      0.68      1822\n",
      "\n",
      "    accuracy                           0.78      6000\n",
      "   macro avg       0.75      0.78      0.76      6000\n",
      "weighted avg       0.80      0.78      0.78      6000\n",
      "\n"
     ]
    }
   ],
   "source": [
    "y_pred = lgbm.predict(X_test)\n",
    "# Ket qua lan 1\n",
    "print(accuracy_score(y_test, y_pred))\n",
    "print(classification_report(y_test, y_pred))"
   ]
  },
  {
   "cell_type": "code",
   "execution_count": 35,
   "metadata": {},
   "outputs": [
    {
     "data": {
      "image/png": "[encoded data removed]",
      "text/plain": [
       "<Figure size 432x288 with 2 Axes>"
      ]
     },
     "metadata": {},
     "output_type": "display_data"
    }
   ],
   "source": [
    "cm = confusion_matrix(y_test, y_pred)\n",
    "group_names = ['True Neg','False Pos','False Neg','True Pos']\n",
    "group_counts = [\"{0:0.0f}\".format(value) for value in cm.flatten()]\n",
    "group_percentages = [\"{0:.2%}\".format(value) for value in cm.flatten()/np.sum(cm)]\n",
    "labels = [f\"{v1}\\n{v2}\\n{v3}\" for v1, v2, v3 in zip(group_names, group_counts, group_percentages)]\n",
    "labels = np.asarray(labels).reshape(2,2)\n",
    "ax = sns.heatmap(cm, annot=labels, fmt='', cmap='plasma', lw=.5)\n",
    "\n",
    "ax.set_title('Confusion Matrix for LightGBM Model\\n');\n",
    "ax.set_xlabel('\\nPredicted Values')\n",
    "ax.set_ylabel('Actual Values');\n",
    "\n",
    "## Ticket labels - List must be in alphabetical order\n",
    "ax.xaxis.set_ticklabels(['False','True'])\n",
    "ax.yaxis.set_ticklabels(['False','True'])\n",
    "\n",
    "## Display the visualization of the Confusion Matrix.\n",
    "plt.show()"
   ]
  },
  {
   "cell_type": "code",
   "execution_count": 36,
   "metadata": {},
   "outputs": [
    {
     "data": {
      "text/plain": [
       "{'Training Accuracy scores': array([0.81621274, 0.81612696, 0.81672743, 0.81436843, 0.81570595]),\n",
       " 'Mean Training Accuracy': 81.58283019004676,\n",
       " 'Training Precision scores': array([0.81164934, 0.81182841, 0.81256349, 0.80958013, 0.81004128]),\n",
       " 'Mean Training Precision': 0.8111325300338518,\n",
       " 'Training Recall scores': array([0.82355464, 0.82303997, 0.82336793, 0.82208115, 0.82484131]),\n",
       " 'Mean Training Recall': 0.8233770020429985,\n",
       " 'Training F1 scores': array([0.81755865, 0.81739575, 0.81793004, 0.81578275, 0.8173743 ]),\n",
       " 'Mean Training F1 Score': 0.8172082981912162,\n",
       " 'Training ROC-AUC': array([0.89865884, 0.90004775, 0.90055839, 0.89844941, 0.90117492]),\n",
       " 'Mean Training ROC-AUC': 0.8997778640332458,\n",
       " 'Validation Accuracy scores': array([0.7718305 , 0.78349631, 0.77800652, 0.78212386, 0.78157172]),\n",
       " 'Mean Validation Accuracy': 77.94057838985321,\n",
       " 'Validation Precision scores': array([0.7659503 , 0.77905405, 0.77502545, 0.77815353, 0.77841873]),\n",
       " 'Mean Validation Precision': 0.7753204141560042,\n",
       " 'Validation Recall scores': array([0.78277282, 0.79135209, 0.78353345, 0.78936535, 0.78723404]),\n",
       " 'Mean Validation Recall': 0.786851551214872,\n",
       " 'Validation F1 scores': array([0.7742702 , 0.78515492, 0.77925623, 0.78371935, 0.78280157]),\n",
       " 'Mean Validation F1 Score': 0.7810404518308788,\n",
       " 'Validation ROC-AUC': array([0.85400215, 0.86494359, 0.8566863 , 0.86621162, 0.86185687]),\n",
       " 'Mean Validation ROC-AUC': 0.8607401060457308}"
      ]
     },
     "execution_count": 36,
     "metadata": {},
     "output_type": "execute_result"
    }
   ],
   "source": [
    "LGBM_result_un = cross_validation(lgbm_un, X_train_un, y_train_un)\n",
    "LGBM_result_un"
   ]
  },
  {
   "cell_type": "code",
   "execution_count": 37,
   "metadata": {},
   "outputs": [],
   "source": [
    "## Undersampling test, val data\n",
    "X_test_un, y_test_un = undersampling_data().fit_resample(X_test, y_test)\n",
    "X_val_un, y_val_un = undersampling_data().fit_resample(X_val, y_val)"
   ]
  },
  {
   "cell_type": "code",
   "execution_count": 38,
   "metadata": {},
   "outputs": [
    {
     "name": "stdout",
     "output_type": "stream",
     "text": [
      "0.781284302963776\n",
      "              precision    recall  f1-score   support\n",
      "\n",
      "           0       0.78      0.78      0.78      1822\n",
      "           1       0.78      0.78      0.78      1822\n",
      "\n",
      "    accuracy                           0.78      3644\n",
      "   macro avg       0.78      0.78      0.78      3644\n",
      "weighted avg       0.78      0.78      0.78      3644\n",
      "\n"
     ]
    }
   ],
   "source": [
    "# Ket qua lan 2\n",
    "y_pred_un = lgbm_un.predict(X_test_un)\n",
    "cm = confusion_matrix(y_test_un, y_pred_un)\n",
    "print(accuracy_score(y_test_un, y_pred_un))\n",
    "print(classification_report(y_test_un, y_pred_un))"
   ]
  },
  {
   "cell_type": "code",
   "execution_count": 39,
   "metadata": {},
   "outputs": [
    {
     "data": {
      "image/png": "[encoded data removed]",
      "text/plain": [
       "<Figure size 432x288 with 2 Axes>"
      ]
     },
     "metadata": {},
     "output_type": "display_data"
    }
   ],
   "source": [
    "group_names = ['True Neg','False Pos','False Neg','True Pos']\n",
    "group_counts = [\"{0:0.0f}\".format(value) for value in cm.flatten()]\n",
    "group_percentages = [\"{0:.2%}\".format(value) for value in cm.flatten()/np.sum(cm)]\n",
    "labels = [f\"{v1}\\n{v2}\\n{v3}\" for v1, v2, v3 in zip(group_names, group_counts, group_percentages)]\n",
    "labels = np.asarray(labels).reshape(2,2)\n",
    "ax = sns.heatmap(cm, annot=labels, fmt='', cmap='plasma', lw=.5)\n",
    "\n",
    "ax.set_title('Confusion Matrix for LightGBM Model\\n');\n",
    "ax.set_xlabel('\\nPredicted Values')\n",
    "ax.set_ylabel('Actual Values');\n",
    "\n",
    "## Ticket labels - List must be in alphabetical order\n",
    "ax.xaxis.set_ticklabels(['False','True'])\n",
    "ax.yaxis.set_ticklabels(['False','True'])\n",
    "\n",
    "## Display the visualization of the Confusion Matrix.\n",
    "plt.show()"
   ]
  },
  {
   "cell_type": "markdown",
   "metadata": {},
   "source": [
    "## Fine Tuning"
   ]
  },
  {
   "cell_type": "markdown",
   "metadata": {},
   "source": [
    "### Use Optuna to tune the model"
   ]
  },
  {
   "cell_type": "code",
   "execution_count": 40,
   "metadata": {},
   "outputs": [],
   "source": [
    "# pip install optuna"
   ]
  },
  {
   "cell_type": "code",
   "execution_count": null,
   "metadata": {},
   "outputs": [],
   "source": [
    "import optuna\n",
    "\n",
    "pipeline = Pipeline(steps=[('model', lgbm)])\n",
    "\n",
    "def objective(trial):\n",
    "    params = {\n",
    "        'model__num_leaves': trial.suggest_int('model__num_leaves', 20, 200),\n",
    "        'model__min_data_in_leaf': trial.suggest_int('model__min_data_in_leaf', 50, 1500),\n",
    "        'model__max_depth': trial.suggest_int('model__max_depth', 4, 20),\n",
    "        'model__learning_rate': trial.suggest_float('model__learning_rate', 0.01, 0.1),\n",
    "        'model__num_iterations': trial.suggest_int('model__num_iterations', 3, 27),\n",
    "    }\n",
    "    pipeline.set_params(**params)\n",
    "    pipeline.fit(X_train, y_train)\n",
    "    predictions = pipeline.predict(X_test)\n",
    "    return accuracy_score(y_test, predictions)\n",
    "\n",
    "optuna.logging.set_verbosity(optuna.logging.WARNING)\n",
    "study = optuna.create_study(study_name='churn model', direction='maximize')\n",
    "study.optimize(objective, n_trials=250, show_progress_bar=False)"
   ]
  },
  {
   "cell_type": "code",
   "execution_count": 42,
   "metadata": {},
   "outputs": [
    {
     "name": "stdout",
     "output_type": "stream",
     "text": [
      "Best parameters {'model__num_leaves': 190, 'model__min_data_in_leaf': 67, 'model__max_depth': 11, 'model__learning_rate': 0.09998507726440822, 'model__num_iterations': 27}\n",
      "Best score 0.7963333333333333\n",
      "Best model FrozenTrial(number=152, values=[0.7963333333333333], datetime_start=datetime.datetime(2023, 6, 25, 6, 44, 43, 454478), datetime_complete=datetime.datetime(2023, 6, 25, 6, 44, 44, 150882), params={'model__num_leaves': 190, 'model__min_data_in_leaf': 67, 'model__max_depth': 11, 'model__learning_rate': 0.09998507726440822, 'model__num_iterations': 27}, distributions={'model__num_leaves': IntDistribution(high=200, log=False, low=20, step=1), 'model__min_data_in_leaf': IntDistribution(high=1500, log=False, low=50, step=1), 'model__max_depth': IntDistribution(high=20, log=False, low=4, step=1), 'model__learning_rate': FloatDistribution(high=0.1, log=False, low=0.01, step=None), 'model__num_iterations': IntDistribution(high=27, log=False, low=3, step=1)}, user_attrs={}, system_attrs={}, intermediate_values={}, trial_id=152, state=TrialState.COMPLETE, value=None)\n"
     ]
    }
   ],
   "source": [
    "print('Best parameters', study.best_params)\n",
    "print('Best score', study.best_value)\n",
    "print('Best model', study.best_trial)"
   ]
  },
  {
   "cell_type": "markdown",
   "metadata": {},
   "source": [
    "### Re-fit the model using the best parameters"
   ]
  },
  {
   "cell_type": "code",
   "execution_count": 43,
   "metadata": {},
   "outputs": [
    {
     "name": "stdout",
     "output_type": "stream",
     "text": [
      "[LightGBM] [Warning] min_data_in_leaf is set=67, min_child_samples=20 will be ignored. Current value: min_data_in_leaf=67\n",
      "Accuracy:  0.7963333333333333\n",
      "AUC:  0.7271729129479123\n",
      "              precision    recall  f1-score   support\n",
      "\n",
      "           0       0.82      0.90      0.86      4178\n",
      "           1       0.71      0.55      0.62      1822\n",
      "\n",
      "    accuracy                           0.80      6000\n",
      "   macro avg       0.77      0.73      0.74      6000\n",
      "weighted avg       0.79      0.80      0.79      6000\n",
      "\n"
     ]
    }
   ],
   "source": [
    "pipeline.set_params(**study.best_params)\n",
    "pipeline.fit(X_train, y_train)\n",
    "predictions = pipeline.predict(X_test)\n",
    "\n",
    "print('Accuracy: ', accuracy_score(y_test, predictions))\n",
    "print('AUC: ', roc_auc_score(y_test, predictions))\n",
    "print(classification_report(y_test, predictions))"
   ]
  },
  {
   "cell_type": "code",
   "execution_count": 44,
   "metadata": {},
   "outputs": [
    {
     "data": {
      "image/png": "[encoded data removed]",
      "text/plain": [
       "<Figure size 432x288 with 2 Axes>"
      ]
     },
     "metadata": {},
     "output_type": "display_data"
    }
   ],
   "source": [
    "cm = confusion_matrix(y_test, predictions)\n",
    "group_names = ['True Neg','False Pos','False Neg','True Pos']\n",
    "group_counts = [\"{0:0.0f}\".format(value) for value in cm.flatten()]\n",
    "group_percentages = [\"{0:.2%}\".format(value) for value in cm.flatten()/np.sum(cm)]\n",
    "labels = [f\"{v1}\\n{v2}\\n{v3}\" for v1, v2, v3 in zip(group_names, group_counts, group_percentages)]\n",
    "labels = np.asarray(labels).reshape(2,2)\n",
    "ax = sns.heatmap(cm, annot=labels, fmt='', cmap='plasma', lw=.5)\n",
    "\n",
    "ax.set_title('Confusion Matrix for LightGBM Model\\n');\n",
    "ax.set_xlabel('\\nPredicted Values')\n",
    "ax.set_ylabel('Actual Values');\n",
    "\n",
    "## Ticket labels - List must be in alphabetical order\n",
    "ax.xaxis.set_ticklabels(['False','True'])\n",
    "ax.yaxis.set_ticklabels(['False','True'])\n",
    "\n",
    "## Display the visualization of the Confusion Matrix.\n",
    "plt.show()"
   ]
  },
  {
   "cell_type": "code",
   "execution_count": 45,
   "metadata": {},
   "outputs": [
    {
     "name": "stdout",
     "output_type": "stream",
     "text": [
      "[LightGBM] [Warning] min_data_in_leaf is set=67, min_child_samples=20 will be ignored. Current value: min_data_in_leaf=67\n",
      "Accuracy: 0.763172338090011\n",
      "AUC: 0.7631723380900111\n",
      "              precision    recall  f1-score   support\n",
      "\n",
      "           0       0.76      0.76      0.76      1822\n",
      "           1       0.76      0.77      0.76      1822\n",
      "\n",
      "    accuracy                           0.76      3644\n",
      "   macro avg       0.76      0.76      0.76      3644\n",
      "weighted avg       0.76      0.76      0.76      3644\n",
      "\n"
     ]
    }
   ],
   "source": [
    "pipeline.set_params(**study.best_params)\n",
    "pipeline.fit(X_train_un, y_train_un)\n",
    "predictions = pipeline.predict(X_test_un)\n",
    "\n",
    "print('Accuracy:', accuracy_score(y_test_un, predictions))\n",
    "print('AUC:', roc_auc_score(y_test_un, predictions))\n",
    "print(classification_report(y_test_un, predictions))"
   ]
  },
  {
   "cell_type": "code",
   "execution_count": 46,
   "metadata": {},
   "outputs": [
    {
     "data": {
      "image/png": "[encoded data removed]",
      "text/plain": [
       "<Figure size 432x288 with 2 Axes>"
      ]
     },
     "metadata": {},
     "output_type": "display_data"
    }
   ],
   "source": [
    "cm = confusion_matrix(y_test_un, predictions)\n",
    "group_names = ['True Neg','False Pos','False Neg','True Pos']\n",
    "group_counts = [\"{0:0.0f}\".format(value) for value in cm.flatten()]\n",
    "group_percentages = [\"{0:.2%}\".format(value) for value in cm.flatten()/np.sum(cm)]\n",
    "labels = [f\"{v1}\\n{v2}\\n{v3}\" for v1, v2, v3 in zip(group_names, group_counts, group_percentages)]\n",
    "labels = np.asarray(labels).reshape(2,2)\n",
    "ax = sns.heatmap(cm, annot=labels, fmt='', cmap='plasma', lw=.5)\n",
    "\n",
    "ax.set_title('Confusion Matrix for LightGBM Model\\n');\n",
    "ax.set_xlabel('\\nPredicted Values')\n",
    "ax.set_ylabel('Actual Values');\n",
    "\n",
    "## Ticket labels - List must be in alphabetical order\n",
    "ax.xaxis.set_ticklabels(['False','True'])\n",
    "ax.yaxis.set_ticklabels(['False','True'])\n",
    "\n",
    "## Display the visualization of the Confusion Matrix.\n",
    "plt.show()"
   ]
  },
  {
   "cell_type": "code",
   "execution_count": 47,
   "metadata": {},
   "outputs": [
    {
     "name": "stdout",
     "output_type": "stream",
     "text": [
      "Accuracy: 0.7593333333333333\n",
      "AUC: 0.7674289703794726\n",
      "              precision    recall  f1-score   support\n",
      "\n",
      "           0       0.89      0.75      0.81      4179\n",
      "           1       0.58      0.79      0.67      1821\n",
      "\n",
      "    accuracy                           0.76      6000\n",
      "   macro avg       0.73      0.77      0.74      6000\n",
      "weighted avg       0.79      0.76      0.77      6000\n",
      "\n"
     ]
    }
   ],
   "source": [
    "val_predictions = pipeline.predict(X_val)\n",
    "\n",
    "print('Accuracy:', accuracy_score(y_val, val_predictions))\n",
    "print('AUC:', roc_auc_score(y_val, val_predictions))\n",
    "print(classification_report(y_val, val_predictions))"
   ]
  },
  {
   "cell_type": "code",
   "execution_count": 48,
   "metadata": {},
   "outputs": [
    {
     "data": {
      "image/png": "[encoded data removed]",
      "text/plain": [
       "<Figure size 432x288 with 2 Axes>"
      ]
     },
     "metadata": {},
     "output_type": "display_data"
    }
   ],
   "source": [
    "cm = confusion_matrix(y_val, val_predictions)\n",
    "group_names = ['True Neg','False Pos','False Neg','True Pos']\n",
    "group_counts = [\"{0:0.0f}\".format(value) for value in cm.flatten()]\n",
    "group_percentages = [\"{0:.2%}\".format(value) for value in cm.flatten()/np.sum(cm)]\n",
    "labels = [f\"{v1}\\n{v2}\\n{v3}\" for v1, v2, v3 in zip(group_names, group_counts, group_percentages)]\n",
    "labels = np.asarray(labels).reshape(2,2)\n",
    "ax = sns.heatmap(cm, annot=labels, fmt='', cmap='plasma', lw=.5)\n",
    "\n",
    "ax.set_title('Confusion Matrix for LightGBM Model\\n');\n",
    "ax.set_xlabel('\\nPredicted Values')\n",
    "ax.set_ylabel('Actual Values');\n",
    "\n",
    "## Ticket labels - List must be in alphabetical order\n",
    "ax.xaxis.set_ticklabels(['False','True'])\n",
    "ax.yaxis.set_ticklabels(['False','True'])\n",
    "\n",
    "## Display the visualization of the Confusion Matrix.\n",
    "plt.show()"
   ]
  }
 ],
 "metadata": {
  "kernelspec": {
   "display_name": "Python 3",
   "language": "python",
   "name": "python3"
  },
  "language_info": {
   "codemirror_mode": {
    "name": "ipython",
    "version": 3
   },
   "file_extension": ".py",
   "mimetype": "text/x-python",
   "name": "python",
   "nbconvert_exporter": "python",
   "pygments_lexer": "ipython3",
   "version": "3.6.9"
  }
 },
 "nbformat": 4,
 "nbformat_minor": 4
}
